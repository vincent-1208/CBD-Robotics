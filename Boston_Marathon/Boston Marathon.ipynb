{
 "cells": [
  {
   "cell_type": "markdown",
   "metadata": {},
   "source": [
    "# BOSTON MARATHON"
   ]
  },
  {
   "cell_type": "markdown",
   "metadata": {},
   "source": [
    "# I INTRODUCTION:"
   ]
  },
  {
   "cell_type": "markdown",
   "metadata": {},
   "source": [
    "Bib: Athlete's number"
   ]
  },
  {
   "cell_type": "markdown",
   "metadata": {},
   "source": [
    "Name: Athlete's name"
   ]
  },
  {
   "cell_type": "markdown",
   "metadata": {},
   "source": [
    "Age: Athlete's age"
   ]
  },
  {
   "cell_type": "markdown",
   "metadata": {},
   "source": [
    "M/F:Male or Female"
   ]
  },
  {
   "cell_type": "markdown",
   "metadata": {},
   "source": [
    "City: Athele's city"
   ]
  },
  {
   "cell_type": "markdown",
   "metadata": {},
   "source": [
    "State: Athele's state"
   ]
  },
  {
   "cell_type": "markdown",
   "metadata": {},
   "source": [
    "Country: Athele's country"
   ]
  },
  {
   "cell_type": "markdown",
   "metadata": {},
   "source": [
    "Citizen: Athele's nationality"
   ]
  },
  {
   "cell_type": "markdown",
   "metadata": {},
   "source": [
    "5K: Running time 5km"
   ]
  },
  {
   "cell_type": "markdown",
   "metadata": {},
   "source": [
    "10km: Running time 10km"
   ]
  },
  {
   "cell_type": "markdown",
   "metadata": {},
   "source": [
    "15km: Running time 15km"
   ]
  },
  {
   "cell_type": "markdown",
   "metadata": {},
   "source": [
    "20km: Running time 20km"
   ]
  },
  {
   "cell_type": "markdown",
   "metadata": {},
   "source": [
    "Half: Running time Half"
   ]
  },
  {
   "cell_type": "markdown",
   "metadata": {},
   "source": [
    "25km: Running time 25km"
   ]
  },
  {
   "cell_type": "markdown",
   "metadata": {},
   "source": [
    "30km: Running time 30km"
   ]
  },
  {
   "cell_type": "markdown",
   "metadata": {},
   "source": [
    "35km: Running time 35km"
   ]
  },
  {
   "cell_type": "markdown",
   "metadata": {},
   "source": [
    "40km: Running time 40km"
   ]
  },
  {
   "cell_type": "markdown",
   "metadata": {},
   "source": [
    "Pace: Running time in 1 minute"
   ]
  },
  {
   "cell_type": "markdown",
   "metadata": {},
   "source": [
    "Proj Time: "
   ]
  },
  {
   "cell_type": "markdown",
   "metadata": {},
   "source": [
    "Official Time: Official runtime"
   ]
  },
  {
   "cell_type": "markdown",
   "metadata": {},
   "source": [
    "Overall: Ranking on total number of athele"
   ]
  },
  {
   "cell_type": "markdown",
   "metadata": {},
   "source": [
    "Gender: Ranking by gender"
   ]
  },
  {
   "cell_type": "markdown",
   "metadata": {},
   "source": [
    "Division: Ranking by age"
   ]
  },
  {
   "cell_type": "markdown",
   "metadata": {},
   "source": [
    "# II CONTENT:"
   ]
  },
  {
   "cell_type": "markdown",
   "metadata": {},
   "source": [
    "## 1. Import packets and dataset"
   ]
  },
  {
   "cell_type": "code",
   "execution_count": 1,
   "metadata": {},
   "outputs": [],
   "source": [
    "import numpy as np\n",
    "import pandas as pd\n",
    "\n",
    "from matplotlib import pyplot as plt\n",
    "import seaborn as sns\n",
    "\n",
    "from datetime import datetime\n",
    "from sklearn.preprocessing import LabelEncoder, StandardScaler, MinMaxScaler\n",
    "from sklearn.cluster import KMeans"
   ]
  },
  {
   "cell_type": "code",
   "execution_count": 2,
   "metadata": {},
   "outputs": [],
   "source": [
    "original  = pd.read_csv('marathon_results_2016.csv')"
   ]
  },
  {
   "cell_type": "code",
   "execution_count": 3,
   "metadata": {},
   "outputs": [
    {
     "data": {
      "text/html": [
       "<div>\n",
       "<style scoped>\n",
       "    .dataframe tbody tr th:only-of-type {\n",
       "        vertical-align: middle;\n",
       "    }\n",
       "\n",
       "    .dataframe tbody tr th {\n",
       "        vertical-align: top;\n",
       "    }\n",
       "\n",
       "    .dataframe thead th {\n",
       "        text-align: right;\n",
       "    }\n",
       "</style>\n",
       "<table border=\"1\" class=\"dataframe\">\n",
       "  <thead>\n",
       "    <tr style=\"text-align: right;\">\n",
       "      <th></th>\n",
       "      <th>Bib</th>\n",
       "      <th>Name</th>\n",
       "      <th>Age</th>\n",
       "      <th>M/F</th>\n",
       "      <th>City</th>\n",
       "      <th>State</th>\n",
       "      <th>Country</th>\n",
       "      <th>Citizen</th>\n",
       "      <th>Unnamed: 8</th>\n",
       "      <th>5K</th>\n",
       "      <th>...</th>\n",
       "      <th>25K</th>\n",
       "      <th>30K</th>\n",
       "      <th>35K</th>\n",
       "      <th>40K</th>\n",
       "      <th>Pace</th>\n",
       "      <th>Proj Time</th>\n",
       "      <th>Official Time</th>\n",
       "      <th>Overall</th>\n",
       "      <th>Gender</th>\n",
       "      <th>Division</th>\n",
       "    </tr>\n",
       "  </thead>\n",
       "  <tbody>\n",
       "    <tr>\n",
       "      <th>0</th>\n",
       "      <td>5</td>\n",
       "      <td>Hayle, Lemi Berhanu</td>\n",
       "      <td>21</td>\n",
       "      <td>M</td>\n",
       "      <td>Addis Ababa</td>\n",
       "      <td>NaN</td>\n",
       "      <td>ETH</td>\n",
       "      <td>NaN</td>\n",
       "      <td>NaN</td>\n",
       "      <td>0:15:47</td>\n",
       "      <td>...</td>\n",
       "      <td>1:19:15</td>\n",
       "      <td>1:34:17</td>\n",
       "      <td>1:50:24</td>\n",
       "      <td>2:05:59</td>\n",
       "      <td>0:05:04</td>\n",
       "      <td>2:12:45</td>\n",
       "      <td>2:12:45</td>\n",
       "      <td>1</td>\n",
       "      <td>1</td>\n",
       "      <td>1</td>\n",
       "    </tr>\n",
       "    <tr>\n",
       "      <th>1</th>\n",
       "      <td>1</td>\n",
       "      <td>Desisa, Lelisa</td>\n",
       "      <td>26</td>\n",
       "      <td>M</td>\n",
       "      <td>Ambo</td>\n",
       "      <td>NaN</td>\n",
       "      <td>ETH</td>\n",
       "      <td>NaN</td>\n",
       "      <td>NaN</td>\n",
       "      <td>0:15:47</td>\n",
       "      <td>...</td>\n",
       "      <td>1:19:15</td>\n",
       "      <td>1:34:17</td>\n",
       "      <td>1:50:24</td>\n",
       "      <td>2:05:59</td>\n",
       "      <td>0:05:06</td>\n",
       "      <td>2:13:32</td>\n",
       "      <td>2:13:32</td>\n",
       "      <td>2</td>\n",
       "      <td>2</td>\n",
       "      <td>2</td>\n",
       "    </tr>\n",
       "    <tr>\n",
       "      <th>2</th>\n",
       "      <td>6</td>\n",
       "      <td>Tsegay, Yemane Adhane</td>\n",
       "      <td>31</td>\n",
       "      <td>M</td>\n",
       "      <td>Addis Ababa</td>\n",
       "      <td>NaN</td>\n",
       "      <td>ETH</td>\n",
       "      <td>NaN</td>\n",
       "      <td>NaN</td>\n",
       "      <td>0:15:46</td>\n",
       "      <td>...</td>\n",
       "      <td>1:19:15</td>\n",
       "      <td>1:34:45</td>\n",
       "      <td>1:50:48</td>\n",
       "      <td>2:06:47</td>\n",
       "      <td>0:05:07</td>\n",
       "      <td>2:14:02</td>\n",
       "      <td>2:14:02</td>\n",
       "      <td>3</td>\n",
       "      <td>3</td>\n",
       "      <td>3</td>\n",
       "    </tr>\n",
       "    <tr>\n",
       "      <th>3</th>\n",
       "      <td>11</td>\n",
       "      <td>Korir, Wesley</td>\n",
       "      <td>33</td>\n",
       "      <td>M</td>\n",
       "      <td>Kitale</td>\n",
       "      <td>NaN</td>\n",
       "      <td>KEN</td>\n",
       "      <td>NaN</td>\n",
       "      <td>NaN</td>\n",
       "      <td>0:15:46</td>\n",
       "      <td>...</td>\n",
       "      <td>1:19:16</td>\n",
       "      <td>1:34:45</td>\n",
       "      <td>1:50:48</td>\n",
       "      <td>2:06:47</td>\n",
       "      <td>0:05:07</td>\n",
       "      <td>2:14:05</td>\n",
       "      <td>2:14:05</td>\n",
       "      <td>4</td>\n",
       "      <td>4</td>\n",
       "      <td>4</td>\n",
       "    </tr>\n",
       "    <tr>\n",
       "      <th>4</th>\n",
       "      <td>14</td>\n",
       "      <td>Lonyangata, Paul</td>\n",
       "      <td>23</td>\n",
       "      <td>M</td>\n",
       "      <td>Eldoret</td>\n",
       "      <td>NaN</td>\n",
       "      <td>KEN</td>\n",
       "      <td>NaN</td>\n",
       "      <td>NaN</td>\n",
       "      <td>0:15:46</td>\n",
       "      <td>...</td>\n",
       "      <td>1:19:18</td>\n",
       "      <td>1:34:46</td>\n",
       "      <td>1:51:30</td>\n",
       "      <td>2:08:11</td>\n",
       "      <td>0:05:11</td>\n",
       "      <td>2:15:45</td>\n",
       "      <td>2:15:45</td>\n",
       "      <td>5</td>\n",
       "      <td>5</td>\n",
       "      <td>5</td>\n",
       "    </tr>\n",
       "  </tbody>\n",
       "</table>\n",
       "<p>5 rows × 24 columns</p>\n",
       "</div>"
      ],
      "text/plain": [
       "  Bib                   Name  Age M/F         City State Country Citizen  \\\n",
       "0   5    Hayle, Lemi Berhanu   21   M  Addis Ababa   NaN     ETH     NaN   \n",
       "1   1         Desisa, Lelisa   26   M         Ambo   NaN     ETH     NaN   \n",
       "2   6  Tsegay, Yemane Adhane   31   M  Addis Ababa   NaN     ETH     NaN   \n",
       "3  11          Korir, Wesley   33   M       Kitale   NaN     KEN     NaN   \n",
       "4  14       Lonyangata, Paul   23   M      Eldoret   NaN     KEN     NaN   \n",
       "\n",
       "  Unnamed: 8       5K  ...      25K      30K      35K      40K     Pace  \\\n",
       "0        NaN  0:15:47  ...  1:19:15  1:34:17  1:50:24  2:05:59  0:05:04   \n",
       "1        NaN  0:15:47  ...  1:19:15  1:34:17  1:50:24  2:05:59  0:05:06   \n",
       "2        NaN  0:15:46  ...  1:19:15  1:34:45  1:50:48  2:06:47  0:05:07   \n",
       "3        NaN  0:15:46  ...  1:19:16  1:34:45  1:50:48  2:06:47  0:05:07   \n",
       "4        NaN  0:15:46  ...  1:19:18  1:34:46  1:51:30  2:08:11  0:05:11   \n",
       "\n",
       "  Proj Time Official Time Overall Gender Division  \n",
       "0   2:12:45       2:12:45       1      1        1  \n",
       "1   2:13:32       2:13:32       2      2        2  \n",
       "2   2:14:02       2:14:02       3      3        3  \n",
       "3   2:14:05       2:14:05       4      4        4  \n",
       "4   2:15:45       2:15:45       5      5        5  \n",
       "\n",
       "[5 rows x 24 columns]"
      ]
     },
     "execution_count": 3,
     "metadata": {},
     "output_type": "execute_result"
    }
   ],
   "source": [
    "original.head()"
   ]
  },
  {
   "cell_type": "code",
   "execution_count": 4,
   "metadata": {},
   "outputs": [
    {
     "data": {
      "text/plain": [
       "(26630, 24)"
      ]
     },
     "execution_count": 4,
     "metadata": {},
     "output_type": "execute_result"
    }
   ],
   "source": [
    "original.shape"
   ]
  },
  {
   "cell_type": "code",
   "execution_count": 5,
   "metadata": {
    "scrolled": false
   },
   "outputs": [
    {
     "name": "stdout",
     "output_type": "stream",
     "text": [
      "<class 'pandas.core.frame.DataFrame'>\n",
      "RangeIndex: 26630 entries, 0 to 26629\n",
      "Data columns (total 24 columns):\n",
      " #   Column         Non-Null Count  Dtype \n",
      "---  ------         --------------  ----- \n",
      " 0   Bib            26630 non-null  object\n",
      " 1   Name           26630 non-null  object\n",
      " 2   Age            26630 non-null  int64 \n",
      " 3   M/F            26630 non-null  object\n",
      " 4   City           26629 non-null  object\n",
      " 5   State          23783 non-null  object\n",
      " 6   Country        26630 non-null  object\n",
      " 7   Citizen        1122 non-null   object\n",
      " 8   Unnamed: 8     83 non-null     object\n",
      " 9   5K             26630 non-null  object\n",
      " 10  10K            26630 non-null  object\n",
      " 11  15K            26630 non-null  object\n",
      " 12  20K            26630 non-null  object\n",
      " 13  Half           26630 non-null  object\n",
      " 14  25K            26630 non-null  object\n",
      " 15  30K            26630 non-null  object\n",
      " 16  35K            26630 non-null  object\n",
      " 17  40K            26630 non-null  object\n",
      " 18  Pace           26630 non-null  object\n",
      " 19  Proj Time      26630 non-null  object\n",
      " 20  Official Time  26630 non-null  object\n",
      " 21  Overall        26630 non-null  int64 \n",
      " 22  Gender         26630 non-null  int64 \n",
      " 23  Division       26630 non-null  int64 \n",
      "dtypes: int64(4), object(20)\n",
      "memory usage: 4.9+ MB\n"
     ]
    }
   ],
   "source": [
    "original.info()"
   ]
  },
  {
   "cell_type": "markdown",
   "metadata": {},
   "source": [
    "int64: 4 features"
   ]
  },
  {
   "cell_type": "markdown",
   "metadata": {},
   "source": [
    "object: 20 features"
   ]
  },
  {
   "cell_type": "markdown",
   "metadata": {},
   "source": [
    " # 2. Handle missing value"
   ]
  },
  {
   "cell_type": "code",
   "execution_count": 6,
   "metadata": {},
   "outputs": [
    {
     "data": {
      "text/html": [
       "<div>\n",
       "<style scoped>\n",
       "    .dataframe tbody tr th:only-of-type {\n",
       "        vertical-align: middle;\n",
       "    }\n",
       "\n",
       "    .dataframe tbody tr th {\n",
       "        vertical-align: top;\n",
       "    }\n",
       "\n",
       "    .dataframe thead th {\n",
       "        text-align: right;\n",
       "    }\n",
       "</style>\n",
       "<table border=\"1\" class=\"dataframe\">\n",
       "  <thead>\n",
       "    <tr style=\"text-align: right;\">\n",
       "      <th></th>\n",
       "      <th>dtypes</th>\n",
       "      <th>missing values</th>\n",
       "      <th>% missing values</th>\n",
       "    </tr>\n",
       "  </thead>\n",
       "  <tbody>\n",
       "    <tr>\n",
       "      <th>Bib</th>\n",
       "      <td>object</td>\n",
       "      <td>0</td>\n",
       "      <td>0.000000</td>\n",
       "    </tr>\n",
       "    <tr>\n",
       "      <th>Name</th>\n",
       "      <td>object</td>\n",
       "      <td>0</td>\n",
       "      <td>0.000000</td>\n",
       "    </tr>\n",
       "    <tr>\n",
       "      <th>Age</th>\n",
       "      <td>int64</td>\n",
       "      <td>0</td>\n",
       "      <td>0.000000</td>\n",
       "    </tr>\n",
       "    <tr>\n",
       "      <th>M/F</th>\n",
       "      <td>object</td>\n",
       "      <td>0</td>\n",
       "      <td>0.000000</td>\n",
       "    </tr>\n",
       "    <tr>\n",
       "      <th>City</th>\n",
       "      <td>object</td>\n",
       "      <td>1</td>\n",
       "      <td>0.003755</td>\n",
       "    </tr>\n",
       "    <tr>\n",
       "      <th>State</th>\n",
       "      <td>object</td>\n",
       "      <td>2847</td>\n",
       "      <td>10.690950</td>\n",
       "    </tr>\n",
       "    <tr>\n",
       "      <th>Country</th>\n",
       "      <td>object</td>\n",
       "      <td>0</td>\n",
       "      <td>0.000000</td>\n",
       "    </tr>\n",
       "    <tr>\n",
       "      <th>Citizen</th>\n",
       "      <td>object</td>\n",
       "      <td>25508</td>\n",
       "      <td>95.786707</td>\n",
       "    </tr>\n",
       "    <tr>\n",
       "      <th>Unnamed: 8</th>\n",
       "      <td>object</td>\n",
       "      <td>26547</td>\n",
       "      <td>99.688321</td>\n",
       "    </tr>\n",
       "    <tr>\n",
       "      <th>5K</th>\n",
       "      <td>object</td>\n",
       "      <td>0</td>\n",
       "      <td>0.000000</td>\n",
       "    </tr>\n",
       "    <tr>\n",
       "      <th>10K</th>\n",
       "      <td>object</td>\n",
       "      <td>0</td>\n",
       "      <td>0.000000</td>\n",
       "    </tr>\n",
       "    <tr>\n",
       "      <th>15K</th>\n",
       "      <td>object</td>\n",
       "      <td>0</td>\n",
       "      <td>0.000000</td>\n",
       "    </tr>\n",
       "    <tr>\n",
       "      <th>20K</th>\n",
       "      <td>object</td>\n",
       "      <td>0</td>\n",
       "      <td>0.000000</td>\n",
       "    </tr>\n",
       "    <tr>\n",
       "      <th>Half</th>\n",
       "      <td>object</td>\n",
       "      <td>0</td>\n",
       "      <td>0.000000</td>\n",
       "    </tr>\n",
       "    <tr>\n",
       "      <th>25K</th>\n",
       "      <td>object</td>\n",
       "      <td>0</td>\n",
       "      <td>0.000000</td>\n",
       "    </tr>\n",
       "    <tr>\n",
       "      <th>30K</th>\n",
       "      <td>object</td>\n",
       "      <td>0</td>\n",
       "      <td>0.000000</td>\n",
       "    </tr>\n",
       "    <tr>\n",
       "      <th>35K</th>\n",
       "      <td>object</td>\n",
       "      <td>0</td>\n",
       "      <td>0.000000</td>\n",
       "    </tr>\n",
       "    <tr>\n",
       "      <th>40K</th>\n",
       "      <td>object</td>\n",
       "      <td>0</td>\n",
       "      <td>0.000000</td>\n",
       "    </tr>\n",
       "    <tr>\n",
       "      <th>Pace</th>\n",
       "      <td>object</td>\n",
       "      <td>0</td>\n",
       "      <td>0.000000</td>\n",
       "    </tr>\n",
       "    <tr>\n",
       "      <th>Proj Time</th>\n",
       "      <td>object</td>\n",
       "      <td>0</td>\n",
       "      <td>0.000000</td>\n",
       "    </tr>\n",
       "    <tr>\n",
       "      <th>Official Time</th>\n",
       "      <td>object</td>\n",
       "      <td>0</td>\n",
       "      <td>0.000000</td>\n",
       "    </tr>\n",
       "    <tr>\n",
       "      <th>Overall</th>\n",
       "      <td>int64</td>\n",
       "      <td>0</td>\n",
       "      <td>0.000000</td>\n",
       "    </tr>\n",
       "    <tr>\n",
       "      <th>Gender</th>\n",
       "      <td>int64</td>\n",
       "      <td>0</td>\n",
       "      <td>0.000000</td>\n",
       "    </tr>\n",
       "    <tr>\n",
       "      <th>Division</th>\n",
       "      <td>int64</td>\n",
       "      <td>0</td>\n",
       "      <td>0.000000</td>\n",
       "    </tr>\n",
       "  </tbody>\n",
       "</table>\n",
       "</div>"
      ],
      "text/plain": [
       "               dtypes  missing values  % missing values\n",
       "Bib            object               0          0.000000\n",
       "Name           object               0          0.000000\n",
       "Age             int64               0          0.000000\n",
       "M/F            object               0          0.000000\n",
       "City           object               1          0.003755\n",
       "State          object            2847         10.690950\n",
       "Country        object               0          0.000000\n",
       "Citizen        object           25508         95.786707\n",
       "Unnamed: 8     object           26547         99.688321\n",
       "5K             object               0          0.000000\n",
       "10K            object               0          0.000000\n",
       "15K            object               0          0.000000\n",
       "20K            object               0          0.000000\n",
       "Half           object               0          0.000000\n",
       "25K            object               0          0.000000\n",
       "30K            object               0          0.000000\n",
       "35K            object               0          0.000000\n",
       "40K            object               0          0.000000\n",
       "Pace           object               0          0.000000\n",
       "Proj Time      object               0          0.000000\n",
       "Official Time  object               0          0.000000\n",
       "Overall         int64               0          0.000000\n",
       "Gender          int64               0          0.000000\n",
       "Division        int64               0          0.000000"
      ]
     },
     "execution_count": 6,
     "metadata": {},
     "output_type": "execute_result"
    }
   ],
   "source": [
    "types = original.dtypes.to_frame().rename(columns={0:'dtypes'})\n",
    "null = original.isnull().sum().to_frame().rename(columns={0:'missing values'})\n",
    "null_percent = (original.isnull().sum()/original.shape[0]*100).to_frame().rename(columns={0:'% missing values'})\n",
    "df_missing = pd.concat([types, null, null_percent], axis=1)\n",
    "df_missing"
   ]
  },
  {
   "cell_type": "code",
   "execution_count": 7,
   "metadata": {},
   "outputs": [],
   "source": [
    "#Drop feature Rank_Tot and Country_code\n",
    "df1 = original.drop(columns = {'Bib', 'Unnamed: 8','City', 'Citizen', 'Proj Time'})\n",
    "df1 = df1.dropna()"
   ]
  },
  {
   "cell_type": "code",
   "execution_count": 8,
   "metadata": {},
   "outputs": [
    {
     "data": {
      "text/html": [
       "<div>\n",
       "<style scoped>\n",
       "    .dataframe tbody tr th:only-of-type {\n",
       "        vertical-align: middle;\n",
       "    }\n",
       "\n",
       "    .dataframe tbody tr th {\n",
       "        vertical-align: top;\n",
       "    }\n",
       "\n",
       "    .dataframe thead th {\n",
       "        text-align: right;\n",
       "    }\n",
       "</style>\n",
       "<table border=\"1\" class=\"dataframe\">\n",
       "  <thead>\n",
       "    <tr style=\"text-align: right;\">\n",
       "      <th></th>\n",
       "      <th>Name</th>\n",
       "      <th>Age</th>\n",
       "      <th>M/F</th>\n",
       "      <th>State</th>\n",
       "      <th>Country</th>\n",
       "      <th>5K</th>\n",
       "      <th>10K</th>\n",
       "      <th>15K</th>\n",
       "      <th>20K</th>\n",
       "      <th>Half</th>\n",
       "      <th>25K</th>\n",
       "      <th>30K</th>\n",
       "      <th>35K</th>\n",
       "      <th>40K</th>\n",
       "      <th>Pace</th>\n",
       "      <th>Official Time</th>\n",
       "      <th>Overall</th>\n",
       "      <th>Gender</th>\n",
       "      <th>Division</th>\n",
       "    </tr>\n",
       "  </thead>\n",
       "  <tbody>\n",
       "    <tr>\n",
       "      <th>9</th>\n",
       "      <td>Hine, Zachary</td>\n",
       "      <td>28</td>\n",
       "      <td>M</td>\n",
       "      <td>TX</td>\n",
       "      <td>USA</td>\n",
       "      <td>0:16:03</td>\n",
       "      <td>0:32:08</td>\n",
       "      <td>0:48:14</td>\n",
       "      <td>1:04:25</td>\n",
       "      <td>1:07:57</td>\n",
       "      <td>1:20:38</td>\n",
       "      <td>1:37:26</td>\n",
       "      <td>1:54:46</td>\n",
       "      <td>2:12:47</td>\n",
       "      <td>0:05:25</td>\n",
       "      <td>2:21:37</td>\n",
       "      <td>10</td>\n",
       "      <td>10</td>\n",
       "      <td>10</td>\n",
       "    </tr>\n",
       "    <tr>\n",
       "      <th>12</th>\n",
       "      <td>Burrell, Ian</td>\n",
       "      <td>31</td>\n",
       "      <td>M</td>\n",
       "      <td>CO</td>\n",
       "      <td>USA</td>\n",
       "      <td>0:15:54</td>\n",
       "      <td>0:31:47</td>\n",
       "      <td>0:47:53</td>\n",
       "      <td>1:04:44</td>\n",
       "      <td>1:08:24</td>\n",
       "      <td>1:21:45</td>\n",
       "      <td>1:39:24</td>\n",
       "      <td>1:57:02</td>\n",
       "      <td>2:14:39</td>\n",
       "      <td>0:05:26</td>\n",
       "      <td>2:22:22</td>\n",
       "      <td>13</td>\n",
       "      <td>13</td>\n",
       "      <td>13</td>\n",
       "    </tr>\n",
       "    <tr>\n",
       "      <th>14</th>\n",
       "      <td>Okuti, Harbert</td>\n",
       "      <td>30</td>\n",
       "      <td>M</td>\n",
       "      <td>NY</td>\n",
       "      <td>USA</td>\n",
       "      <td>0:15:53</td>\n",
       "      <td>0:32:00</td>\n",
       "      <td>0:48:23</td>\n",
       "      <td>1:05:11</td>\n",
       "      <td>1:08:48</td>\n",
       "      <td>1:22:16</td>\n",
       "      <td>1:39:45</td>\n",
       "      <td>1:57:52</td>\n",
       "      <td>2:16:22</td>\n",
       "      <td>0:05:32</td>\n",
       "      <td>2:24:46</td>\n",
       "      <td>15</td>\n",
       "      <td>15</td>\n",
       "      <td>15</td>\n",
       "    </tr>\n",
       "    <tr>\n",
       "      <th>16</th>\n",
       "      <td>Wells, Clint</td>\n",
       "      <td>40</td>\n",
       "      <td>M</td>\n",
       "      <td>CO</td>\n",
       "      <td>USA</td>\n",
       "      <td>0:16:26</td>\n",
       "      <td>0:32:52</td>\n",
       "      <td>0:49:30</td>\n",
       "      <td>1:06:29</td>\n",
       "      <td>1:10:15</td>\n",
       "      <td>1:23:42</td>\n",
       "      <td>1:41:18</td>\n",
       "      <td>1:59:16</td>\n",
       "      <td>2:16:51</td>\n",
       "      <td>0:05:32</td>\n",
       "      <td>2:24:55</td>\n",
       "      <td>17</td>\n",
       "      <td>17</td>\n",
       "      <td>1</td>\n",
       "    </tr>\n",
       "    <tr>\n",
       "      <th>20</th>\n",
       "      <td>Williams, Andy</td>\n",
       "      <td>28</td>\n",
       "      <td>M</td>\n",
       "      <td>IN</td>\n",
       "      <td>USA</td>\n",
       "      <td>0:16:21</td>\n",
       "      <td>0:33:03</td>\n",
       "      <td>0:50:17</td>\n",
       "      <td>1:07:54</td>\n",
       "      <td>1:11:40</td>\n",
       "      <td>1:25:23</td>\n",
       "      <td>1:43:23</td>\n",
       "      <td>2:01:45</td>\n",
       "      <td>2:19:24</td>\n",
       "      <td>0:05:37</td>\n",
       "      <td>2:27:07</td>\n",
       "      <td>21</td>\n",
       "      <td>21</td>\n",
       "      <td>20</td>\n",
       "    </tr>\n",
       "  </tbody>\n",
       "</table>\n",
       "</div>"
      ],
      "text/plain": [
       "              Name  Age M/F State Country       5K      10K      15K      20K  \\\n",
       "9    Hine, Zachary   28   M    TX     USA  0:16:03  0:32:08  0:48:14  1:04:25   \n",
       "12    Burrell, Ian   31   M    CO     USA  0:15:54  0:31:47  0:47:53  1:04:44   \n",
       "14  Okuti, Harbert   30   M    NY     USA  0:15:53  0:32:00  0:48:23  1:05:11   \n",
       "16    Wells, Clint   40   M    CO     USA  0:16:26  0:32:52  0:49:30  1:06:29   \n",
       "20  Williams, Andy   28   M    IN     USA  0:16:21  0:33:03  0:50:17  1:07:54   \n",
       "\n",
       "       Half      25K      30K      35K      40K     Pace Official Time  \\\n",
       "9   1:07:57  1:20:38  1:37:26  1:54:46  2:12:47  0:05:25       2:21:37   \n",
       "12  1:08:24  1:21:45  1:39:24  1:57:02  2:14:39  0:05:26       2:22:22   \n",
       "14  1:08:48  1:22:16  1:39:45  1:57:52  2:16:22  0:05:32       2:24:46   \n",
       "16  1:10:15  1:23:42  1:41:18  1:59:16  2:16:51  0:05:32       2:24:55   \n",
       "20  1:11:40  1:25:23  1:43:23  2:01:45  2:19:24  0:05:37       2:27:07   \n",
       "\n",
       "    Overall  Gender  Division  \n",
       "9        10      10        10  \n",
       "12       13      13        13  \n",
       "14       15      15        15  \n",
       "16       17      17         1  \n",
       "20       21      21        20  "
      ]
     },
     "execution_count": 8,
     "metadata": {},
     "output_type": "execute_result"
    }
   ],
   "source": [
    "df1.head()"
   ]
  },
  {
   "cell_type": "markdown",
   "metadata": {},
   "source": [
    "## 3 Univariate analysis"
   ]
  },
  {
   "cell_type": "markdown",
   "metadata": {},
   "source": [
    "### 3.1 Object variable"
   ]
  },
  {
   "cell_type": "code",
   "execution_count": 9,
   "metadata": {},
   "outputs": [
    {
     "data": {
      "text/html": [
       "<div>\n",
       "<style scoped>\n",
       "    .dataframe tbody tr th:only-of-type {\n",
       "        vertical-align: middle;\n",
       "    }\n",
       "\n",
       "    .dataframe tbody tr th {\n",
       "        vertical-align: top;\n",
       "    }\n",
       "\n",
       "    .dataframe thead th {\n",
       "        text-align: right;\n",
       "    }\n",
       "</style>\n",
       "<table border=\"1\" class=\"dataframe\">\n",
       "  <thead>\n",
       "    <tr style=\"text-align: right;\">\n",
       "      <th></th>\n",
       "      <th>Name</th>\n",
       "      <th>M/F</th>\n",
       "      <th>State</th>\n",
       "      <th>Country</th>\n",
       "      <th>5K</th>\n",
       "      <th>10K</th>\n",
       "      <th>15K</th>\n",
       "      <th>20K</th>\n",
       "      <th>Half</th>\n",
       "      <th>25K</th>\n",
       "      <th>30K</th>\n",
       "      <th>35K</th>\n",
       "      <th>40K</th>\n",
       "      <th>Pace</th>\n",
       "      <th>Official Time</th>\n",
       "    </tr>\n",
       "  </thead>\n",
       "  <tbody>\n",
       "    <tr>\n",
       "      <th>count</th>\n",
       "      <td>23783</td>\n",
       "      <td>23783</td>\n",
       "      <td>23783</td>\n",
       "      <td>23783</td>\n",
       "      <td>23783</td>\n",
       "      <td>23783</td>\n",
       "      <td>23783</td>\n",
       "      <td>23783</td>\n",
       "      <td>23783</td>\n",
       "      <td>23783</td>\n",
       "      <td>23783</td>\n",
       "      <td>23783</td>\n",
       "      <td>23783</td>\n",
       "      <td>23783</td>\n",
       "      <td>23783</td>\n",
       "    </tr>\n",
       "    <tr>\n",
       "      <th>unique</th>\n",
       "      <td>23718</td>\n",
       "      <td>2</td>\n",
       "      <td>67</td>\n",
       "      <td>2</td>\n",
       "      <td>1285</td>\n",
       "      <td>2425</td>\n",
       "      <td>3487</td>\n",
       "      <td>4497</td>\n",
       "      <td>4724</td>\n",
       "      <td>5519</td>\n",
       "      <td>6504</td>\n",
       "      <td>7502</td>\n",
       "      <td>8292</td>\n",
       "      <td>529</td>\n",
       "      <td>8558</td>\n",
       "    </tr>\n",
       "    <tr>\n",
       "      <th>top</th>\n",
       "      <td>Hoffman, Jennifer</td>\n",
       "      <td>M</td>\n",
       "      <td>MA</td>\n",
       "      <td>USA</td>\n",
       "      <td>0:24:45</td>\n",
       "      <td>0:49:43</td>\n",
       "      <td>1:13:32</td>\n",
       "      <td>1:38:27</td>\n",
       "      <td>1:44:40</td>\n",
       "      <td>2:05:51</td>\n",
       "      <td>-</td>\n",
       "      <td>3:03:19</td>\n",
       "      <td>3:40:02</td>\n",
       "      <td>0:08:56</td>\n",
       "      <td>3:36:17</td>\n",
       "    </tr>\n",
       "    <tr>\n",
       "      <th>freq</th>\n",
       "      <td>3</td>\n",
       "      <td>12370</td>\n",
       "      <td>4636</td>\n",
       "      <td>21649</td>\n",
       "      <td>68</td>\n",
       "      <td>39</td>\n",
       "      <td>30</td>\n",
       "      <td>24</td>\n",
       "      <td>23</td>\n",
       "      <td>19</td>\n",
       "      <td>19</td>\n",
       "      <td>17</td>\n",
       "      <td>14</td>\n",
       "      <td>140</td>\n",
       "      <td>14</td>\n",
       "    </tr>\n",
       "  </tbody>\n",
       "</table>\n",
       "</div>"
      ],
      "text/plain": [
       "                     Name    M/F  State Country       5K      10K      15K  \\\n",
       "count               23783  23783  23783   23783    23783    23783    23783   \n",
       "unique              23718      2     67       2     1285     2425     3487   \n",
       "top     Hoffman, Jennifer      M     MA     USA  0:24:45  0:49:43  1:13:32   \n",
       "freq                    3  12370   4636   21649       68       39       30   \n",
       "\n",
       "            20K     Half      25K    30K      35K      40K     Pace  \\\n",
       "count     23783    23783    23783  23783    23783    23783    23783   \n",
       "unique     4497     4724     5519   6504     7502     8292      529   \n",
       "top     1:38:27  1:44:40  2:05:51      -  3:03:19  3:40:02  0:08:56   \n",
       "freq         24       23       19     19       17       14      140   \n",
       "\n",
       "       Official Time  \n",
       "count          23783  \n",
       "unique          8558  \n",
       "top          3:36:17  \n",
       "freq              14  "
      ]
     },
     "execution_count": 9,
     "metadata": {},
     "output_type": "execute_result"
    }
   ],
   "source": [
    "df1.describe(include = \"O\")"
   ]
  },
  {
   "cell_type": "markdown",
   "metadata": {},
   "source": [
    "#### M/F"
   ]
  },
  {
   "cell_type": "code",
   "execution_count": 10,
   "metadata": {},
   "outputs": [],
   "source": [
    "gender = df1['M/F'].value_counts()"
   ]
  },
  {
   "cell_type": "code",
   "execution_count": 11,
   "metadata": {},
   "outputs": [
    {
     "data": {
      "text/plain": [
       "<AxesSubplot:title={'center':'Participation rate by gender'}, ylabel='M/F'>"
      ]
     },
     "execution_count": 11,
     "metadata": {},
     "output_type": "execute_result"
    },
    {
     "data": {
      "image/png": "[encoded data removed]",
      "text/plain": [
       "<Figure size 1080x648 with 1 Axes>"
      ]
     },
     "metadata": {},
     "output_type": "display_data"
    }
   ],
   "source": [
    "f,ax=plt.subplots(1,1,figsize=(15,9))\n",
    "ax.set_ylabel('')\n",
    "ax.set_title('Participation rate by gender')\n",
    "df1['M/F'].value_counts().plot.pie(autopct='%1.2f%%', shadow=False)"
   ]
  },
  {
   "cell_type": "code",
   "execution_count": 12,
   "metadata": {},
   "outputs": [
    {
     "data": {
      "text/plain": [
       "M    12370\n",
       "F    11413\n",
       "Name: M/F, dtype: int64"
      ]
     },
     "execution_count": 12,
     "metadata": {},
     "output_type": "execute_result"
    }
   ],
   "source": [
    "gender"
   ]
  },
  {
   "cell_type": "code",
   "execution_count": 13,
   "metadata": {},
   "outputs": [
    {
     "name": "stdout",
     "output_type": "stream",
     "text": [
      " Total number of athletes participating:  23783\n"
     ]
    }
   ],
   "source": [
    "print(\" Total number of athletes participating: \", gender.values[0] + gender.values[1])"
   ]
  },
  {
   "cell_type": "markdown",
   "metadata": {},
   "source": [
    "Athlete's female rate is less than athlete's male rate "
   ]
  },
  {
   "cell_type": "markdown",
   "metadata": {},
   "source": [
    "#### Country"
   ]
  },
  {
   "cell_type": "code",
   "execution_count": 14,
   "metadata": {},
   "outputs": [
    {
     "data": {
      "text/plain": [
       "USA    21649\n",
       "CAN     2134\n",
       "Name: Country, dtype: int64"
      ]
     },
     "execution_count": 14,
     "metadata": {},
     "output_type": "execute_result"
    }
   ],
   "source": [
    "df1['Country'].value_counts()"
   ]
  },
  {
   "cell_type": "code",
   "execution_count": 15,
   "metadata": {},
   "outputs": [],
   "source": [
    "males = df1[df1['M/F'] == 'M']\n",
    "females = df1[df1['M/F'] == 'F']"
   ]
  },
  {
   "cell_type": "code",
   "execution_count": 16,
   "metadata": {},
   "outputs": [
    {
     "data": {
      "image/png": "[encoded data removed]",
      "text/plain": [
       "<Figure size 2880x1440 with 2 Axes>"
      ]
     },
     "metadata": {},
     "output_type": "display_data"
    }
   ],
   "source": [
    "female_field = females['Country'].value_counts().head(5)\n",
    "male_field = males['Country'].value_counts().head(5)\n",
    "\n",
    "\n",
    "fig, ax = plt.subplots(2,1, figsize = (40,20))\n",
    "\n",
    "#Plotting Male Field\n",
    "ax[0].pie(male_field, labels = male_field.index, autopct='%1.2f%%')\n",
    "ax[0].legend(male_field,\n",
    "            title = 'Male Runners Fielded',\n",
    "            loc = 'center left',\n",
    "            bbox_to_anchor=(1.1, 0, 0.5, 1))\n",
    "ax[0].set_title('Top 5 Countries Fielding Male Runners', fontsize = 16)\n",
    "\n",
    "#Plotting Female field\n",
    "ax[1].pie(female_field, labels = female_field.index, autopct='%1.2f%%')\n",
    "ax[1].legend(female_field,\n",
    "            title = 'Female Runners Fielded',\n",
    "            loc = 'center left',\n",
    "            bbox_to_anchor=(1.1, 0, 0.5, 1))\n",
    "ax[1].set_title('Top 5 Countries Fielding Female Runners', fontsize = 16)\n",
    "\n",
    "\n",
    "plt.tight_layout()\n",
    "plt.show()"
   ]
  },
  {
   "cell_type": "markdown",
   "metadata": {},
   "source": [
    "America has the hightest ratio of male and female athletes in the world"
   ]
  },
  {
   "cell_type": "markdown",
   "metadata": {},
   "source": [
    "#### Pace"
   ]
  },
  {
   "cell_type": "code",
   "execution_count": 17,
   "metadata": {},
   "outputs": [
    {
     "name": "stderr",
     "output_type": "stream",
     "text": [
      "<>:2: SyntaxWarning: \"is not\" with a literal. Did you mean \"!=\"?\n",
      "<>:2: SyntaxWarning: \"is not\" with a literal. Did you mean \"!=\"?\n",
      "<ipython-input-17-4261efc334dc>:2: SyntaxWarning: \"is not\" with a literal. Did you mean \"!=\"?\n",
      "  if string is not '-':\n"
     ]
    }
   ],
   "source": [
    "def time_to_sec(string):\n",
    "    if string is not '-':\n",
    "        time_segments = string.split(':')\n",
    "        hours = int(time_segments[0])\n",
    "        mins = int(time_segments[1])\n",
    "        sec = int(time_segments[2])\n",
    "        time = hours*3600 + mins*60 + sec\n",
    "        return time\n",
    "    else:\n",
    "        return (-1)"
   ]
  },
  {
   "cell_type": "code",
   "execution_count": 18,
   "metadata": {},
   "outputs": [],
   "source": [
    "df1['pace_sec'] = df1['Pace'].apply(lambda x: time_to_sec(x))\n",
    "df1['5K_sec'] = df1['5K'].apply(lambda x: time_to_sec(x))\n",
    "df1['10K_sec'] = df1['10K'].apply(lambda x: time_to_sec(x))\n",
    "df1['15K_sec'] = df1['15K'].apply(lambda x: time_to_sec(x))\n",
    "df1['20K_sec'] = df1['20K'].apply(lambda x: time_to_sec(x))\n",
    "df1['Half_sec'] = df1['Half'].apply(lambda x: time_to_sec(x))\n",
    "df1['25K_sec'] = df1['25K'].apply(lambda x: time_to_sec(x))\n",
    "df1['30K_sec'] = df1['30K'].apply(lambda x: time_to_sec(x))\n",
    "df1['35K_sec'] = df1['35K'].apply(lambda x: time_to_sec(x))\n",
    "df1['40K_sec'] = df1['40K'].apply(lambda x: time_to_sec(x))\n",
    "\n",
    "df1 = df1.drop(columns = ['5K','10K','15K','20K','Half','25K','30K','35K','40K']).reset_index(drop=True)"
   ]
  },
  {
   "cell_type": "code",
   "execution_count": 19,
   "metadata": {},
   "outputs": [],
   "source": [
    "males = df1[df1['M/F'] == 'M']\n",
    "females= df1[(df1['M/F'] == 'F')]"
   ]
  },
  {
   "cell_type": "code",
   "execution_count": 20,
   "metadata": {},
   "outputs": [
    {
     "data": {
      "text/html": [
       "<div>\n",
       "<style scoped>\n",
       "    .dataframe tbody tr th:only-of-type {\n",
       "        vertical-align: middle;\n",
       "    }\n",
       "\n",
       "    .dataframe tbody tr th {\n",
       "        vertical-align: top;\n",
       "    }\n",
       "\n",
       "    .dataframe thead th {\n",
       "        text-align: right;\n",
       "    }\n",
       "</style>\n",
       "<table border=\"1\" class=\"dataframe\">\n",
       "  <thead>\n",
       "    <tr style=\"text-align: right;\">\n",
       "      <th></th>\n",
       "      <th>Name</th>\n",
       "      <th>Age</th>\n",
       "      <th>M/F</th>\n",
       "      <th>State</th>\n",
       "      <th>Country</th>\n",
       "      <th>Pace</th>\n",
       "      <th>Official Time</th>\n",
       "      <th>Overall</th>\n",
       "      <th>Gender</th>\n",
       "      <th>Division</th>\n",
       "      <th>pace_sec</th>\n",
       "      <th>5K_sec</th>\n",
       "      <th>10K_sec</th>\n",
       "      <th>15K_sec</th>\n",
       "      <th>20K_sec</th>\n",
       "      <th>Half_sec</th>\n",
       "      <th>25K_sec</th>\n",
       "      <th>30K_sec</th>\n",
       "      <th>35K_sec</th>\n",
       "      <th>40K_sec</th>\n",
       "    </tr>\n",
       "  </thead>\n",
       "  <tbody>\n",
       "    <tr>\n",
       "      <th>0</th>\n",
       "      <td>Hine, Zachary</td>\n",
       "      <td>28</td>\n",
       "      <td>M</td>\n",
       "      <td>TX</td>\n",
       "      <td>USA</td>\n",
       "      <td>0:05:25</td>\n",
       "      <td>2:21:37</td>\n",
       "      <td>10</td>\n",
       "      <td>10</td>\n",
       "      <td>10</td>\n",
       "      <td>325</td>\n",
       "      <td>963</td>\n",
       "      <td>1928</td>\n",
       "      <td>2894</td>\n",
       "      <td>3865</td>\n",
       "      <td>4077</td>\n",
       "      <td>4838</td>\n",
       "      <td>5846</td>\n",
       "      <td>6886</td>\n",
       "      <td>7967</td>\n",
       "    </tr>\n",
       "  </tbody>\n",
       "</table>\n",
       "</div>"
      ],
      "text/plain": [
       "            Name  Age M/F State Country     Pace Official Time  Overall  \\\n",
       "0  Hine, Zachary   28   M    TX     USA  0:05:25       2:21:37       10   \n",
       "\n",
       "   Gender  Division  pace_sec  5K_sec  10K_sec  15K_sec  20K_sec  Half_sec  \\\n",
       "0      10        10       325     963     1928     2894     3865      4077   \n",
       "\n",
       "   25K_sec  30K_sec  35K_sec  40K_sec  \n",
       "0     4838     5846     6886     7967  "
      ]
     },
     "execution_count": 20,
     "metadata": {},
     "output_type": "execute_result"
    }
   ],
   "source": [
    "males[males['pace_sec'] == males['pace_sec'].min()]"
   ]
  },
  {
   "cell_type": "code",
   "execution_count": 21,
   "metadata": {},
   "outputs": [
    {
     "data": {
      "text/html": [
       "<div>\n",
       "<style scoped>\n",
       "    .dataframe tbody tr th:only-of-type {\n",
       "        vertical-align: middle;\n",
       "    }\n",
       "\n",
       "    .dataframe tbody tr th {\n",
       "        vertical-align: top;\n",
       "    }\n",
       "\n",
       "    .dataframe thead th {\n",
       "        text-align: right;\n",
       "    }\n",
       "</style>\n",
       "<table border=\"1\" class=\"dataframe\">\n",
       "  <thead>\n",
       "    <tr style=\"text-align: right;\">\n",
       "      <th></th>\n",
       "      <th>Name</th>\n",
       "      <th>Age</th>\n",
       "      <th>M/F</th>\n",
       "      <th>State</th>\n",
       "      <th>Country</th>\n",
       "      <th>Pace</th>\n",
       "      <th>Official Time</th>\n",
       "      <th>Overall</th>\n",
       "      <th>Gender</th>\n",
       "      <th>Division</th>\n",
       "      <th>pace_sec</th>\n",
       "      <th>5K_sec</th>\n",
       "      <th>10K_sec</th>\n",
       "      <th>15K_sec</th>\n",
       "      <th>20K_sec</th>\n",
       "      <th>Half_sec</th>\n",
       "      <th>25K_sec</th>\n",
       "      <th>30K_sec</th>\n",
       "      <th>35K_sec</th>\n",
       "      <th>40K_sec</th>\n",
       "    </tr>\n",
       "  </thead>\n",
       "  <tbody>\n",
       "    <tr>\n",
       "      <th>39</th>\n",
       "      <td>Spence Gracey, Neely</td>\n",
       "      <td>26</td>\n",
       "      <td>F</td>\n",
       "      <td>CO</td>\n",
       "      <td>USA</td>\n",
       "      <td>0:05:55</td>\n",
       "      <td>2:35:00</td>\n",
       "      <td>69</td>\n",
       "      <td>9</td>\n",
       "      <td>9</td>\n",
       "      <td>355</td>\n",
       "      <td>1102</td>\n",
       "      <td>2181</td>\n",
       "      <td>3264</td>\n",
       "      <td>4379</td>\n",
       "      <td>4621</td>\n",
       "      <td>5495</td>\n",
       "      <td>6630</td>\n",
       "      <td>7764</td>\n",
       "      <td>8835</td>\n",
       "    </tr>\n",
       "  </tbody>\n",
       "</table>\n",
       "</div>"
      ],
      "text/plain": [
       "                    Name  Age M/F State Country     Pace Official Time  \\\n",
       "39  Spence Gracey, Neely   26   F    CO     USA  0:05:55       2:35:00   \n",
       "\n",
       "    Overall  Gender  Division  pace_sec  5K_sec  10K_sec  15K_sec  20K_sec  \\\n",
       "39       69       9         9       355    1102     2181     3264     4379   \n",
       "\n",
       "    Half_sec  25K_sec  30K_sec  35K_sec  40K_sec  \n",
       "39      4621     5495     6630     7764     8835  "
      ]
     },
     "execution_count": 21,
     "metadata": {},
     "output_type": "execute_result"
    }
   ],
   "source": [
    "females[females['pace_sec'] ==females['pace_sec'].min()]"
   ]
  },
  {
   "cell_type": "code",
   "execution_count": 22,
   "metadata": {
    "scrolled": false
   },
   "outputs": [
    {
     "data": {
      "text/plain": [
       "<matplotlib.legend.Legend at 0x26bd63a67f0>"
      ]
     },
     "execution_count": 22,
     "metadata": {},
     "output_type": "execute_result"
    },
    {
     "data": {
      "image/png": "[encoded data removed]",
      "text/plain": [
       "<Figure size 720x432 with 1 Axes>"
      ]
     },
     "metadata": {
      "needs_background": "light"
     },
     "output_type": "display_data"
    }
   ],
   "source": [
    "fig= plt.subplots(figsize = (10,6))\n",
    "\n",
    "sns.histplot(males['pace_sec'], kde = True, color = 'r', fill = False)\n",
    "sns.histplot(females['pace_sec'], color = 'b', kde = True, fill = False)\n",
    "plt.xlabel('Pace_sec')\n",
    "plt.ylabel('Number of Runners')\n",
    "plt.legend(['males', 'females'])"
   ]
  },
  {
   "cell_type": "code",
   "execution_count": 23,
   "metadata": {
    "scrolled": true
   },
   "outputs": [
    {
     "name": "stdout",
     "output_type": "stream",
     "text": [
      "517.1615198059823 s\n",
      "563.5580478401822 s\n"
     ]
    }
   ],
   "source": [
    "print(males['pace_sec'].mean(), 's')\n",
    "print(females['pace_sec'].mean(), 's')"
   ]
  },
  {
   "cell_type": "markdown",
   "metadata": {},
   "source": [
    "In general, the speed of male athlete higher than female athlete"
   ]
  },
  {
   "cell_type": "markdown",
   "metadata": {},
   "source": [
    "Pace mean of male athlete: 8:37"
   ]
  },
  {
   "cell_type": "markdown",
   "metadata": {},
   "source": [
    "Pace mean of female athlete: 9:23"
   ]
  },
  {
   "cell_type": "markdown",
   "metadata": {},
   "source": [
    "#### Official Time"
   ]
  },
  {
   "cell_type": "code",
   "execution_count": 24,
   "metadata": {},
   "outputs": [],
   "source": [
    "df1['official_time_sec'] = df1['Official Time'].apply(lambda x: time_to_sec(x))"
   ]
  },
  {
   "cell_type": "code",
   "execution_count": 25,
   "metadata": {},
   "outputs": [],
   "source": [
    "males = df1[df1['M/F'] == 'M']\n",
    "females= df1[(df1['M/F'] == 'F')]"
   ]
  },
  {
   "cell_type": "code",
   "execution_count": 26,
   "metadata": {},
   "outputs": [
    {
     "data": {
      "text/plain": [
       "<AxesSubplot:xlabel='official_time_sec', ylabel='Count'>"
      ]
     },
     "execution_count": 26,
     "metadata": {},
     "output_type": "execute_result"
    },
    {
     "data": {
      "image/png": "[encoded data removed]",
      "text/plain": [
       "<Figure size 720x432 with 1 Axes>"
      ]
     },
     "metadata": {
      "needs_background": "light"
     },
     "output_type": "display_data"
    }
   ],
   "source": [
    "fig= plt.subplots(figsize = (10,6))\n",
    "\n",
    "sns.histplot(data = males['official_time_sec'], color = 'r', kde = True, fill = False)\n",
    "sns.histplot(data = females['official_time_sec'], color = 'b', kde = True, fill = False)"
   ]
  },
  {
   "cell_type": "code",
   "execution_count": 27,
   "metadata": {},
   "outputs": [
    {
     "name": "stdout",
     "output_type": "stream",
     "text": [
      "13546.446725949878 s\n",
      "14762.780250591431 s\n"
     ]
    }
   ],
   "source": [
    "print(males['official_time_sec'].mean(), 's')\n",
    "print(females['official_time_sec'].mean(), 's')"
   ]
  },
  {
   "cell_type": "markdown",
   "metadata": {},
   "source": [
    "In general, the running time of males athletes less than females athletes"
   ]
  },
  {
   "cell_type": "markdown",
   "metadata": {},
   "source": [
    "The mean time of males athletes : 3:45:54"
   ]
  },
  {
   "cell_type": "markdown",
   "metadata": {},
   "source": [
    "The mean time of females athletes: 4:5:54"
   ]
  },
  {
   "cell_type": "markdown",
   "metadata": {},
   "source": [
    "### 3.2 Int variable"
   ]
  },
  {
   "cell_type": "code",
   "execution_count": 28,
   "metadata": {},
   "outputs": [
    {
     "data": {
      "text/html": [
       "<div>\n",
       "<style scoped>\n",
       "    .dataframe tbody tr th:only-of-type {\n",
       "        vertical-align: middle;\n",
       "    }\n",
       "\n",
       "    .dataframe tbody tr th {\n",
       "        vertical-align: top;\n",
       "    }\n",
       "\n",
       "    .dataframe thead th {\n",
       "        text-align: right;\n",
       "    }\n",
       "</style>\n",
       "<table border=\"1\" class=\"dataframe\">\n",
       "  <thead>\n",
       "    <tr style=\"text-align: right;\">\n",
       "      <th></th>\n",
       "      <th>Age</th>\n",
       "      <th>Overall</th>\n",
       "      <th>Gender</th>\n",
       "      <th>Division</th>\n",
       "      <th>pace_sec</th>\n",
       "      <th>5K_sec</th>\n",
       "      <th>10K_sec</th>\n",
       "      <th>15K_sec</th>\n",
       "      <th>20K_sec</th>\n",
       "      <th>Half_sec</th>\n",
       "      <th>25K_sec</th>\n",
       "      <th>30K_sec</th>\n",
       "      <th>35K_sec</th>\n",
       "      <th>40K_sec</th>\n",
       "      <th>official_time_sec</th>\n",
       "    </tr>\n",
       "  </thead>\n",
       "  <tbody>\n",
       "    <tr>\n",
       "      <th>count</th>\n",
       "      <td>23783.000000</td>\n",
       "      <td>23783.000000</td>\n",
       "      <td>23783.000000</td>\n",
       "      <td>23783.000000</td>\n",
       "      <td>23783.000000</td>\n",
       "      <td>23783.000000</td>\n",
       "      <td>23783.000000</td>\n",
       "      <td>23783.000000</td>\n",
       "      <td>23783.000000</td>\n",
       "      <td>23783.000000</td>\n",
       "      <td>23783.000000</td>\n",
       "      <td>23783.000000</td>\n",
       "      <td>23783.000000</td>\n",
       "      <td>23783.000000</td>\n",
       "      <td>23783.000000</td>\n",
       "    </tr>\n",
       "    <tr>\n",
       "      <th>mean</th>\n",
       "      <td>42.107346</td>\n",
       "      <td>13401.070218</td>\n",
       "      <td>6672.231678</td>\n",
       "      <td>1651.379094</td>\n",
       "      <td>539.426313</td>\n",
       "      <td>1518.742547</td>\n",
       "      <td>3054.731699</td>\n",
       "      <td>4620.573687</td>\n",
       "      <td>6235.378169</td>\n",
       "      <td>6582.737039</td>\n",
       "      <td>7894.481268</td>\n",
       "      <td>9654.459530</td>\n",
       "      <td>11507.704873</td>\n",
       "      <td>13338.940336</td>\n",
       "      <td>14130.141572</td>\n",
       "    </tr>\n",
       "    <tr>\n",
       "      <th>std</th>\n",
       "      <td>11.420416</td>\n",
       "      <td>7657.202683</td>\n",
       "      <td>3908.692473</td>\n",
       "      <td>1472.293757</td>\n",
       "      <td>94.141953</td>\n",
       "      <td>240.719741</td>\n",
       "      <td>488.402149</td>\n",
       "      <td>743.794406</td>\n",
       "      <td>1029.862187</td>\n",
       "      <td>1087.776097</td>\n",
       "      <td>1330.003753</td>\n",
       "      <td>1685.479577</td>\n",
       "      <td>2022.533424</td>\n",
       "      <td>2349.254277</td>\n",
       "      <td>2467.901116</td>\n",
       "    </tr>\n",
       "    <tr>\n",
       "      <th>min</th>\n",
       "      <td>18.000000</td>\n",
       "      <td>10.000000</td>\n",
       "      <td>9.000000</td>\n",
       "      <td>1.000000</td>\n",
       "      <td>325.000000</td>\n",
       "      <td>-1.000000</td>\n",
       "      <td>-1.000000</td>\n",
       "      <td>-1.000000</td>\n",
       "      <td>-1.000000</td>\n",
       "      <td>-1.000000</td>\n",
       "      <td>-1.000000</td>\n",
       "      <td>-1.000000</td>\n",
       "      <td>-1.000000</td>\n",
       "      <td>-1.000000</td>\n",
       "      <td>8497.000000</td>\n",
       "    </tr>\n",
       "    <tr>\n",
       "      <th>25%</th>\n",
       "      <td>33.000000</td>\n",
       "      <td>6804.500000</td>\n",
       "      <td>3320.500000</td>\n",
       "      <td>518.000000</td>\n",
       "      <td>474.000000</td>\n",
       "      <td>1354.000000</td>\n",
       "      <td>2717.000000</td>\n",
       "      <td>4100.000000</td>\n",
       "      <td>5529.000000</td>\n",
       "      <td>5837.500000</td>\n",
       "      <td>6983.000000</td>\n",
       "      <td>8511.000000</td>\n",
       "      <td>10121.000000</td>\n",
       "      <td>11725.000000</td>\n",
       "      <td>12422.000000</td>\n",
       "    </tr>\n",
       "    <tr>\n",
       "      <th>50%</th>\n",
       "      <td>42.000000</td>\n",
       "      <td>13433.000000</td>\n",
       "      <td>6615.000000</td>\n",
       "      <td>1199.000000</td>\n",
       "      <td>523.000000</td>\n",
       "      <td>1492.000000</td>\n",
       "      <td>2995.000000</td>\n",
       "      <td>4523.000000</td>\n",
       "      <td>6099.000000</td>\n",
       "      <td>6437.000000</td>\n",
       "      <td>7699.000000</td>\n",
       "      <td>9393.000000</td>\n",
       "      <td>11169.000000</td>\n",
       "      <td>12939.000000</td>\n",
       "      <td>13710.000000</td>\n",
       "    </tr>\n",
       "    <tr>\n",
       "      <th>75%</th>\n",
       "      <td>50.000000</td>\n",
       "      <td>19993.500000</td>\n",
       "      <td>9913.000000</td>\n",
       "      <td>2301.000000</td>\n",
       "      <td>588.000000</td>\n",
       "      <td>1643.000000</td>\n",
       "      <td>3305.000000</td>\n",
       "      <td>5001.000000</td>\n",
       "      <td>6745.000000</td>\n",
       "      <td>7119.000000</td>\n",
       "      <td>8549.500000</td>\n",
       "      <td>10479.000000</td>\n",
       "      <td>12526.000000</td>\n",
       "      <td>14552.500000</td>\n",
       "      <td>15412.000000</td>\n",
       "    </tr>\n",
       "    <tr>\n",
       "      <th>max</th>\n",
       "      <td>83.000000</td>\n",
       "      <td>26629.000000</td>\n",
       "      <td>14463.000000</td>\n",
       "      <td>5946.000000</td>\n",
       "      <td>1470.000000</td>\n",
       "      <td>3350.000000</td>\n",
       "      <td>5731.000000</td>\n",
       "      <td>9658.000000</td>\n",
       "      <td>16180.000000</td>\n",
       "      <td>17237.000000</td>\n",
       "      <td>16053.000000</td>\n",
       "      <td>27398.000000</td>\n",
       "      <td>24591.000000</td>\n",
       "      <td>28752.000000</td>\n",
       "      <td>37823.000000</td>\n",
       "    </tr>\n",
       "  </tbody>\n",
       "</table>\n",
       "</div>"
      ],
      "text/plain": [
       "                Age       Overall        Gender      Division      pace_sec  \\\n",
       "count  23783.000000  23783.000000  23783.000000  23783.000000  23783.000000   \n",
       "mean      42.107346  13401.070218   6672.231678   1651.379094    539.426313   \n",
       "std       11.420416   7657.202683   3908.692473   1472.293757     94.141953   \n",
       "min       18.000000     10.000000      9.000000      1.000000    325.000000   \n",
       "25%       33.000000   6804.500000   3320.500000    518.000000    474.000000   \n",
       "50%       42.000000  13433.000000   6615.000000   1199.000000    523.000000   \n",
       "75%       50.000000  19993.500000   9913.000000   2301.000000    588.000000   \n",
       "max       83.000000  26629.000000  14463.000000   5946.000000   1470.000000   \n",
       "\n",
       "             5K_sec       10K_sec       15K_sec       20K_sec      Half_sec  \\\n",
       "count  23783.000000  23783.000000  23783.000000  23783.000000  23783.000000   \n",
       "mean    1518.742547   3054.731699   4620.573687   6235.378169   6582.737039   \n",
       "std      240.719741    488.402149    743.794406   1029.862187   1087.776097   \n",
       "min       -1.000000     -1.000000     -1.000000     -1.000000     -1.000000   \n",
       "25%     1354.000000   2717.000000   4100.000000   5529.000000   5837.500000   \n",
       "50%     1492.000000   2995.000000   4523.000000   6099.000000   6437.000000   \n",
       "75%     1643.000000   3305.000000   5001.000000   6745.000000   7119.000000   \n",
       "max     3350.000000   5731.000000   9658.000000  16180.000000  17237.000000   \n",
       "\n",
       "            25K_sec       30K_sec       35K_sec       40K_sec  \\\n",
       "count  23783.000000  23783.000000  23783.000000  23783.000000   \n",
       "mean    7894.481268   9654.459530  11507.704873  13338.940336   \n",
       "std     1330.003753   1685.479577   2022.533424   2349.254277   \n",
       "min       -1.000000     -1.000000     -1.000000     -1.000000   \n",
       "25%     6983.000000   8511.000000  10121.000000  11725.000000   \n",
       "50%     7699.000000   9393.000000  11169.000000  12939.000000   \n",
       "75%     8549.500000  10479.000000  12526.000000  14552.500000   \n",
       "max    16053.000000  27398.000000  24591.000000  28752.000000   \n",
       "\n",
       "       official_time_sec  \n",
       "count       23783.000000  \n",
       "mean        14130.141572  \n",
       "std          2467.901116  \n",
       "min          8497.000000  \n",
       "25%         12422.000000  \n",
       "50%         13710.000000  \n",
       "75%         15412.000000  \n",
       "max         37823.000000  "
      ]
     },
     "execution_count": 28,
     "metadata": {},
     "output_type": "execute_result"
    }
   ],
   "source": [
    "df1.describe()"
   ]
  },
  {
   "cell_type": "markdown",
   "metadata": {},
   "source": [
    "#### Age"
   ]
  },
  {
   "cell_type": "code",
   "execution_count": 29,
   "metadata": {},
   "outputs": [
    {
     "data": {
      "text/plain": [
       "Text(0.5, 1.0, 'Participants per age group')"
      ]
     },
     "execution_count": 29,
     "metadata": {},
     "output_type": "execute_result"
    },
    {
     "data": {
      "image/png": "[encoded data removed]",
      "text/plain": [
       "<Figure size 1440x576 with 1 Axes>"
      ]
     },
     "metadata": {
      "needs_background": "light"
     },
     "output_type": "display_data"
    }
   ],
   "source": [
    "g = sns.countplot(x ='Age', data=df1, palette=\"coolwarm\")\n",
    "g.figure.set_size_inches(20,8)\n",
    "g.set_title(\"Participants per age group\")"
   ]
  },
  {
   "cell_type": "code",
   "execution_count": 30,
   "metadata": {},
   "outputs": [
    {
     "data": {
      "text/plain": [
       "Text(0.5, 1.0, 'Participants per Age & Gender')"
      ]
     },
     "execution_count": 30,
     "metadata": {},
     "output_type": "execute_result"
    },
    {
     "data": {
      "image/png": "[encoded data removed]",
      "text/plain": [
       "<Figure size 1440x576 with 1 Axes>"
      ]
     },
     "metadata": {
      "needs_background": "light"
     },
     "output_type": "display_data"
    }
   ],
   "source": [
    "g = sns.countplot( x = 'Age', data = df1, palette=\"coolwarm\", hue='M/F')\n",
    "g.figure.set_size_inches(20,8)\n",
    "g.set_title(\"Participants per Age & Gender\")"
   ]
  },
  {
   "cell_type": "markdown",
   "metadata": {},
   "source": [
    "In general, Ratio of female athletes at the age from 18 to 40 higher than ratio of male athletes the same age"
   ]
  },
  {
   "cell_type": "markdown",
   "metadata": {},
   "source": [
    "Ratio of male athletes at the age from 41 to >70 higher than ratio of female athletes the same age"
   ]
  },
  {
   "cell_type": "code",
   "execution_count": 31,
   "metadata": {},
   "outputs": [
    {
     "name": "stdout",
     "output_type": "stream",
     "text": [
      "                 Name  Age M/F State Country     Pace Official Time  Overall  \\\n",
      "21262  Wilson, Harold   83   M    TX     USA  0:11:08       4:51:41    23850   \n",
      "\n",
      "       Gender  Division  ...  5K_sec  10K_sec  15K_sec  20K_sec  Half_sec  \\\n",
      "21262   13280         4  ...    1802     3664     5627     7650      8089   \n",
      "\n",
      "       25K_sec  30K_sec  35K_sec  40K_sec  official_time_sec  \n",
      "21262     9729    11967    14277    16550              17501  \n",
      "\n",
      "[1 rows x 21 columns]\n"
     ]
    }
   ],
   "source": [
    "print(males[males['Age'] == males['Age'].max()])"
   ]
  },
  {
   "cell_type": "code",
   "execution_count": 32,
   "metadata": {},
   "outputs": [
    {
     "name": "stdout",
     "output_type": "stream",
     "text": [
      "                    Name  Age M/F State Country     Pace Official Time  \\\n",
      "23342  Beiers, Katherine   83   F    CA     USA  0:13:10       5:44:53   \n",
      "\n",
      "       Overall  Gender  Division  ...  5K_sec  10K_sec  15K_sec  20K_sec  \\\n",
      "23342    26163   11889         2  ...    2184     4433     6685     9050   \n",
      "\n",
      "       Half_sec  25K_sec  30K_sec  35K_sec  40K_sec  official_time_sec  \n",
      "23342      9565    11456    14089    16847    19471              20693  \n",
      "\n",
      "[1 rows x 21 columns]\n"
     ]
    }
   ],
   "source": [
    "print(females[females['Age'] == females['Age'].max()])"
   ]
  },
  {
   "cell_type": "markdown",
   "metadata": {},
   "source": [
    "### 4 Data transformation"
   ]
  },
  {
   "cell_type": "code",
   "execution_count": 33,
   "metadata": {},
   "outputs": [
    {
     "data": {
      "text/html": [
       "<div>\n",
       "<style scoped>\n",
       "    .dataframe tbody tr th:only-of-type {\n",
       "        vertical-align: middle;\n",
       "    }\n",
       "\n",
       "    .dataframe tbody tr th {\n",
       "        vertical-align: top;\n",
       "    }\n",
       "\n",
       "    .dataframe thead th {\n",
       "        text-align: right;\n",
       "    }\n",
       "</style>\n",
       "<table border=\"1\" class=\"dataframe\">\n",
       "  <thead>\n",
       "    <tr style=\"text-align: right;\">\n",
       "      <th></th>\n",
       "      <th>Name</th>\n",
       "      <th>Age</th>\n",
       "      <th>M/F</th>\n",
       "      <th>State</th>\n",
       "      <th>Country</th>\n",
       "      <th>Pace</th>\n",
       "      <th>Official Time</th>\n",
       "      <th>Overall</th>\n",
       "      <th>Gender</th>\n",
       "      <th>Division</th>\n",
       "      <th>...</th>\n",
       "      <th>5K_sec</th>\n",
       "      <th>10K_sec</th>\n",
       "      <th>15K_sec</th>\n",
       "      <th>20K_sec</th>\n",
       "      <th>Half_sec</th>\n",
       "      <th>25K_sec</th>\n",
       "      <th>30K_sec</th>\n",
       "      <th>35K_sec</th>\n",
       "      <th>40K_sec</th>\n",
       "      <th>official_time_sec</th>\n",
       "    </tr>\n",
       "  </thead>\n",
       "  <tbody>\n",
       "    <tr>\n",
       "      <th>0</th>\n",
       "      <td>Hine, Zachary</td>\n",
       "      <td>28</td>\n",
       "      <td>M</td>\n",
       "      <td>TX</td>\n",
       "      <td>USA</td>\n",
       "      <td>0:05:25</td>\n",
       "      <td>2:21:37</td>\n",
       "      <td>10</td>\n",
       "      <td>10</td>\n",
       "      <td>10</td>\n",
       "      <td>...</td>\n",
       "      <td>963</td>\n",
       "      <td>1928</td>\n",
       "      <td>2894</td>\n",
       "      <td>3865</td>\n",
       "      <td>4077</td>\n",
       "      <td>4838</td>\n",
       "      <td>5846</td>\n",
       "      <td>6886</td>\n",
       "      <td>7967</td>\n",
       "      <td>8497</td>\n",
       "    </tr>\n",
       "    <tr>\n",
       "      <th>1</th>\n",
       "      <td>Burrell, Ian</td>\n",
       "      <td>31</td>\n",
       "      <td>M</td>\n",
       "      <td>CO</td>\n",
       "      <td>USA</td>\n",
       "      <td>0:05:26</td>\n",
       "      <td>2:22:22</td>\n",
       "      <td>13</td>\n",
       "      <td>13</td>\n",
       "      <td>13</td>\n",
       "      <td>...</td>\n",
       "      <td>954</td>\n",
       "      <td>1907</td>\n",
       "      <td>2873</td>\n",
       "      <td>3884</td>\n",
       "      <td>4104</td>\n",
       "      <td>4905</td>\n",
       "      <td>5964</td>\n",
       "      <td>7022</td>\n",
       "      <td>8079</td>\n",
       "      <td>8542</td>\n",
       "    </tr>\n",
       "    <tr>\n",
       "      <th>2</th>\n",
       "      <td>Okuti, Harbert</td>\n",
       "      <td>30</td>\n",
       "      <td>M</td>\n",
       "      <td>NY</td>\n",
       "      <td>USA</td>\n",
       "      <td>0:05:32</td>\n",
       "      <td>2:24:46</td>\n",
       "      <td>15</td>\n",
       "      <td>15</td>\n",
       "      <td>15</td>\n",
       "      <td>...</td>\n",
       "      <td>953</td>\n",
       "      <td>1920</td>\n",
       "      <td>2903</td>\n",
       "      <td>3911</td>\n",
       "      <td>4128</td>\n",
       "      <td>4936</td>\n",
       "      <td>5985</td>\n",
       "      <td>7072</td>\n",
       "      <td>8182</td>\n",
       "      <td>8686</td>\n",
       "    </tr>\n",
       "    <tr>\n",
       "      <th>3</th>\n",
       "      <td>Wells, Clint</td>\n",
       "      <td>40</td>\n",
       "      <td>M</td>\n",
       "      <td>CO</td>\n",
       "      <td>USA</td>\n",
       "      <td>0:05:32</td>\n",
       "      <td>2:24:55</td>\n",
       "      <td>17</td>\n",
       "      <td>17</td>\n",
       "      <td>1</td>\n",
       "      <td>...</td>\n",
       "      <td>986</td>\n",
       "      <td>1972</td>\n",
       "      <td>2970</td>\n",
       "      <td>3989</td>\n",
       "      <td>4215</td>\n",
       "      <td>5022</td>\n",
       "      <td>6078</td>\n",
       "      <td>7156</td>\n",
       "      <td>8211</td>\n",
       "      <td>8695</td>\n",
       "    </tr>\n",
       "    <tr>\n",
       "      <th>4</th>\n",
       "      <td>Williams, Andy</td>\n",
       "      <td>28</td>\n",
       "      <td>M</td>\n",
       "      <td>IN</td>\n",
       "      <td>USA</td>\n",
       "      <td>0:05:37</td>\n",
       "      <td>2:27:07</td>\n",
       "      <td>21</td>\n",
       "      <td>21</td>\n",
       "      <td>20</td>\n",
       "      <td>...</td>\n",
       "      <td>981</td>\n",
       "      <td>1983</td>\n",
       "      <td>3017</td>\n",
       "      <td>4074</td>\n",
       "      <td>4300</td>\n",
       "      <td>5123</td>\n",
       "      <td>6203</td>\n",
       "      <td>7305</td>\n",
       "      <td>8364</td>\n",
       "      <td>8827</td>\n",
       "    </tr>\n",
       "  </tbody>\n",
       "</table>\n",
       "<p>5 rows × 21 columns</p>\n",
       "</div>"
      ],
      "text/plain": [
       "             Name  Age M/F State Country     Pace Official Time  Overall  \\\n",
       "0   Hine, Zachary   28   M    TX     USA  0:05:25       2:21:37       10   \n",
       "1    Burrell, Ian   31   M    CO     USA  0:05:26       2:22:22       13   \n",
       "2  Okuti, Harbert   30   M    NY     USA  0:05:32       2:24:46       15   \n",
       "3    Wells, Clint   40   M    CO     USA  0:05:32       2:24:55       17   \n",
       "4  Williams, Andy   28   M    IN     USA  0:05:37       2:27:07       21   \n",
       "\n",
       "   Gender  Division  ...  5K_sec  10K_sec  15K_sec  20K_sec  Half_sec  \\\n",
       "0      10        10  ...     963     1928     2894     3865      4077   \n",
       "1      13        13  ...     954     1907     2873     3884      4104   \n",
       "2      15        15  ...     953     1920     2903     3911      4128   \n",
       "3      17         1  ...     986     1972     2970     3989      4215   \n",
       "4      21        20  ...     981     1983     3017     4074      4300   \n",
       "\n",
       "   25K_sec  30K_sec  35K_sec  40K_sec  official_time_sec  \n",
       "0     4838     5846     6886     7967               8497  \n",
       "1     4905     5964     7022     8079               8542  \n",
       "2     4936     5985     7072     8182               8686  \n",
       "3     5022     6078     7156     8211               8695  \n",
       "4     5123     6203     7305     8364               8827  \n",
       "\n",
       "[5 rows x 21 columns]"
      ]
     },
     "execution_count": 33,
     "metadata": {},
     "output_type": "execute_result"
    }
   ],
   "source": [
    "df1.head()"
   ]
  },
  {
   "cell_type": "code",
   "execution_count": 34,
   "metadata": {},
   "outputs": [
    {
     "data": {
      "text/plain": [
       "(23783, 18)"
      ]
     },
     "execution_count": 34,
     "metadata": {},
     "output_type": "execute_result"
    }
   ],
   "source": [
    "df2 = df1.drop(columns= ['Pace', 'Official Time', 'Name']).reset_index(drop = True)\n",
    "\n",
    "nan_value = float(\"NaN\")\n",
    "\n",
    "df2.replace(\"\", nan_value, inplace=True)\n",
    "\n",
    "df2.dropna(inplace=True)\n",
    "\n",
    "df2.shape"
   ]
  },
  {
   "cell_type": "code",
   "execution_count": 35,
   "metadata": {},
   "outputs": [
    {
     "name": "stdout",
     "output_type": "stream",
     "text": [
      "<class 'pandas.core.frame.DataFrame'>\n",
      "Int64Index: 23783 entries, 0 to 23782\n",
      "Data columns (total 18 columns):\n",
      " #   Column             Non-Null Count  Dtype \n",
      "---  ------             --------------  ----- \n",
      " 0   Age                23783 non-null  int64 \n",
      " 1   M/F                23783 non-null  object\n",
      " 2   State              23783 non-null  object\n",
      " 3   Country            23783 non-null  object\n",
      " 4   Overall            23783 non-null  int64 \n",
      " 5   Gender             23783 non-null  int64 \n",
      " 6   Division           23783 non-null  int64 \n",
      " 7   pace_sec           23783 non-null  int64 \n",
      " 8   5K_sec             23783 non-null  int64 \n",
      " 9   10K_sec            23783 non-null  int64 \n",
      " 10  15K_sec            23783 non-null  int64 \n",
      " 11  20K_sec            23783 non-null  int64 \n",
      " 12  Half_sec           23783 non-null  int64 \n",
      " 13  25K_sec            23783 non-null  int64 \n",
      " 14  30K_sec            23783 non-null  int64 \n",
      " 15  35K_sec            23783 non-null  int64 \n",
      " 16  40K_sec            23783 non-null  int64 \n",
      " 17  official_time_sec  23783 non-null  int64 \n",
      "dtypes: int64(15), object(3)\n",
      "memory usage: 3.4+ MB\n"
     ]
    }
   ],
   "source": [
    "df2.info()"
   ]
  },
  {
   "cell_type": "code",
   "execution_count": 38,
   "metadata": {},
   "outputs": [
    {
     "data": {
      "text/html": [
       "<div>\n",
       "<style scoped>\n",
       "    .dataframe tbody tr th:only-of-type {\n",
       "        vertical-align: middle;\n",
       "    }\n",
       "\n",
       "    .dataframe tbody tr th {\n",
       "        vertical-align: top;\n",
       "    }\n",
       "\n",
       "    .dataframe thead th {\n",
       "        text-align: right;\n",
       "    }\n",
       "</style>\n",
       "<table border=\"1\" class=\"dataframe\">\n",
       "  <thead>\n",
       "    <tr style=\"text-align: right;\">\n",
       "      <th></th>\n",
       "      <th>Age</th>\n",
       "      <th>Overall</th>\n",
       "      <th>Gender</th>\n",
       "      <th>Division</th>\n",
       "      <th>pace_sec</th>\n",
       "      <th>5K_sec</th>\n",
       "      <th>10K_sec</th>\n",
       "      <th>15K_sec</th>\n",
       "      <th>20K_sec</th>\n",
       "      <th>Half_sec</th>\n",
       "      <th>25K_sec</th>\n",
       "      <th>30K_sec</th>\n",
       "      <th>35K_sec</th>\n",
       "      <th>40K_sec</th>\n",
       "      <th>official_time_sec</th>\n",
       "      <th>M/F</th>\n",
       "      <th>State</th>\n",
       "      <th>Country</th>\n",
       "    </tr>\n",
       "  </thead>\n",
       "  <tbody>\n",
       "    <tr>\n",
       "      <th>0</th>\n",
       "      <td>0.153846</td>\n",
       "      <td>0.000000</td>\n",
       "      <td>0.000069</td>\n",
       "      <td>0.001514</td>\n",
       "      <td>0.000000</td>\n",
       "      <td>0.287675</td>\n",
       "      <td>0.336532</td>\n",
       "      <td>0.299720</td>\n",
       "      <td>0.238922</td>\n",
       "      <td>0.236570</td>\n",
       "      <td>0.301420</td>\n",
       "      <td>0.213402</td>\n",
       "      <td>0.280050</td>\n",
       "      <td>0.277119</td>\n",
       "      <td>0.000000</td>\n",
       "      <td>1</td>\n",
       "      <td>57</td>\n",
       "      <td>1</td>\n",
       "    </tr>\n",
       "    <tr>\n",
       "      <th>1</th>\n",
       "      <td>0.200000</td>\n",
       "      <td>0.000113</td>\n",
       "      <td>0.000277</td>\n",
       "      <td>0.002019</td>\n",
       "      <td>0.000873</td>\n",
       "      <td>0.284990</td>\n",
       "      <td>0.332868</td>\n",
       "      <td>0.297546</td>\n",
       "      <td>0.240096</td>\n",
       "      <td>0.238137</td>\n",
       "      <td>0.305594</td>\n",
       "      <td>0.217709</td>\n",
       "      <td>0.285581</td>\n",
       "      <td>0.281014</td>\n",
       "      <td>0.001534</td>\n",
       "      <td>1</td>\n",
       "      <td>9</td>\n",
       "      <td>1</td>\n",
       "    </tr>\n",
       "    <tr>\n",
       "      <th>2</th>\n",
       "      <td>0.184615</td>\n",
       "      <td>0.000188</td>\n",
       "      <td>0.000415</td>\n",
       "      <td>0.002355</td>\n",
       "      <td>0.006114</td>\n",
       "      <td>0.284691</td>\n",
       "      <td>0.335136</td>\n",
       "      <td>0.300652</td>\n",
       "      <td>0.241765</td>\n",
       "      <td>0.239529</td>\n",
       "      <td>0.307525</td>\n",
       "      <td>0.218475</td>\n",
       "      <td>0.287614</td>\n",
       "      <td>0.284596</td>\n",
       "      <td>0.006445</td>\n",
       "      <td>1</td>\n",
       "      <td>43</td>\n",
       "      <td>1</td>\n",
       "    </tr>\n",
       "    <tr>\n",
       "      <th>3</th>\n",
       "      <td>0.338462</td>\n",
       "      <td>0.000263</td>\n",
       "      <td>0.000553</td>\n",
       "      <td>0.000000</td>\n",
       "      <td>0.006114</td>\n",
       "      <td>0.294539</td>\n",
       "      <td>0.344208</td>\n",
       "      <td>0.307589</td>\n",
       "      <td>0.246586</td>\n",
       "      <td>0.244576</td>\n",
       "      <td>0.312882</td>\n",
       "      <td>0.221869</td>\n",
       "      <td>0.291030</td>\n",
       "      <td>0.285605</td>\n",
       "      <td>0.006752</td>\n",
       "      <td>1</td>\n",
       "      <td>9</td>\n",
       "      <td>1</td>\n",
       "    </tr>\n",
       "    <tr>\n",
       "      <th>4</th>\n",
       "      <td>0.153846</td>\n",
       "      <td>0.000413</td>\n",
       "      <td>0.000830</td>\n",
       "      <td>0.003196</td>\n",
       "      <td>0.010480</td>\n",
       "      <td>0.293047</td>\n",
       "      <td>0.346127</td>\n",
       "      <td>0.312455</td>\n",
       "      <td>0.251839</td>\n",
       "      <td>0.249507</td>\n",
       "      <td>0.319173</td>\n",
       "      <td>0.226432</td>\n",
       "      <td>0.297088</td>\n",
       "      <td>0.290926</td>\n",
       "      <td>0.011253</td>\n",
       "      <td>1</td>\n",
       "      <td>20</td>\n",
       "      <td>1</td>\n",
       "    </tr>\n",
       "    <tr>\n",
       "      <th>...</th>\n",
       "      <td>...</td>\n",
       "      <td>...</td>\n",
       "      <td>...</td>\n",
       "      <td>...</td>\n",
       "      <td>...</td>\n",
       "      <td>...</td>\n",
       "      <td>...</td>\n",
       "      <td>...</td>\n",
       "      <td>...</td>\n",
       "      <td>...</td>\n",
       "      <td>...</td>\n",
       "      <td>...</td>\n",
       "      <td>...</td>\n",
       "      <td>...</td>\n",
       "      <td>...</td>\n",
       "      <td>...</td>\n",
       "      <td>...</td>\n",
       "      <td>...</td>\n",
       "    </tr>\n",
       "    <tr>\n",
       "      <th>23778</th>\n",
       "      <td>0.430769</td>\n",
       "      <td>0.999850</td>\n",
       "      <td>0.840944</td>\n",
       "      <td>0.319428</td>\n",
       "      <td>0.651528</td>\n",
       "      <td>0.842734</td>\n",
       "      <td>0.963364</td>\n",
       "      <td>0.924526</td>\n",
       "      <td>0.773005</td>\n",
       "      <td>0.766736</td>\n",
       "      <td>0.999938</td>\n",
       "      <td>0.709989</td>\n",
       "      <td>0.949943</td>\n",
       "      <td>0.000000</td>\n",
       "      <td>0.667633</td>\n",
       "      <td>0</td>\n",
       "      <td>8</td>\n",
       "      <td>1</td>\n",
       "    </tr>\n",
       "    <tr>\n",
       "      <th>23779</th>\n",
       "      <td>0.446154</td>\n",
       "      <td>0.999887</td>\n",
       "      <td>0.841013</td>\n",
       "      <td>0.319596</td>\n",
       "      <td>0.651528</td>\n",
       "      <td>0.843032</td>\n",
       "      <td>0.963538</td>\n",
       "      <td>0.924630</td>\n",
       "      <td>0.773067</td>\n",
       "      <td>0.766794</td>\n",
       "      <td>1.000000</td>\n",
       "      <td>0.709989</td>\n",
       "      <td>0.949984</td>\n",
       "      <td>0.929155</td>\n",
       "      <td>0.667633</td>\n",
       "      <td>0</td>\n",
       "      <td>8</td>\n",
       "      <td>1</td>\n",
       "    </tr>\n",
       "    <tr>\n",
       "      <th>23780</th>\n",
       "      <td>0.323077</td>\n",
       "      <td>0.999925</td>\n",
       "      <td>0.999931</td>\n",
       "      <td>0.807401</td>\n",
       "      <td>0.723144</td>\n",
       "      <td>0.758878</td>\n",
       "      <td>0.940335</td>\n",
       "      <td>0.893467</td>\n",
       "      <td>0.759842</td>\n",
       "      <td>0.758209</td>\n",
       "      <td>0.993771</td>\n",
       "      <td>0.721486</td>\n",
       "      <td>0.981010</td>\n",
       "      <td>0.989879</td>\n",
       "      <td>0.740299</td>\n",
       "      <td>1</td>\n",
       "      <td>63</td>\n",
       "      <td>1</td>\n",
       "    </tr>\n",
       "    <tr>\n",
       "      <th>23781</th>\n",
       "      <td>0.261538</td>\n",
       "      <td>0.999962</td>\n",
       "      <td>1.000000</td>\n",
       "      <td>0.807569</td>\n",
       "      <td>0.726638</td>\n",
       "      <td>0.644285</td>\n",
       "      <td>0.786811</td>\n",
       "      <td>0.734030</td>\n",
       "      <td>0.627650</td>\n",
       "      <td>0.627857</td>\n",
       "      <td>0.924131</td>\n",
       "      <td>0.718274</td>\n",
       "      <td>1.000000</td>\n",
       "      <td>1.000000</td>\n",
       "      <td>0.743777</td>\n",
       "      <td>1</td>\n",
       "      <td>56</td>\n",
       "      <td>1</td>\n",
       "    </tr>\n",
       "    <tr>\n",
       "      <th>23782</th>\n",
       "      <td>0.261538</td>\n",
       "      <td>1.000000</td>\n",
       "      <td>0.841082</td>\n",
       "      <td>1.000000</td>\n",
       "      <td>1.000000</td>\n",
       "      <td>0.803641</td>\n",
       "      <td>1.000000</td>\n",
       "      <td>1.000000</td>\n",
       "      <td>1.000000</td>\n",
       "      <td>1.000000</td>\n",
       "      <td>0.000000</td>\n",
       "      <td>1.000000</td>\n",
       "      <td>0.000000</td>\n",
       "      <td>0.000000</td>\n",
       "      <td>1.000000</td>\n",
       "      <td>0</td>\n",
       "      <td>24</td>\n",
       "      <td>1</td>\n",
       "    </tr>\n",
       "  </tbody>\n",
       "</table>\n",
       "<p>23783 rows × 18 columns</p>\n",
       "</div>"
      ],
      "text/plain": [
       "            Age   Overall    Gender  Division  pace_sec    5K_sec   10K_sec  \\\n",
       "0      0.153846  0.000000  0.000069  0.001514  0.000000  0.287675  0.336532   \n",
       "1      0.200000  0.000113  0.000277  0.002019  0.000873  0.284990  0.332868   \n",
       "2      0.184615  0.000188  0.000415  0.002355  0.006114  0.284691  0.335136   \n",
       "3      0.338462  0.000263  0.000553  0.000000  0.006114  0.294539  0.344208   \n",
       "4      0.153846  0.000413  0.000830  0.003196  0.010480  0.293047  0.346127   \n",
       "...         ...       ...       ...       ...       ...       ...       ...   \n",
       "23778  0.430769  0.999850  0.840944  0.319428  0.651528  0.842734  0.963364   \n",
       "23779  0.446154  0.999887  0.841013  0.319596  0.651528  0.843032  0.963538   \n",
       "23780  0.323077  0.999925  0.999931  0.807401  0.723144  0.758878  0.940335   \n",
       "23781  0.261538  0.999962  1.000000  0.807569  0.726638  0.644285  0.786811   \n",
       "23782  0.261538  1.000000  0.841082  1.000000  1.000000  0.803641  1.000000   \n",
       "\n",
       "        15K_sec   20K_sec  Half_sec   25K_sec   30K_sec   35K_sec   40K_sec  \\\n",
       "0      0.299720  0.238922  0.236570  0.301420  0.213402  0.280050  0.277119   \n",
       "1      0.297546  0.240096  0.238137  0.305594  0.217709  0.285581  0.281014   \n",
       "2      0.300652  0.241765  0.239529  0.307525  0.218475  0.287614  0.284596   \n",
       "3      0.307589  0.246586  0.244576  0.312882  0.221869  0.291030  0.285605   \n",
       "4      0.312455  0.251839  0.249507  0.319173  0.226432  0.297088  0.290926   \n",
       "...         ...       ...       ...       ...       ...       ...       ...   \n",
       "23778  0.924526  0.773005  0.766736  0.999938  0.709989  0.949943  0.000000   \n",
       "23779  0.924630  0.773067  0.766794  1.000000  0.709989  0.949984  0.929155   \n",
       "23780  0.893467  0.759842  0.758209  0.993771  0.721486  0.981010  0.989879   \n",
       "23781  0.734030  0.627650  0.627857  0.924131  0.718274  1.000000  1.000000   \n",
       "23782  1.000000  1.000000  1.000000  0.000000  1.000000  0.000000  0.000000   \n",
       "\n",
       "       official_time_sec  M/F  State  Country  \n",
       "0               0.000000    1     57        1  \n",
       "1               0.001534    1      9        1  \n",
       "2               0.006445    1     43        1  \n",
       "3               0.006752    1      9        1  \n",
       "4               0.011253    1     20        1  \n",
       "...                  ...  ...    ...      ...  \n",
       "23778           0.667633    0      8        1  \n",
       "23779           0.667633    0      8        1  \n",
       "23780           0.740299    1     63        1  \n",
       "23781           0.743777    1     56        1  \n",
       "23782           1.000000    0     24        1  \n",
       "\n",
       "[23783 rows x 18 columns]"
      ]
     },
     "execution_count": 38,
     "metadata": {},
     "output_type": "execute_result"
    }
   ],
   "source": [
    "cat_feature = df2.select_dtypes('object')\n",
    "num_feature = df2.select_dtypes(np.number)\n",
    "\n",
    "scaled_cat = cat_feature.apply(LabelEncoder().fit_transform)\n",
    "\n",
    "scaler = MinMaxScaler()\n",
    "scaler.fit(num_feature)\n",
    "scaled_num = scaler.transform(num_feature)\n",
    "scaled_num = pd.DataFrame(scaled_num, columns=num_feature.columns)\n",
    "Data = pd.concat([scaled_num, scaled_cat], axis=1)\n",
    "\n",
    "Data"
   ]
  },
  {
   "cell_type": "markdown",
   "metadata": {},
   "source": [
    "### 5 Model training"
   ]
  },
  {
   "cell_type": "markdown",
   "metadata": {},
   "source": [
    "### 5.1 without dropping high correlation features"
   ]
  },
  {
   "cell_type": "code",
   "execution_count": 39,
   "metadata": {},
   "outputs": [
    {
     "name": "stdout",
     "output_type": "stream",
     "text": [
      "[6914487.765279898, 1597222.374151262, 761140.456484131, 322132.46704050875, 216250.5326533059, 162826.13155821626, 134740.73835007055, 104521.3835729861, 83931.71081098031]\n"
     ]
    },
    {
     "data": {
      "image/png": "[encoded data removed]",
      "text/plain": [
       "<Figure size 720x432 with 1 Axes>"
      ]
     },
     "metadata": {
      "needs_background": "light"
     },
     "output_type": "display_data"
    }
   ],
   "source": [
    "sse = []\n",
    "K = list(range(1, 10))\n",
    "\n",
    "for k in K:\n",
    "    kmeans = KMeans(n_clusters=k)\n",
    "    kmeans.fit(Data)\n",
    "    sse.append(kmeans.inertia_)\n",
    "\n",
    "# Plot sse against k#\n",
    "print(sse)\n",
    "plt.figure(figsize=(10, 6))\n",
    "plt.plot(K, sse, '-o')\n",
    "plt.xlabel(r'Number of clusters *k*')\n",
    "plt.ylabel('Sum of squared distance')\n",
    "plt.show()"
   ]
  },
  {
   "cell_type": "code",
   "execution_count": 40,
   "metadata": {},
   "outputs": [
    {
     "data": {
      "text/plain": [
       "322132.46704050875"
      ]
     },
     "execution_count": 40,
     "metadata": {},
     "output_type": "execute_result"
    }
   ],
   "source": [
    "km = KMeans(n_clusters=4)\n",
    "km.fit(Data)\n",
    "km.inertia_"
   ]
  },
  {
   "cell_type": "code",
   "execution_count": 41,
   "metadata": {},
   "outputs": [
    {
     "name": "stdout",
     "output_type": "stream",
     "text": [
      "23783\n"
     ]
    }
   ],
   "source": [
    "cluster = km.labels_\n",
    "print(len(cluster))"
   ]
  },
  {
   "cell_type": "code",
   "execution_count": 42,
   "metadata": {},
   "outputs": [
    {
     "data": {
      "text/html": [
       "<div>\n",
       "<style scoped>\n",
       "    .dataframe tbody tr th:only-of-type {\n",
       "        vertical-align: middle;\n",
       "    }\n",
       "\n",
       "    .dataframe tbody tr th {\n",
       "        vertical-align: top;\n",
       "    }\n",
       "\n",
       "    .dataframe thead th {\n",
       "        text-align: right;\n",
       "    }\n",
       "</style>\n",
       "<table border=\"1\" class=\"dataframe\">\n",
       "  <thead>\n",
       "    <tr style=\"text-align: right;\">\n",
       "      <th></th>\n",
       "      <th>Age</th>\n",
       "      <th>M/F</th>\n",
       "      <th>State</th>\n",
       "      <th>Country</th>\n",
       "      <th>Overall</th>\n",
       "      <th>Gender</th>\n",
       "      <th>Division</th>\n",
       "      <th>pace_sec</th>\n",
       "      <th>5K_sec</th>\n",
       "      <th>10K_sec</th>\n",
       "      <th>15K_sec</th>\n",
       "      <th>20K_sec</th>\n",
       "      <th>Half_sec</th>\n",
       "      <th>25K_sec</th>\n",
       "      <th>30K_sec</th>\n",
       "      <th>35K_sec</th>\n",
       "      <th>40K_sec</th>\n",
       "      <th>official_time_sec</th>\n",
       "      <th>cluster</th>\n",
       "    </tr>\n",
       "  </thead>\n",
       "  <tbody>\n",
       "    <tr>\n",
       "      <th>0</th>\n",
       "      <td>28</td>\n",
       "      <td>M</td>\n",
       "      <td>TX</td>\n",
       "      <td>USA</td>\n",
       "      <td>10</td>\n",
       "      <td>10</td>\n",
       "      <td>10</td>\n",
       "      <td>325</td>\n",
       "      <td>963</td>\n",
       "      <td>1928</td>\n",
       "      <td>2894</td>\n",
       "      <td>3865</td>\n",
       "      <td>4077</td>\n",
       "      <td>4838</td>\n",
       "      <td>5846</td>\n",
       "      <td>6886</td>\n",
       "      <td>7967</td>\n",
       "      <td>8497</td>\n",
       "      <td>2</td>\n",
       "    </tr>\n",
       "    <tr>\n",
       "      <th>1</th>\n",
       "      <td>31</td>\n",
       "      <td>M</td>\n",
       "      <td>CO</td>\n",
       "      <td>USA</td>\n",
       "      <td>13</td>\n",
       "      <td>13</td>\n",
       "      <td>13</td>\n",
       "      <td>326</td>\n",
       "      <td>954</td>\n",
       "      <td>1907</td>\n",
       "      <td>2873</td>\n",
       "      <td>3884</td>\n",
       "      <td>4104</td>\n",
       "      <td>4905</td>\n",
       "      <td>5964</td>\n",
       "      <td>7022</td>\n",
       "      <td>8079</td>\n",
       "      <td>8542</td>\n",
       "      <td>3</td>\n",
       "    </tr>\n",
       "    <tr>\n",
       "      <th>2</th>\n",
       "      <td>30</td>\n",
       "      <td>M</td>\n",
       "      <td>NY</td>\n",
       "      <td>USA</td>\n",
       "      <td>15</td>\n",
       "      <td>15</td>\n",
       "      <td>15</td>\n",
       "      <td>332</td>\n",
       "      <td>953</td>\n",
       "      <td>1920</td>\n",
       "      <td>2903</td>\n",
       "      <td>3911</td>\n",
       "      <td>4128</td>\n",
       "      <td>4936</td>\n",
       "      <td>5985</td>\n",
       "      <td>7072</td>\n",
       "      <td>8182</td>\n",
       "      <td>8686</td>\n",
       "      <td>0</td>\n",
       "    </tr>\n",
       "    <tr>\n",
       "      <th>3</th>\n",
       "      <td>40</td>\n",
       "      <td>M</td>\n",
       "      <td>CO</td>\n",
       "      <td>USA</td>\n",
       "      <td>17</td>\n",
       "      <td>17</td>\n",
       "      <td>1</td>\n",
       "      <td>332</td>\n",
       "      <td>986</td>\n",
       "      <td>1972</td>\n",
       "      <td>2970</td>\n",
       "      <td>3989</td>\n",
       "      <td>4215</td>\n",
       "      <td>5022</td>\n",
       "      <td>6078</td>\n",
       "      <td>7156</td>\n",
       "      <td>8211</td>\n",
       "      <td>8695</td>\n",
       "      <td>3</td>\n",
       "    </tr>\n",
       "    <tr>\n",
       "      <th>4</th>\n",
       "      <td>28</td>\n",
       "      <td>M</td>\n",
       "      <td>IN</td>\n",
       "      <td>USA</td>\n",
       "      <td>21</td>\n",
       "      <td>21</td>\n",
       "      <td>20</td>\n",
       "      <td>337</td>\n",
       "      <td>981</td>\n",
       "      <td>1983</td>\n",
       "      <td>3017</td>\n",
       "      <td>4074</td>\n",
       "      <td>4300</td>\n",
       "      <td>5123</td>\n",
       "      <td>6203</td>\n",
       "      <td>7305</td>\n",
       "      <td>8364</td>\n",
       "      <td>8827</td>\n",
       "      <td>1</td>\n",
       "    </tr>\n",
       "    <tr>\n",
       "      <th>...</th>\n",
       "      <td>...</td>\n",
       "      <td>...</td>\n",
       "      <td>...</td>\n",
       "      <td>...</td>\n",
       "      <td>...</td>\n",
       "      <td>...</td>\n",
       "      <td>...</td>\n",
       "      <td>...</td>\n",
       "      <td>...</td>\n",
       "      <td>...</td>\n",
       "      <td>...</td>\n",
       "      <td>...</td>\n",
       "      <td>...</td>\n",
       "      <td>...</td>\n",
       "      <td>...</td>\n",
       "      <td>...</td>\n",
       "      <td>...</td>\n",
       "      <td>...</td>\n",
       "      <td>...</td>\n",
       "    </tr>\n",
       "    <tr>\n",
       "      <th>23778</th>\n",
       "      <td>46</td>\n",
       "      <td>F</td>\n",
       "      <td>CA</td>\n",
       "      <td>USA</td>\n",
       "      <td>26625</td>\n",
       "      <td>12164</td>\n",
       "      <td>1900</td>\n",
       "      <td>1071</td>\n",
       "      <td>2823</td>\n",
       "      <td>5521</td>\n",
       "      <td>8929</td>\n",
       "      <td>12507</td>\n",
       "      <td>13216</td>\n",
       "      <td>16052</td>\n",
       "      <td>19452</td>\n",
       "      <td>23360</td>\n",
       "      <td>-1</td>\n",
       "      <td>28076</td>\n",
       "      <td>3</td>\n",
       "    </tr>\n",
       "    <tr>\n",
       "      <th>23779</th>\n",
       "      <td>47</td>\n",
       "      <td>F</td>\n",
       "      <td>CA</td>\n",
       "      <td>USA</td>\n",
       "      <td>26626</td>\n",
       "      <td>12165</td>\n",
       "      <td>1901</td>\n",
       "      <td>1071</td>\n",
       "      <td>2824</td>\n",
       "      <td>5522</td>\n",
       "      <td>8930</td>\n",
       "      <td>12508</td>\n",
       "      <td>13217</td>\n",
       "      <td>16053</td>\n",
       "      <td>19452</td>\n",
       "      <td>23361</td>\n",
       "      <td>26715</td>\n",
       "      <td>28076</td>\n",
       "      <td>3</td>\n",
       "    </tr>\n",
       "    <tr>\n",
       "      <th>23780</th>\n",
       "      <td>39</td>\n",
       "      <td>M</td>\n",
       "      <td>WI</td>\n",
       "      <td>USA</td>\n",
       "      <td>26627</td>\n",
       "      <td>14462</td>\n",
       "      <td>4801</td>\n",
       "      <td>1153</td>\n",
       "      <td>2542</td>\n",
       "      <td>5389</td>\n",
       "      <td>8629</td>\n",
       "      <td>12294</td>\n",
       "      <td>13069</td>\n",
       "      <td>15953</td>\n",
       "      <td>19767</td>\n",
       "      <td>24124</td>\n",
       "      <td>28461</td>\n",
       "      <td>30207</td>\n",
       "      <td>2</td>\n",
       "    </tr>\n",
       "    <tr>\n",
       "      <th>23781</th>\n",
       "      <td>35</td>\n",
       "      <td>M</td>\n",
       "      <td>TN</td>\n",
       "      <td>USA</td>\n",
       "      <td>26628</td>\n",
       "      <td>14463</td>\n",
       "      <td>4802</td>\n",
       "      <td>1157</td>\n",
       "      <td>2158</td>\n",
       "      <td>4509</td>\n",
       "      <td>7089</td>\n",
       "      <td>10155</td>\n",
       "      <td>10822</td>\n",
       "      <td>14835</td>\n",
       "      <td>19679</td>\n",
       "      <td>24591</td>\n",
       "      <td>28752</td>\n",
       "      <td>30309</td>\n",
       "      <td>2</td>\n",
       "    </tr>\n",
       "    <tr>\n",
       "      <th>23782</th>\n",
       "      <td>35</td>\n",
       "      <td>F</td>\n",
       "      <td>MA</td>\n",
       "      <td>USA</td>\n",
       "      <td>26629</td>\n",
       "      <td>12166</td>\n",
       "      <td>5946</td>\n",
       "      <td>1470</td>\n",
       "      <td>2692</td>\n",
       "      <td>5731</td>\n",
       "      <td>9658</td>\n",
       "      <td>16180</td>\n",
       "      <td>17237</td>\n",
       "      <td>-1</td>\n",
       "      <td>27398</td>\n",
       "      <td>-1</td>\n",
       "      <td>-1</td>\n",
       "      <td>37823</td>\n",
       "      <td>1</td>\n",
       "    </tr>\n",
       "  </tbody>\n",
       "</table>\n",
       "<p>23783 rows × 19 columns</p>\n",
       "</div>"
      ],
      "text/plain": [
       "       Age M/F State Country  Overall  Gender  Division  pace_sec  5K_sec  \\\n",
       "0       28   M    TX     USA       10      10        10       325     963   \n",
       "1       31   M    CO     USA       13      13        13       326     954   \n",
       "2       30   M    NY     USA       15      15        15       332     953   \n",
       "3       40   M    CO     USA       17      17         1       332     986   \n",
       "4       28   M    IN     USA       21      21        20       337     981   \n",
       "...    ...  ..   ...     ...      ...     ...       ...       ...     ...   \n",
       "23778   46   F    CA     USA    26625   12164      1900      1071    2823   \n",
       "23779   47   F    CA     USA    26626   12165      1901      1071    2824   \n",
       "23780   39   M    WI     USA    26627   14462      4801      1153    2542   \n",
       "23781   35   M    TN     USA    26628   14463      4802      1157    2158   \n",
       "23782   35   F    MA     USA    26629   12166      5946      1470    2692   \n",
       "\n",
       "       10K_sec  15K_sec  20K_sec  Half_sec  25K_sec  30K_sec  35K_sec  \\\n",
       "0         1928     2894     3865      4077     4838     5846     6886   \n",
       "1         1907     2873     3884      4104     4905     5964     7022   \n",
       "2         1920     2903     3911      4128     4936     5985     7072   \n",
       "3         1972     2970     3989      4215     5022     6078     7156   \n",
       "4         1983     3017     4074      4300     5123     6203     7305   \n",
       "...        ...      ...      ...       ...      ...      ...      ...   \n",
       "23778     5521     8929    12507     13216    16052    19452    23360   \n",
       "23779     5522     8930    12508     13217    16053    19452    23361   \n",
       "23780     5389     8629    12294     13069    15953    19767    24124   \n",
       "23781     4509     7089    10155     10822    14835    19679    24591   \n",
       "23782     5731     9658    16180     17237       -1    27398       -1   \n",
       "\n",
       "       40K_sec  official_time_sec  cluster  \n",
       "0         7967               8497        2  \n",
       "1         8079               8542        3  \n",
       "2         8182               8686        0  \n",
       "3         8211               8695        3  \n",
       "4         8364               8827        1  \n",
       "...        ...                ...      ...  \n",
       "23778       -1              28076        3  \n",
       "23779    26715              28076        3  \n",
       "23780    28461              30207        2  \n",
       "23781    28752              30309        2  \n",
       "23782       -1              37823        1  \n",
       "\n",
       "[23783 rows x 19 columns]"
      ]
     },
     "execution_count": 42,
     "metadata": {},
     "output_type": "execute_result"
    }
   ],
   "source": [
    "df3 = df2.copy()\n",
    "df3['cluster'] = cluster\n",
    "df3"
   ]
  },
  {
   "cell_type": "code",
   "execution_count": 43,
   "metadata": {},
   "outputs": [],
   "source": [
    "c0 = df3[df3.cluster == 0]\n",
    "c1 = df3[df3.cluster == 1]\n",
    "c2 = df3[df3.cluster == 2]\n",
    "c3 = df3[df3.cluster == 3]"
   ]
  },
  {
   "cell_type": "code",
   "execution_count": 44,
   "metadata": {},
   "outputs": [
    {
     "data": {
      "image/png": "[encoded data removed]",
      "text/plain": [
       "<Figure size 648x504 with 1 Axes>"
      ]
     },
     "metadata": {
      "needs_background": "light"
     },
     "output_type": "display_data"
    }
   ],
   "source": [
    "plt.figure(figsize=(9,7))\n",
    "plt.bar( [0,1,2,3],[c0.shape[0],c1.shape[0],c2.shape[0],c3.shape[0]], width=0.35)\n",
    "plt.xticks([0,1,2,3], ['c0','c1','c2','c3'], fontsize=12)\n",
    "\n",
    "plt.xlabel('Clusters', fontsize=15)\n",
    "plt.ylabel('Amount', fontsize=15)\n",
    "plt.title('Number of runners', fontsize=15)\n",
    "\n",
    "plt.show()"
   ]
  },
  {
   "cell_type": "code",
   "execution_count": 45,
   "metadata": {},
   "outputs": [
    {
     "data": {
      "text/html": [
       "<div>\n",
       "<style scoped>\n",
       "    .dataframe tbody tr th:only-of-type {\n",
       "        vertical-align: middle;\n",
       "    }\n",
       "\n",
       "    .dataframe tbody tr th {\n",
       "        vertical-align: top;\n",
       "    }\n",
       "\n",
       "    .dataframe thead th {\n",
       "        text-align: right;\n",
       "    }\n",
       "</style>\n",
       "<table border=\"1\" class=\"dataframe\">\n",
       "  <thead>\n",
       "    <tr style=\"text-align: right;\">\n",
       "      <th></th>\n",
       "      <th>c0</th>\n",
       "      <th>c1</th>\n",
       "      <th>c2</th>\n",
       "      <th>c3</th>\n",
       "    </tr>\n",
       "  </thead>\n",
       "  <tbody>\n",
       "    <tr>\n",
       "      <th>M</th>\n",
       "      <td>3312</td>\n",
       "      <td>4255</td>\n",
       "      <td>2171</td>\n",
       "      <td>2632</td>\n",
       "    </tr>\n",
       "    <tr>\n",
       "      <th>F</th>\n",
       "      <td>2823</td>\n",
       "      <td>4220</td>\n",
       "      <td>1962</td>\n",
       "      <td>2408</td>\n",
       "    </tr>\n",
       "  </tbody>\n",
       "</table>\n",
       "</div>"
      ],
      "text/plain": [
       "     c0    c1    c2    c3\n",
       "M  3312  4255  2171  2632\n",
       "F  2823  4220  1962  2408"
      ]
     },
     "execution_count": 45,
     "metadata": {},
     "output_type": "execute_result"
    }
   ],
   "source": [
    "cluster_gender = pd.concat((c0['M/F'].value_counts(),c1['M/F'].value_counts(),c2['M/F'].value_counts(),c3['M/F'].value_counts()), axis=1, keys=['c0','c1','c2','c3'])\n",
    "cluster_gender"
   ]
  },
  {
   "cell_type": "code",
   "execution_count": 46,
   "metadata": {},
   "outputs": [
    {
     "data": {
      "image/png": "[encoded data removed]",
      "text/plain": [
       "<Figure size 648x504 with 1 Axes>"
      ]
     },
     "metadata": {
      "needs_background": "light"
     },
     "output_type": "display_data"
    }
   ],
   "source": [
    "plt.figure(figsize=(9,7))\n",
    "M = cluster_gender.loc['M']\n",
    "F = cluster_gender.loc['F']\n",
    "idx = np.arange(4)\n",
    "bar_width = 0.35\n",
    "\n",
    "plt.bar(idx - bar_width/2, M, color='b', width=bar_width, label='Male')\n",
    "plt.bar(idx + bar_width/2, F, color='g', width=bar_width, label='Female')\n",
    "\n",
    "plt.xticks(idx, cluster_gender.columns, fontsize=12)\n",
    "plt.legend(fontsize=15)\n",
    "plt.xlabel('Clusters', fontsize=15)\n",
    "plt.ylabel('Amount', fontsize=15)\n",
    "plt.title('Number of males and females (amount)', fontsize=15)\n",
    "\n",
    "plt.show()"
   ]
  },
  {
   "cell_type": "code",
   "execution_count": null,
   "metadata": {},
   "outputs": [],
   "source": []
  },
  {
   "cell_type": "code",
   "execution_count": 47,
   "metadata": {},
   "outputs": [],
   "source": [
    "# copy = df1.copy()\n",
    "# bins = [17,25,40, 70, 85]\n",
    "# copy['Ranges'] = pd.cut(copy['Age'],bins,labels=[\"18-25\",\"26-40\",\"41-70\",\">70\"]) \n",
    "# copy2 = pd.crosstab(copy.Ranges,copy['M/F']).apply(lambda r: (r/r.sum()) * 100 , axis=1)\n",
    "\n",
    "# copy['Ranges']\n",
    "# outcome = copy2.plot(kind = \"bar\", stacked = True, color = ['pink','y'], figsize=(9,6),fontsize=12, position=0.5)\n",
    "# # outcome.get_legend_handles_labels\n",
    "# outcome.legend(bbox_to_anchor = (1.3, 1))\n",
    "# outcome.set_title('Marathon participants - Gender and Age', fontsize=20)\n",
    "# outcome.set_xlabel('Age', fontdict={'size':12})\n",
    "# outcome.set_ylabel('Percentages (%)', fontdict={'size':12})\n",
    "# plt.show()"
   ]
  },
  {
   "cell_type": "code",
   "execution_count": 53,
   "metadata": {},
   "outputs": [
    {
     "data": {
      "image/png": "[encoded data removed]",
      "text/plain": [
       "<Figure size 648x504 with 1 Axes>"
      ]
     },
     "metadata": {
      "needs_background": "light"
     },
     "output_type": "display_data"
    }
   ],
   "source": [
    "plt.figure(figsize=(9,7))\n",
    "M_percent = cluster_gender.apply(lambda x: x.loc['M']/(x.loc['M']+x.loc['F'])*100)\n",
    "F_percent = cluster_gender.apply(lambda x: x.loc['F']/(x.loc['M']+x.loc['F'])*100)\n",
    "idx = np.arange(4)\n",
    "bar_width = 0.35\n",
    "\n",
    "plt.bar(idx - bar_width/2, M_percent, color='g', width=bar_width, label='Male')\n",
    "plt.bar(idx + bar_width/2, F_percent, color='r', width=bar_width, label='Female')\n",
    "\n",
    "plt.xticks(idx, cluster_gender.columns, fontsize=12)\n",
    "plt.legend(fontsize=15, loc=(1.05, 0.7))\n",
    "plt.xlabel('Clusters', fontsize=15)\n",
    "plt.ylabel('%', fontsize=15)\n",
    "plt.title('Number of males and females (%)', fontsize=15)\n",
    "\n",
    "plt.show()"
   ]
  },
  {
   "cell_type": "code",
   "execution_count": 49,
   "metadata": {},
   "outputs": [
    {
     "data": {
      "text/html": [
       "<div>\n",
       "<style scoped>\n",
       "    .dataframe tbody tr th:only-of-type {\n",
       "        vertical-align: middle;\n",
       "    }\n",
       "\n",
       "    .dataframe tbody tr th {\n",
       "        vertical-align: top;\n",
       "    }\n",
       "\n",
       "    .dataframe thead th {\n",
       "        text-align: right;\n",
       "    }\n",
       "</style>\n",
       "<table border=\"1\" class=\"dataframe\">\n",
       "  <thead>\n",
       "    <tr style=\"text-align: right;\">\n",
       "      <th></th>\n",
       "      <th>c0</th>\n",
       "      <th>c1</th>\n",
       "      <th>c2</th>\n",
       "      <th>c3</th>\n",
       "    </tr>\n",
       "  </thead>\n",
       "  <tbody>\n",
       "    <tr>\n",
       "      <th>[18, 25]</th>\n",
       "      <td>393</td>\n",
       "      <td>894</td>\n",
       "      <td>216</td>\n",
       "      <td>236</td>\n",
       "    </tr>\n",
       "    <tr>\n",
       "      <th>[26, 40]</th>\n",
       "      <td>2221</td>\n",
       "      <td>3566</td>\n",
       "      <td>1501</td>\n",
       "      <td>1761</td>\n",
       "    </tr>\n",
       "    <tr>\n",
       "      <th>[41, 70]</th>\n",
       "      <td>3490</td>\n",
       "      <td>3988</td>\n",
       "      <td>2391</td>\n",
       "      <td>3012</td>\n",
       "    </tr>\n",
       "    <tr>\n",
       "      <th>[71, 90]</th>\n",
       "      <td>31</td>\n",
       "      <td>27</td>\n",
       "      <td>25</td>\n",
       "      <td>31</td>\n",
       "    </tr>\n",
       "  </tbody>\n",
       "</table>\n",
       "</div>"
      ],
      "text/plain": [
       "            c0    c1    c2    c3\n",
       "[18, 25]   393   894   216   236\n",
       "[26, 40]  2221  3566  1501  1761\n",
       "[41, 70]  3490  3988  2391  3012\n",
       "[71, 90]    31    27    25    31"
      ]
     },
     "execution_count": 49,
     "metadata": {},
     "output_type": "execute_result"
    }
   ],
   "source": [
    "bins = pd.IntervalIndex.from_tuples([(18, 25), (26, 40), (41, 70), (71, 90)], closed='both')\n",
    "age_c0 = pd.cut(c0.Age, bins=bins)\n",
    "age_c1 = pd.cut(c1.Age, bins=bins)\n",
    "age_c2 = pd.cut(c2.Age, bins=bins)\n",
    "age_c3 = pd.cut(c3.Age, bins=bins)\n",
    "cluster_age = pd.concat((age_c0.value_counts().sort_index(),age_c1.value_counts().sort_index(),age_c2.value_counts().sort_index(),age_c3.value_counts().sort_index()), axis=1, keys=['c0','c1','c2','c3'])\n",
    "cluster_age"
   ]
  },
  {
   "cell_type": "code",
   "execution_count": 50,
   "metadata": {},
   "outputs": [
    {
     "data": {
      "image/png": "[encoded data removed]",
      "text/plain": [
       "<Figure size 792x576 with 1 Axes>"
      ]
     },
     "metadata": {
      "needs_background": "light"
     },
     "output_type": "display_data"
    }
   ],
   "source": [
    "plt.figure(figsize=(11,8))\n",
    "\n",
    "age_18_25 = cluster_age.iloc[0]\n",
    "age_26_40 = cluster_age.iloc[1]\n",
    "age_41_70 = cluster_age.iloc[2]\n",
    "age_71_83 = cluster_age.iloc[3]\n",
    "idx = np.arange(0,8,2)\n",
    "bar_width = 0.35\n",
    "\n",
    "plt.bar(idx - bar_width*1.5, age_18_25, color='b', width=bar_width, label='18-25')\n",
    "plt.bar(idx - bar_width/2, age_26_40, color='r', width=bar_width, label='26-40')\n",
    "plt.bar(idx + bar_width/2, age_41_70, color='pink', width=bar_width, label='41-70')\n",
    "plt.bar(idx + bar_width*1.5, age_71_83, color='g', width=bar_width, label='71-83')\n",
    "\n",
    "plt.xticks(idx, cluster_age.columns, fontsize=12)\n",
    "plt.legend(fontsize=15)\n",
    "plt.xlabel('Clusters', fontsize=15)\n",
    "plt.ylabel('Amount', fontsize=15)\n",
    "plt.title('Different age ranges (amount)', fontsize=15)\n",
    "\n",
    "plt.show()"
   ]
  },
  {
   "cell_type": "code",
   "execution_count": 51,
   "metadata": {},
   "outputs": [
    {
     "data": {
      "image/png": "[encoded data removed]",
      "text/plain": [
       "<Figure size 1080x576 with 2 Axes>"
      ]
     },
     "metadata": {
      "needs_background": "light"
     },
     "output_type": "display_data"
    }
   ],
   "source": [
    "plt.figure(figsize=(15,8))\n",
    "\n",
    "idx = np.arange(4)\n",
    "plt.subplot(121)\n",
    "plt.bar(idx, age_18_25, color='b', width=bar_width, label='Male')\n",
    "plt.xticks(idx, cluster_age.columns, fontsize=12)\n",
    "plt.xlabel('Clusters', fontsize=15)\n",
    "plt.ylabel('Amount', fontsize=15)\n",
    "plt.title('Age (18-25)', fontsize=15)\n",
    "\n",
    "plt.subplot(122)\n",
    "plt.bar(idx, age_71_83, color='g', width=bar_width, label='Male')\n",
    "plt.xticks(idx, cluster_age.columns, fontsize=12)\n",
    "plt.xlabel('Clusters', fontsize=15)\n",
    "plt.ylabel('Amount', fontsize=15)\n",
    "plt.title('Age (71-83)', fontsize=15)\n",
    "\n",
    "plt.show()"
   ]
  },
  {
   "cell_type": "code",
   "execution_count": 52,
   "metadata": {},
   "outputs": [
    {
     "data": {
      "image/png": "[encoded data removed]",
      "text/plain": [
       "<Figure size 648x504 with 1 Axes>"
      ]
     },
     "metadata": {
      "needs_background": "light"
     },
     "output_type": "display_data"
    }
   ],
   "source": [
    "plt.figure(figsize=(9,7))\n",
    "df3['official_time_sec'].groupby(pd.cut(df3['Age'], pd.IntervalIndex.from_tuples([(18, 25), (26, 40), (41, 70), (71, 83)], \n",
    "                                                                                 closed='both'))).aggregate(np.average).plot(kind=\"bar\", title=\"Average time by age group\")\n",
    "plt.show()"
   ]
  },
  {
   "cell_type": "code",
   "execution_count": null,
   "metadata": {},
   "outputs": [],
   "source": []
  },
  {
   "cell_type": "code",
   "execution_count": null,
   "metadata": {},
   "outputs": [],
   "source": []
  }
 ],
 "metadata": {
  "kernelspec": {
   "display_name": "Python 3",
   "language": "python",
   "name": "python3"
  },
  "language_info": {
   "codemirror_mode": {
    "name": "ipython",
    "version": 3
   },
   "file_extension": ".py",
   "mimetype": "text/x-python",
   "name": "python",
   "nbconvert_exporter": "python",
   "pygments_lexer": "ipython3",
   "version": "3.8.5"
  }
 },
 "nbformat": 4,
 "nbformat_minor": 4
}
