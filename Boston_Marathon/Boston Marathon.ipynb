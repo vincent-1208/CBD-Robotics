{
 "cells": [
  {
   "cell_type": "markdown",
   "metadata": {},
   "source": [
    "# BOSTON MARATHON"
   ]
  },
  {
   "cell_type": "markdown",
   "metadata": {},
   "source": [
    "# I INTRODUCTION:"
   ]
  },
  {
   "cell_type": "markdown",
   "metadata": {},
   "source": [
    "Bib: Athlete's number"
   ]
  },
  {
   "cell_type": "markdown",
   "metadata": {},
   "source": [
    "Name: Athlete's name"
   ]
  },
  {
   "cell_type": "markdown",
   "metadata": {},
   "source": [
    "Age: Athlete's age"
   ]
  },
  {
   "cell_type": "markdown",
   "metadata": {},
   "source": [
    "M/F:Male or Female"
   ]
  },
  {
   "cell_type": "markdown",
   "metadata": {},
   "source": [
    "City: Athele's city"
   ]
  },
  {
   "cell_type": "markdown",
   "metadata": {},
   "source": [
    "State: Athele's state"
   ]
  },
  {
   "cell_type": "markdown",
   "metadata": {},
   "source": [
    "Country: Athele's country"
   ]
  },
  {
   "cell_type": "markdown",
   "metadata": {},
   "source": [
    "Citizen: Athele's nationality"
   ]
  },
  {
   "cell_type": "markdown",
   "metadata": {},
   "source": [
    "5K: Running time 5km"
   ]
  },
  {
   "cell_type": "markdown",
   "metadata": {},
   "source": [
    "10km: Running time 10km"
   ]
  },
  {
   "cell_type": "markdown",
   "metadata": {},
   "source": [
    "15km: Running time 15km"
   ]
  },
  {
   "cell_type": "markdown",
   "metadata": {},
   "source": [
    "20km: Running time 20km"
   ]
  },
  {
   "cell_type": "markdown",
   "metadata": {},
   "source": [
    "Half: Running time Half"
   ]
  },
  {
   "cell_type": "markdown",
   "metadata": {},
   "source": [
    "25km: Running time 25km"
   ]
  },
  {
   "cell_type": "markdown",
   "metadata": {},
   "source": [
    "30km: Running time 30km"
   ]
  },
  {
   "cell_type": "markdown",
   "metadata": {},
   "source": [
    "35km: Running time 35km"
   ]
  },
  {
   "cell_type": "markdown",
   "metadata": {},
   "source": [
    "40km: Running time 40km"
   ]
  },
  {
   "cell_type": "markdown",
   "metadata": {},
   "source": [
    "Pace: Running time in 1 minute"
   ]
  },
  {
   "cell_type": "markdown",
   "metadata": {},
   "source": [
    "Proj Time: "
   ]
  },
  {
   "cell_type": "markdown",
   "metadata": {},
   "source": [
    "Official Time: Official runtime"
   ]
  },
  {
   "cell_type": "markdown",
   "metadata": {},
   "source": [
    "Overall: Ranking on total number of athele"
   ]
  },
  {
   "cell_type": "markdown",
   "metadata": {},
   "source": [
    "Gender: Ranking by gender"
   ]
  },
  {
   "cell_type": "markdown",
   "metadata": {},
   "source": [
    "Division: Ranking by age"
   ]
  },
  {
   "cell_type": "markdown",
   "metadata": {},
   "source": [
    "# II CONTENT:"
   ]
  },
  {
   "cell_type": "markdown",
   "metadata": {},
   "source": [
    "## 1. Import packets and dataset"
   ]
  },
  {
   "cell_type": "code",
   "execution_count": 134,
   "metadata": {},
   "outputs": [],
   "source": [
    "import numpy as np\n",
    "import pandas as pd\n",
    "\n",
    "from matplotlib import pyplot as plt\n",
    "import seaborn as sns\n",
    "\n",
    "from datetime import datetime"
   ]
  },
  {
   "cell_type": "code",
   "execution_count": 135,
   "metadata": {},
   "outputs": [],
   "source": [
    "original  = pd.read_csv('marathon_results_2016.csv')"
   ]
  },
  {
   "cell_type": "code",
   "execution_count": 136,
   "metadata": {},
   "outputs": [
    {
     "data": {
      "text/html": [
       "<div>\n",
       "<style scoped>\n",
       "    .dataframe tbody tr th:only-of-type {\n",
       "        vertical-align: middle;\n",
       "    }\n",
       "\n",
       "    .dataframe tbody tr th {\n",
       "        vertical-align: top;\n",
       "    }\n",
       "\n",
       "    .dataframe thead th {\n",
       "        text-align: right;\n",
       "    }\n",
       "</style>\n",
       "<table border=\"1\" class=\"dataframe\">\n",
       "  <thead>\n",
       "    <tr style=\"text-align: right;\">\n",
       "      <th></th>\n",
       "      <th>Bib</th>\n",
       "      <th>Name</th>\n",
       "      <th>Age</th>\n",
       "      <th>M/F</th>\n",
       "      <th>City</th>\n",
       "      <th>State</th>\n",
       "      <th>Country</th>\n",
       "      <th>Citizen</th>\n",
       "      <th>Unnamed: 8</th>\n",
       "      <th>5K</th>\n",
       "      <th>...</th>\n",
       "      <th>25K</th>\n",
       "      <th>30K</th>\n",
       "      <th>35K</th>\n",
       "      <th>40K</th>\n",
       "      <th>Pace</th>\n",
       "      <th>Proj Time</th>\n",
       "      <th>Official Time</th>\n",
       "      <th>Overall</th>\n",
       "      <th>Gender</th>\n",
       "      <th>Division</th>\n",
       "    </tr>\n",
       "  </thead>\n",
       "  <tbody>\n",
       "    <tr>\n",
       "      <th>0</th>\n",
       "      <td>5</td>\n",
       "      <td>Hayle, Lemi Berhanu</td>\n",
       "      <td>21</td>\n",
       "      <td>M</td>\n",
       "      <td>Addis Ababa</td>\n",
       "      <td>NaN</td>\n",
       "      <td>ETH</td>\n",
       "      <td>NaN</td>\n",
       "      <td>NaN</td>\n",
       "      <td>0:15:47</td>\n",
       "      <td>...</td>\n",
       "      <td>1:19:15</td>\n",
       "      <td>1:34:17</td>\n",
       "      <td>1:50:24</td>\n",
       "      <td>2:05:59</td>\n",
       "      <td>0:05:04</td>\n",
       "      <td>2:12:45</td>\n",
       "      <td>2:12:45</td>\n",
       "      <td>1</td>\n",
       "      <td>1</td>\n",
       "      <td>1</td>\n",
       "    </tr>\n",
       "    <tr>\n",
       "      <th>1</th>\n",
       "      <td>1</td>\n",
       "      <td>Desisa, Lelisa</td>\n",
       "      <td>26</td>\n",
       "      <td>M</td>\n",
       "      <td>Ambo</td>\n",
       "      <td>NaN</td>\n",
       "      <td>ETH</td>\n",
       "      <td>NaN</td>\n",
       "      <td>NaN</td>\n",
       "      <td>0:15:47</td>\n",
       "      <td>...</td>\n",
       "      <td>1:19:15</td>\n",
       "      <td>1:34:17</td>\n",
       "      <td>1:50:24</td>\n",
       "      <td>2:05:59</td>\n",
       "      <td>0:05:06</td>\n",
       "      <td>2:13:32</td>\n",
       "      <td>2:13:32</td>\n",
       "      <td>2</td>\n",
       "      <td>2</td>\n",
       "      <td>2</td>\n",
       "    </tr>\n",
       "    <tr>\n",
       "      <th>2</th>\n",
       "      <td>6</td>\n",
       "      <td>Tsegay, Yemane Adhane</td>\n",
       "      <td>31</td>\n",
       "      <td>M</td>\n",
       "      <td>Addis Ababa</td>\n",
       "      <td>NaN</td>\n",
       "      <td>ETH</td>\n",
       "      <td>NaN</td>\n",
       "      <td>NaN</td>\n",
       "      <td>0:15:46</td>\n",
       "      <td>...</td>\n",
       "      <td>1:19:15</td>\n",
       "      <td>1:34:45</td>\n",
       "      <td>1:50:48</td>\n",
       "      <td>2:06:47</td>\n",
       "      <td>0:05:07</td>\n",
       "      <td>2:14:02</td>\n",
       "      <td>2:14:02</td>\n",
       "      <td>3</td>\n",
       "      <td>3</td>\n",
       "      <td>3</td>\n",
       "    </tr>\n",
       "    <tr>\n",
       "      <th>3</th>\n",
       "      <td>11</td>\n",
       "      <td>Korir, Wesley</td>\n",
       "      <td>33</td>\n",
       "      <td>M</td>\n",
       "      <td>Kitale</td>\n",
       "      <td>NaN</td>\n",
       "      <td>KEN</td>\n",
       "      <td>NaN</td>\n",
       "      <td>NaN</td>\n",
       "      <td>0:15:46</td>\n",
       "      <td>...</td>\n",
       "      <td>1:19:16</td>\n",
       "      <td>1:34:45</td>\n",
       "      <td>1:50:48</td>\n",
       "      <td>2:06:47</td>\n",
       "      <td>0:05:07</td>\n",
       "      <td>2:14:05</td>\n",
       "      <td>2:14:05</td>\n",
       "      <td>4</td>\n",
       "      <td>4</td>\n",
       "      <td>4</td>\n",
       "    </tr>\n",
       "    <tr>\n",
       "      <th>4</th>\n",
       "      <td>14</td>\n",
       "      <td>Lonyangata, Paul</td>\n",
       "      <td>23</td>\n",
       "      <td>M</td>\n",
       "      <td>Eldoret</td>\n",
       "      <td>NaN</td>\n",
       "      <td>KEN</td>\n",
       "      <td>NaN</td>\n",
       "      <td>NaN</td>\n",
       "      <td>0:15:46</td>\n",
       "      <td>...</td>\n",
       "      <td>1:19:18</td>\n",
       "      <td>1:34:46</td>\n",
       "      <td>1:51:30</td>\n",
       "      <td>2:08:11</td>\n",
       "      <td>0:05:11</td>\n",
       "      <td>2:15:45</td>\n",
       "      <td>2:15:45</td>\n",
       "      <td>5</td>\n",
       "      <td>5</td>\n",
       "      <td>5</td>\n",
       "    </tr>\n",
       "  </tbody>\n",
       "</table>\n",
       "<p>5 rows × 24 columns</p>\n",
       "</div>"
      ],
      "text/plain": [
       "  Bib                   Name  Age M/F         City State Country Citizen  \\\n",
       "0   5    Hayle, Lemi Berhanu   21   M  Addis Ababa   NaN     ETH     NaN   \n",
       "1   1         Desisa, Lelisa   26   M         Ambo   NaN     ETH     NaN   \n",
       "2   6  Tsegay, Yemane Adhane   31   M  Addis Ababa   NaN     ETH     NaN   \n",
       "3  11          Korir, Wesley   33   M       Kitale   NaN     KEN     NaN   \n",
       "4  14       Lonyangata, Paul   23   M      Eldoret   NaN     KEN     NaN   \n",
       "\n",
       "  Unnamed: 8       5K  ...      25K      30K      35K      40K     Pace  \\\n",
       "0        NaN  0:15:47  ...  1:19:15  1:34:17  1:50:24  2:05:59  0:05:04   \n",
       "1        NaN  0:15:47  ...  1:19:15  1:34:17  1:50:24  2:05:59  0:05:06   \n",
       "2        NaN  0:15:46  ...  1:19:15  1:34:45  1:50:48  2:06:47  0:05:07   \n",
       "3        NaN  0:15:46  ...  1:19:16  1:34:45  1:50:48  2:06:47  0:05:07   \n",
       "4        NaN  0:15:46  ...  1:19:18  1:34:46  1:51:30  2:08:11  0:05:11   \n",
       "\n",
       "  Proj Time Official Time Overall Gender Division  \n",
       "0   2:12:45       2:12:45       1      1        1  \n",
       "1   2:13:32       2:13:32       2      2        2  \n",
       "2   2:14:02       2:14:02       3      3        3  \n",
       "3   2:14:05       2:14:05       4      4        4  \n",
       "4   2:15:45       2:15:45       5      5        5  \n",
       "\n",
       "[5 rows x 24 columns]"
      ]
     },
     "execution_count": 136,
     "metadata": {},
     "output_type": "execute_result"
    }
   ],
   "source": [
    "original.head()"
   ]
  },
  {
   "cell_type": "code",
   "execution_count": 137,
   "metadata": {},
   "outputs": [
    {
     "data": {
      "text/plain": [
       "(26630, 24)"
      ]
     },
     "execution_count": 137,
     "metadata": {},
     "output_type": "execute_result"
    }
   ],
   "source": [
    "original.shape"
   ]
  },
  {
   "cell_type": "markdown",
   "metadata": {},
   "source": [
    " # 2. Handle missing value"
   ]
  },
  {
   "cell_type": "code",
   "execution_count": 138,
   "metadata": {
    "scrolled": false
   },
   "outputs": [
    {
     "name": "stdout",
     "output_type": "stream",
     "text": [
      "<class 'pandas.core.frame.DataFrame'>\n",
      "RangeIndex: 26630 entries, 0 to 26629\n",
      "Data columns (total 24 columns):\n",
      " #   Column         Non-Null Count  Dtype \n",
      "---  ------         --------------  ----- \n",
      " 0   Bib            26630 non-null  object\n",
      " 1   Name           26630 non-null  object\n",
      " 2   Age            26630 non-null  int64 \n",
      " 3   M/F            26630 non-null  object\n",
      " 4   City           26629 non-null  object\n",
      " 5   State          23783 non-null  object\n",
      " 6   Country        26630 non-null  object\n",
      " 7   Citizen        1122 non-null   object\n",
      " 8   Unnamed: 8     83 non-null     object\n",
      " 9   5K             26630 non-null  object\n",
      " 10  10K            26630 non-null  object\n",
      " 11  15K            26630 non-null  object\n",
      " 12  20K            26630 non-null  object\n",
      " 13  Half           26630 non-null  object\n",
      " 14  25K            26630 non-null  object\n",
      " 15  30K            26630 non-null  object\n",
      " 16  35K            26630 non-null  object\n",
      " 17  40K            26630 non-null  object\n",
      " 18  Pace           26630 non-null  object\n",
      " 19  Proj Time      26630 non-null  object\n",
      " 20  Official Time  26630 non-null  object\n",
      " 21  Overall        26630 non-null  int64 \n",
      " 22  Gender         26630 non-null  int64 \n",
      " 23  Division       26630 non-null  int64 \n",
      "dtypes: int64(4), object(20)\n",
      "memory usage: 4.9+ MB\n"
     ]
    }
   ],
   "source": [
    "original.info()"
   ]
  },
  {
   "cell_type": "markdown",
   "metadata": {},
   "source": [
    "int64: 4 features"
   ]
  },
  {
   "cell_type": "markdown",
   "metadata": {},
   "source": [
    "object: 20 features"
   ]
  },
  {
   "cell_type": "code",
   "execution_count": 151,
   "metadata": {},
   "outputs": [],
   "source": [
    "#Drop feature Rank_Tot and Country_code\n",
    "df1 = original.drop(columns = {'Bib', 'Unnamed: 8','City', 'State', 'Citizen', '5K', '10K', '15K', '20K', 'Half', '25K', \n",
    "                               '30K','35K', '40K', 'Proj Time'})\n",
    "df1 = df1.dropna()"
   ]
  },
  {
   "cell_type": "markdown",
   "metadata": {},
   "source": [
    "## 3 Univariate analysis"
   ]
  },
  {
   "cell_type": "markdown",
   "metadata": {},
   "source": [
    "### 3.1 Object variable"
   ]
  },
  {
   "cell_type": "code",
   "execution_count": 115,
   "metadata": {},
   "outputs": [
    {
     "data": {
      "text/html": [
       "<div>\n",
       "<style scoped>\n",
       "    .dataframe tbody tr th:only-of-type {\n",
       "        vertical-align: middle;\n",
       "    }\n",
       "\n",
       "    .dataframe tbody tr th {\n",
       "        vertical-align: top;\n",
       "    }\n",
       "\n",
       "    .dataframe thead th {\n",
       "        text-align: right;\n",
       "    }\n",
       "</style>\n",
       "<table border=\"1\" class=\"dataframe\">\n",
       "  <thead>\n",
       "    <tr style=\"text-align: right;\">\n",
       "      <th></th>\n",
       "      <th>Name</th>\n",
       "      <th>M/F</th>\n",
       "      <th>Country</th>\n",
       "      <th>Pace</th>\n",
       "      <th>Official Time</th>\n",
       "    </tr>\n",
       "  </thead>\n",
       "  <tbody>\n",
       "    <tr>\n",
       "      <th>count</th>\n",
       "      <td>26630</td>\n",
       "      <td>26630</td>\n",
       "      <td>26630</td>\n",
       "      <td>26630</td>\n",
       "      <td>26630</td>\n",
       "    </tr>\n",
       "    <tr>\n",
       "      <th>unique</th>\n",
       "      <td>26559</td>\n",
       "      <td>2</td>\n",
       "      <td>79</td>\n",
       "      <td>546</td>\n",
       "      <td>8901</td>\n",
       "    </tr>\n",
       "    <tr>\n",
       "      <th>top</th>\n",
       "      <td>Hoffman, Jennifer</td>\n",
       "      <td>M</td>\n",
       "      <td>USA</td>\n",
       "      <td>0:08:23</td>\n",
       "      <td>3:27:48</td>\n",
       "    </tr>\n",
       "    <tr>\n",
       "      <th>freq</th>\n",
       "      <td>3</td>\n",
       "      <td>14463</td>\n",
       "      <td>21649</td>\n",
       "      <td>158</td>\n",
       "      <td>15</td>\n",
       "    </tr>\n",
       "  </tbody>\n",
       "</table>\n",
       "</div>"
      ],
      "text/plain": [
       "                     Name    M/F Country     Pace Official Time\n",
       "count               26630  26630   26630    26630         26630\n",
       "unique              26559      2      79      546          8901\n",
       "top     Hoffman, Jennifer      M     USA  0:08:23       3:27:48\n",
       "freq                    3  14463   21649      158            15"
      ]
     },
     "execution_count": 115,
     "metadata": {},
     "output_type": "execute_result"
    }
   ],
   "source": [
    "df1.describe(include = \"O\")"
   ]
  },
  {
   "cell_type": "markdown",
   "metadata": {},
   "source": [
    "#### Gender"
   ]
  },
  {
   "cell_type": "code",
   "execution_count": 116,
   "metadata": {},
   "outputs": [],
   "source": [
    "gender = df1['M/F'].value_counts()"
   ]
  },
  {
   "cell_type": "code",
   "execution_count": 128,
   "metadata": {},
   "outputs": [
    {
     "data": {
      "text/plain": [
       "<AxesSubplot:title={'center':'Participation rate by gender'}, ylabel='M/F'>"
      ]
     },
     "execution_count": 128,
     "metadata": {},
     "output_type": "execute_result"
    },
    {
     "data": {
      "image/png": "[encoded data removed]",
      "text/plain": [
       "<Figure size 1080x648 with 1 Axes>"
      ]
     },
     "metadata": {},
     "output_type": "display_data"
    }
   ],
   "source": [
    "f,ax=plt.subplots(1,1,figsize=(15,9))\n",
    "ax.set_ylabel('')\n",
    "ax.set_title('Participation rate by gender')\n",
    "df1['M/F'].value_counts().plot.pie(autopct='%1.2f%%', shadow=False)"
   ]
  },
  {
   "cell_type": "code",
   "execution_count": 118,
   "metadata": {},
   "outputs": [
    {
     "data": {
      "text/plain": [
       "M    14463\n",
       "F    12167\n",
       "Name: M/F, dtype: int64"
      ]
     },
     "execution_count": 118,
     "metadata": {},
     "output_type": "execute_result"
    }
   ],
   "source": [
    "gender"
   ]
  },
  {
   "cell_type": "code",
   "execution_count": 119,
   "metadata": {},
   "outputs": [
    {
     "name": "stdout",
     "output_type": "stream",
     "text": [
      " Total number of athletes participating:  26630\n"
     ]
    }
   ],
   "source": [
    "print(\" Total number of athletes participating: \", gender.values[0] + gender.values[1])"
   ]
  },
  {
   "cell_type": "markdown",
   "metadata": {},
   "source": [
    "Athlete's female rate is less than athlete's male rate "
   ]
  },
  {
   "cell_type": "markdown",
   "metadata": {},
   "source": [
    "#### Country"
   ]
  },
  {
   "cell_type": "code",
   "execution_count": 122,
   "metadata": {},
   "outputs": [
    {
     "data": {
      "text/plain": [
       "USA    21649\n",
       "CAN     2134\n",
       "GBR      366\n",
       "MEX      252\n",
       "JPN      185\n",
       "       ...  \n",
       "PAK        1\n",
       "UGA        1\n",
       "VGB        1\n",
       "FLK        1\n",
       "MAR        1\n",
       "Name: Country, Length: 79, dtype: int64"
      ]
     },
     "execution_count": 122,
     "metadata": {},
     "output_type": "execute_result"
    }
   ],
   "source": [
    "df1['Country'].value_counts()"
   ]
  },
  {
   "cell_type": "code",
   "execution_count": 121,
   "metadata": {},
   "outputs": [],
   "source": [
    "males = df1[df1['M/F'] == 'M']\n",
    "females = df1[df1['M/F'] == 'F']"
   ]
  },
  {
   "cell_type": "code",
   "execution_count": 126,
   "metadata": {},
   "outputs": [
    {
     "data": {
      "image/png": "[encoded data removed]",
      "text/plain": [
       "<Figure size 2160x1080 with 2 Axes>"
      ]
     },
     "metadata": {},
     "output_type": "display_data"
    }
   ],
   "source": [
    "female_field = females['Country'].value_counts().head(5)\n",
    "male_field = males['Country'].value_counts().head(5)\n",
    "\n",
    "\n",
    "fig, ax = plt.subplots(2,1, figsize = (30,15))\n",
    "\n",
    "#Plotting Male Field\n",
    "ax[0].pie(male_field, labels = male_field.index, autopct='%1.2f%%')\n",
    "ax[0].legend(male_field,\n",
    "            title = 'Male Runners Fielded',\n",
    "            loc = 'center left',\n",
    "            bbox_to_anchor=(1.1, 0, 0.5, 1))\n",
    "ax[0].set_title('Top 5 Countries Fielding Male Runners', fontsize = 16)\n",
    "\n",
    "#Plotting Female field\n",
    "ax[1].pie(female_field, labels = female_field.index, autopct='%1.2f%%')\n",
    "ax[1].legend(female_field,\n",
    "            title = 'Female Runners Fielded',\n",
    "            loc = 'center left',\n",
    "            bbox_to_anchor=(1.1, 0, 0.5, 1))\n",
    "ax[1].set_title('Top 5 Countries Fielding Female Runners', fontsize = 16)\n",
    "\n",
    "\n",
    "plt.tight_layout()\n",
    "plt.show()"
   ]
  },
  {
   "cell_type": "markdown",
   "metadata": {},
   "source": [
    "America has the hightest ratio of male and female athletes in the world"
   ]
  },
  {
   "cell_type": "markdown",
   "metadata": {},
   "source": [
    "#### Pace"
   ]
  },
  {
   "cell_type": "code",
   "execution_count": 169,
   "metadata": {},
   "outputs": [],
   "source": [
    "def time_to_sec(string):\n",
    "    if string :\n",
    "        time_segments = string.split(':')\n",
    "        hours = int(time_segments[1])\n",
    "        mins = int(time_segments[1])\n",
    "        sec = int(time_segments[2])\n",
    "        time = hours*60 + mins + sec\n",
    "        return time\n",
    "    else:\n",
    "        return (-1)"
   ]
  },
  {
   "cell_type": "code",
   "execution_count": 170,
   "metadata": {},
   "outputs": [],
   "source": [
    "df1['Pace_sec'] = df1['Pace'].apply(lambda x: time_to_sec(x))"
   ]
  },
  {
   "cell_type": "code",
   "execution_count": 168,
   "metadata": {},
   "outputs": [
    {
     "data": {
      "text/plain": [
       "<AxesSubplot:xlabel='Pace_sec', ylabel='Count'>"
      ]
     },
     "execution_count": 168,
     "metadata": {},
     "output_type": "execute_result"
    },
    {
     "data": {
      "image/png": "[encoded data removed]",
      "text/plain": [
       "<Figure size 432x288 with 1 Axes>"
      ]
     },
     "metadata": {
      "needs_background": "light"
     },
     "output_type": "display_data"
    }
   ],
   "source": [
    "sns.histplot(data = df1['Pace_sec'])"
   ]
  },
  {
   "cell_type": "code",
   "execution_count": 16,
   "metadata": {},
   "outputs": [
    {
     "data": {
      "text/html": [
       "<div>\n",
       "<style scoped>\n",
       "    .dataframe tbody tr th:only-of-type {\n",
       "        vertical-align: middle;\n",
       "    }\n",
       "\n",
       "    .dataframe tbody tr th {\n",
       "        vertical-align: top;\n",
       "    }\n",
       "\n",
       "    .dataframe thead th {\n",
       "        text-align: right;\n",
       "    }\n",
       "</style>\n",
       "<table border=\"1\" class=\"dataframe\">\n",
       "  <thead>\n",
       "    <tr style=\"text-align: right;\">\n",
       "      <th></th>\n",
       "      <th>Age</th>\n",
       "      <th>Result_sec</th>\n",
       "      <th>Rank_Gender</th>\n",
       "    </tr>\n",
       "  </thead>\n",
       "  <tbody>\n",
       "    <tr>\n",
       "      <th>count</th>\n",
       "      <td>26651.000000</td>\n",
       "      <td>26651.000000</td>\n",
       "      <td>26651.000000</td>\n",
       "    </tr>\n",
       "    <tr>\n",
       "      <th>mean</th>\n",
       "      <td>42.799895</td>\n",
       "      <td>13980.057184</td>\n",
       "      <td>6731.454242</td>\n",
       "    </tr>\n",
       "    <tr>\n",
       "      <th>std</th>\n",
       "      <td>11.537523</td>\n",
       "      <td>2697.850346</td>\n",
       "      <td>3962.252174</td>\n",
       "    </tr>\n",
       "    <tr>\n",
       "      <th>min</th>\n",
       "      <td>18.000000</td>\n",
       "      <td>7677.000000</td>\n",
       "      <td>1.000000</td>\n",
       "    </tr>\n",
       "    <tr>\n",
       "      <th>25%</th>\n",
       "      <td>34.000000</td>\n",
       "      <td>12025.500000</td>\n",
       "      <td>3332.000000</td>\n",
       "    </tr>\n",
       "    <tr>\n",
       "      <th>50%</th>\n",
       "      <td>43.000000</td>\n",
       "      <td>13534.000000</td>\n",
       "      <td>6664.000000</td>\n",
       "    </tr>\n",
       "    <tr>\n",
       "      <th>75%</th>\n",
       "      <td>51.000000</td>\n",
       "      <td>15538.500000</td>\n",
       "      <td>9995.000000</td>\n",
       "    </tr>\n",
       "    <tr>\n",
       "      <th>max</th>\n",
       "      <td>83.000000</td>\n",
       "      <td>25197.000000</td>\n",
       "      <td>14671.000000</td>\n",
       "    </tr>\n",
       "  </tbody>\n",
       "</table>\n",
       "</div>"
      ],
      "text/plain": [
       "                Age    Result_sec   Rank_Gender\n",
       "count  26651.000000  26651.000000  26651.000000\n",
       "mean      42.799895  13980.057184   6731.454242\n",
       "std       11.537523   2697.850346   3962.252174\n",
       "min       18.000000   7677.000000      1.000000\n",
       "25%       34.000000  12025.500000   3332.000000\n",
       "50%       43.000000  13534.000000   6664.000000\n",
       "75%       51.000000  15538.500000   9995.000000\n",
       "max       83.000000  25197.000000  14671.000000"
      ]
     },
     "execution_count": 16,
     "metadata": {},
     "output_type": "execute_result"
    }
   ],
   "source": [
    "df1.describe()"
   ]
  },
  {
   "cell_type": "code",
   "execution_count": null,
   "metadata": {},
   "outputs": [],
   "source": []
  }
 ],
 "metadata": {
  "kernelspec": {
   "display_name": "Python 3",
   "language": "python",
   "name": "python3"
  },
  "language_info": {
   "codemirror_mode": {
    "name": "ipython",
    "version": 3
   },
   "file_extension": ".py",
   "mimetype": "text/x-python",
   "name": "python",
   "nbconvert_exporter": "python",
   "pygments_lexer": "ipython3",
   "version": "3.8.5"
  }
 },
 "nbformat": 4,
 "nbformat_minor": 4
}
