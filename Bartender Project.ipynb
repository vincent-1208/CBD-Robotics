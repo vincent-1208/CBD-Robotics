{
 "cells": [
  {
   "cell_type": "code",
   "execution_count": 56,
   "metadata": {},
   "outputs": [],
   "source": [
    "import random"
   ]
  },
  {
   "cell_type": "code",
   "execution_count": 57,
   "metadata": {},
   "outputs": [],
   "source": [
    "questions = {'strong': 'Do ye like yer drinks strong?',\n",
    "            'salty': 'Do ye like it with a salty tang?',\n",
    "            'bitter': 'Are ye a lubber who likes it bitter?',\n",
    "            'sweet': 'Would ye like a bit of sweetness with yer poison?',\n",
    "            'fruity': 'Are ye one for a fruit finish?'}\n",
    "ingredients = {\"strong\": [\"glug of rum\", \"slug of whisky\", \"splash of gin\"],\n",
    "               \"salty\": [\"olive on a stick\", \"salt-dusted rim\", \"rasher of bacon\"],\n",
    "               \"bitter\": [\"shake of bitters\", \"splash of tonic\", \"twist of lemon peel\"],\n",
    "               \"sweet\": [\"sugar cube\", \"spoonful of honey\", \"spash of cola\"],\n",
    "               \"fruity\": [\"slice of orange\", \"dash of cassis\", \"cherry on top\"]}\n"
   ]
  },
  {
   "cell_type": "code",
   "execution_count": 58,
   "metadata": {},
   "outputs": [
    {
     "name": "stdout",
     "output_type": "stream",
     "text": [
      "Choice of y/n\n",
      "Do ye like yer drinks strong?\n",
      "y\n",
      "glug of rum\n"
     ]
    }
   ],
   "source": [
    "print('Choice of y/n')\n",
    "print(questions['strong'])\n",
    "answer = input()\n",
    "if answer == 'y':\n",
    "    print(random.choice(ingredients['strong']))\n",
    "elif answer == 'n':\n",
    "    print(questions['salty'])\n",
    "    answer = input()\n",
    "    if answer == 'y':\n",
    "        print(random.choice(ingredients['salty']))\n",
    "    elif answer == 'n':\n",
    "        print(questions['bitter'])\n",
    "        answer = input()\n",
    "        if answer == 'y':\n",
    "            print(random.choice(ingredients['bitter']))\n",
    "        elif answer == 'n':\n",
    "            print(questions['sweet'])\n",
    "            answer = input()\n",
    "            if answer == 'y':\n",
    "                print(random.choice(ingredients['sweet']))\n",
    "            elif answer == 'n':\n",
    "                print(questions['fruity'])\n",
    "                answer = input()\n",
    "                if answer == 'y':\n",
    "                    print(random.choice(ingredients['fruity']))\n",
    "                elif answer == 'n':\n",
    "                    print('end')"
   ]
  }
 ],
 "metadata": {
  "kernelspec": {
   "display_name": "Python 3",
   "language": "python",
   "name": "python3"
  },
  "language_info": {
   "codemirror_mode": {
    "name": "ipython",
    "version": 3
   },
   "file_extension": ".py",
   "mimetype": "text/x-python",
   "name": "python",
   "nbconvert_exporter": "python",
   "pygments_lexer": "ipython3",
   "version": "3.8.5"
  }
 },
 "nbformat": 4,
 "nbformat_minor": 4
}
