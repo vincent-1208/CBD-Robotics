{
 "cells": [
  {
   "cell_type": "markdown",
   "metadata": {},
   "source": [
    "# Assignment 4: Airline arrivals project"
   ]
  },
  {
   "cell_type": "markdown",
   "metadata": {},
   "source": [
    "# TABLE OF CONTENTS"
   ]
  },
  {
   "cell_type": "markdown",
   "metadata": {},
   "source": [
    "# I. Introduction"
   ]
  },
  {
   "cell_type": "markdown",
   "metadata": {},
   "source": [
    "# II. Contents:"
   ]
  },
  {
   "cell_type": "markdown",
   "metadata": {},
   "source": [
    "## 1. Preparing and exploring the data"
   ]
  },
  {
   "cell_type": "markdown",
   "metadata": {},
   "source": [
    "### 1.1 Import librabries and handle missing value"
   ]
  },
  {
   "cell_type": "markdown",
   "metadata": {},
   "source": [
    "1.1.1 Check out some basic information of data"
   ]
  },
  {
   "cell_type": "markdown",
   "metadata": {},
   "source": [
    "1.1.2 Check missing value"
   ]
  },
  {
   "cell_type": "markdown",
   "metadata": {},
   "source": [
    "### 1.2 Exploratory Data Analysis (EDA) "
   ]
  },
  {
   "cell_type": "markdown",
   "metadata": {},
   "source": [
    "1.2.1 Handle high correlatied feature"
   ]
  },
  {
   "cell_type": "markdown",
   "metadata": {},
   "source": [
    "1.2.2 Handle outlier and visualize correlation of categorical feature"
   ]
  },
  {
   "cell_type": "markdown",
   "metadata": {},
   "source": [
    "## 2. Hypothesis testing"
   ]
  },
  {
   "cell_type": "code",
   "execution_count": null,
   "metadata": {},
   "outputs": [],
   "source": []
  },
  {
   "cell_type": "markdown",
   "metadata": {},
   "source": [
    "## I. Introduction:"
   ]
  },
  {
   "cell_type": "markdown",
   "metadata": {},
   "source": [
    "Use this dataset of airline arrival information to predict how late flights will be.\n",
    "Apply studied methods to training model."
   ]
  },
  {
   "cell_type": "markdown",
   "metadata": {},
   "source": [
    "There is 29 features in file 2008.csv"
   ]
  },
  {
   "cell_type": "markdown",
   "metadata": {},
   "source": [
    "1   Year                2008"
   ]
  },
  {
   "cell_type": "markdown",
   "metadata": {},
   "source": [
    "2   Month               1-4"
   ]
  },
  {
   "cell_type": "markdown",
   "metadata": {},
   "source": [
    "3   DayofMonth          1-31"
   ]
  },
  {
   "cell_type": "markdown",
   "metadata": {},
   "source": [
    "4   DayOfWeek           1 (Monday) - 7 (Sunday)"
   ]
  },
  {
   "cell_type": "markdown",
   "metadata": {},
   "source": [
    "5   DepTime             actual departure time (local, hhmm)"
   ]
  },
  {
   "cell_type": "markdown",
   "metadata": {},
   "source": [
    "6   CRSDepTime          scheduled departure time (local, hhmm)"
   ]
  },
  {
   "cell_type": "markdown",
   "metadata": {},
   "source": [
    "7   ArrTime             actual arrival time (local, hhmm)"
   ]
  },
  {
   "cell_type": "markdown",
   "metadata": {},
   "source": [
    "8   CRSArrTime          scheduled arrival time (local, hhmm)"
   ]
  },
  {
   "cell_type": "markdown",
   "metadata": {},
   "source": [
    "9   UniqueCarrier       unique carrier code"
   ]
  },
  {
   "cell_type": "markdown",
   "metadata": {},
   "source": [
    "10  FlightNum           flight number"
   ]
  },
  {
   "cell_type": "markdown",
   "metadata": {},
   "source": [
    "11  TailNum             plane tail number"
   ]
  },
  {
   "cell_type": "markdown",
   "metadata": {},
   "source": [
    "12  ActualElapsedTime  actual elapsed time"
   ]
  },
  {
   "cell_type": "markdown",
   "metadata": {},
   "source": [
    "13  CRSElapsedTime      scheduled laosed time"
   ]
  },
  {
   "cell_type": "markdown",
   "metadata": {},
   "source": [
    "14  AirTime             in minutes"
   ]
  },
  {
   "cell_type": "markdown",
   "metadata": {},
   "source": [
    "15  ArrDelay            arrival delay, in minutes"
   ]
  },
  {
   "cell_type": "markdown",
   "metadata": {},
   "source": [
    "16  DepDelay            departure delay, in minutes"
   ]
  },
  {
   "cell_type": "markdown",
   "metadata": {},
   "source": [
    "17  Origin              origin IATA airport code"
   ]
  },
  {
   "cell_type": "markdown",
   "metadata": {},
   "source": [
    "18  Dest                destination IATA airport code"
   ]
  },
  {
   "cell_type": "markdown",
   "metadata": {},
   "source": [
    "19  Distance            in miles"
   ]
  },
  {
   "cell_type": "markdown",
   "metadata": {},
   "source": [
    "20  TaxiIn              taxi in time, in minutes"
   ]
  },
  {
   "cell_type": "markdown",
   "metadata": {},
   "source": [
    "21  TaxiOut             taxi out time in minutes"
   ]
  },
  {
   "cell_type": "markdown",
   "metadata": {},
   "source": [
    "22  Cancelled           was the flight cancelled?"
   ]
  },
  {
   "cell_type": "markdown",
   "metadata": {},
   "source": [
    "23  CancellationCode    reason for cancellation (A = carrier, B = weather, C = NAS, D = security)"
   ]
  },
  {
   "cell_type": "markdown",
   "metadata": {},
   "source": [
    "24  Diverted            1 = yes, 0 = no"
   ]
  },
  {
   "cell_type": "markdown",
   "metadata": {},
   "source": [
    "25  CarrierDelay        in minutes"
   ]
  },
  {
   "cell_type": "markdown",
   "metadata": {},
   "source": [
    "26  WeatherDelay        in minutes"
   ]
  },
  {
   "cell_type": "markdown",
   "metadata": {},
   "source": [
    "27  NASDelay            in minutes"
   ]
  },
  {
   "cell_type": "markdown",
   "metadata": {},
   "source": [
    "28  SecurityDelay       in minutes"
   ]
  },
  {
   "cell_type": "markdown",
   "metadata": {},
   "source": [
    "29  LateAircraftDelay   in minutes"
   ]
  },
  {
   "cell_type": "markdown",
   "metadata": {},
   "source": [
    "There is 9 features in file plan-data.csv:"
   ]
  },
  {
   "cell_type": "markdown",
   "metadata": {},
   "source": [
    "1 TailNum"
   ]
  },
  {
   "cell_type": "markdown",
   "metadata": {},
   "source": [
    "2 type"
   ]
  },
  {
   "cell_type": "markdown",
   "metadata": {},
   "source": [
    "3 manufacturer"
   ]
  },
  {
   "cell_type": "markdown",
   "metadata": {},
   "source": [
    "4 issue_date"
   ]
  },
  {
   "cell_type": "markdown",
   "metadata": {},
   "source": [
    "5 model"
   ]
  },
  {
   "cell_type": "markdown",
   "metadata": {},
   "source": [
    "6 status"
   ]
  },
  {
   "cell_type": "markdown",
   "metadata": {},
   "source": [
    "7 aircraft_type"
   ]
  },
  {
   "cell_type": "markdown",
   "metadata": {},
   "source": [
    "8 engine_type"
   ]
  },
  {
   "cell_type": "markdown",
   "metadata": {},
   "source": [
    "9 year"
   ]
  },
  {
   "cell_type": "markdown",
   "metadata": {},
   "source": [
    "## II. Contents:"
   ]
  },
  {
   "cell_type": "markdown",
   "metadata": {},
   "source": [
    "## 1. Preparing and exploring the data"
   ]
  },
  {
   "cell_type": "markdown",
   "metadata": {},
   "source": [
    "### 1.1 Import librabries and handle missing value"
   ]
  },
  {
   "cell_type": "markdown",
   "metadata": {},
   "source": [
    "Add necessary library. Read file '2008.csv' and file 'plan-data.csv'. We are merge two file "
   ]
  },
  {
   "cell_type": "code",
   "execution_count": 112,
   "metadata": {},
   "outputs": [],
   "source": [
    "import pandas as pd\n",
    "import numpy as np\n",
    "import random\n",
    "\n",
    "import seaborn as sns\n",
    "from matplotlib import pyplot as plt\n",
    "from sklearn.metrics import plot_confusion_matrix\n",
    "\n",
    "from sklearn.preprocessing import LabelEncoder\n",
    "from sklearn.model_selection import train_test_split\n",
    "from sklearn.preprocessing import MinMaxScaler\n",
    "from sklearn.decomposition import PCA\n",
    "from sklearn.feature_selection import SelectKBest, f_classif\n",
    "from sklearn.feature_selection import RFE\n",
    "\n",
    "from sklearn.linear_model import LogisticRegression\n",
    "from sklearn.tree import DecisionTreeClassifier\n",
    "from sklearn.svm import SVC,SVR\n",
    "from sklearn.ensemble import RandomForestClassifier, GradientBoostingClassifier\n",
    "from sklearn.naive_bayes import GaussianNB\n",
    "\n",
    "from sklearn.metrics import classification_report"
   ]
  },
  {
   "cell_type": "code",
   "execution_count": 3,
   "metadata": {},
   "outputs": [],
   "source": [
    "num_lines = 7009728  #number of records in file\n",
    "sample_lines = 1000000 #desired sample size\n",
    "\n",
    "random.seed(9001)\n",
    "skip = random.sample(range(1, num_lines), num_lines - sample_lines)"
   ]
  },
  {
   "cell_type": "code",
   "execution_count": 4,
   "metadata": {},
   "outputs": [],
   "source": [
    "data2008 = pd.read_csv('2008.csv', skiprows=skip)\n",
    "plan = pd.read_csv('plane-data.csv')\n",
    "original = pd.merge(data2008, plan)"
   ]
  },
  {
   "cell_type": "markdown",
   "metadata": {},
   "source": [
    "#### 1.1.1 Check out some basic information of data"
   ]
  },
  {
   "cell_type": "code",
   "execution_count": 5,
   "metadata": {},
   "outputs": [
    {
     "data": {
      "text/plain": [
       "(322539, 37)"
      ]
     },
     "execution_count": 5,
     "metadata": {},
     "output_type": "execute_result"
    }
   ],
   "source": [
    "original.shape"
   ]
  },
  {
   "cell_type": "code",
   "execution_count": 6,
   "metadata": {},
   "outputs": [
    {
     "data": {
      "text/html": [
       "<div>\n",
       "<style scoped>\n",
       "    .dataframe tbody tr th:only-of-type {\n",
       "        vertical-align: middle;\n",
       "    }\n",
       "\n",
       "    .dataframe tbody tr th {\n",
       "        vertical-align: top;\n",
       "    }\n",
       "\n",
       "    .dataframe thead th {\n",
       "        text-align: right;\n",
       "    }\n",
       "</style>\n",
       "<table border=\"1\" class=\"dataframe\">\n",
       "  <thead>\n",
       "    <tr style=\"text-align: right;\">\n",
       "      <th></th>\n",
       "      <th>Year</th>\n",
       "      <th>Month</th>\n",
       "      <th>DayofMonth</th>\n",
       "      <th>DayOfWeek</th>\n",
       "      <th>DepTime</th>\n",
       "      <th>CRSDepTime</th>\n",
       "      <th>ArrTime</th>\n",
       "      <th>CRSArrTime</th>\n",
       "      <th>UniqueCarrier</th>\n",
       "      <th>FlightNum</th>\n",
       "      <th>...</th>\n",
       "      <th>SecurityDelay</th>\n",
       "      <th>LateAircraftDelay</th>\n",
       "      <th>type</th>\n",
       "      <th>manufacturer</th>\n",
       "      <th>issue_date</th>\n",
       "      <th>model</th>\n",
       "      <th>status</th>\n",
       "      <th>aircraft_type</th>\n",
       "      <th>engine_type</th>\n",
       "      <th>year</th>\n",
       "    </tr>\n",
       "  </thead>\n",
       "  <tbody>\n",
       "    <tr>\n",
       "      <th>0</th>\n",
       "      <td>2008</td>\n",
       "      <td>1</td>\n",
       "      <td>3</td>\n",
       "      <td>4</td>\n",
       "      <td>2009.0</td>\n",
       "      <td>2015</td>\n",
       "      <td>2136.0</td>\n",
       "      <td>2140</td>\n",
       "      <td>WN</td>\n",
       "      <td>3841</td>\n",
       "      <td>...</td>\n",
       "      <td>NaN</td>\n",
       "      <td>NaN</td>\n",
       "      <td>Corporation</td>\n",
       "      <td>BOEING</td>\n",
       "      <td>06/26/2007</td>\n",
       "      <td>737-7H4</td>\n",
       "      <td>Valid</td>\n",
       "      <td>Fixed Wing Multi-Engine</td>\n",
       "      <td>Turbo-Fan</td>\n",
       "      <td>2007</td>\n",
       "    </tr>\n",
       "    <tr>\n",
       "      <th>1</th>\n",
       "      <td>2008</td>\n",
       "      <td>1</td>\n",
       "      <td>3</td>\n",
       "      <td>4</td>\n",
       "      <td>1720.0</td>\n",
       "      <td>1710</td>\n",
       "      <td>1944.0</td>\n",
       "      <td>1955</td>\n",
       "      <td>WN</td>\n",
       "      <td>3841</td>\n",
       "      <td>...</td>\n",
       "      <td>NaN</td>\n",
       "      <td>NaN</td>\n",
       "      <td>Corporation</td>\n",
       "      <td>BOEING</td>\n",
       "      <td>06/26/2007</td>\n",
       "      <td>737-7H4</td>\n",
       "      <td>Valid</td>\n",
       "      <td>Fixed Wing Multi-Engine</td>\n",
       "      <td>Turbo-Fan</td>\n",
       "      <td>2007</td>\n",
       "    </tr>\n",
       "    <tr>\n",
       "      <th>2</th>\n",
       "      <td>2008</td>\n",
       "      <td>1</td>\n",
       "      <td>3</td>\n",
       "      <td>4</td>\n",
       "      <td>1021.0</td>\n",
       "      <td>1025</td>\n",
       "      <td>1106.0</td>\n",
       "      <td>1115</td>\n",
       "      <td>WN</td>\n",
       "      <td>3754</td>\n",
       "      <td>...</td>\n",
       "      <td>NaN</td>\n",
       "      <td>NaN</td>\n",
       "      <td>Corporation</td>\n",
       "      <td>BOEING</td>\n",
       "      <td>06/26/2007</td>\n",
       "      <td>737-7H4</td>\n",
       "      <td>Valid</td>\n",
       "      <td>Fixed Wing Multi-Engine</td>\n",
       "      <td>Turbo-Fan</td>\n",
       "      <td>2007</td>\n",
       "    </tr>\n",
       "    <tr>\n",
       "      <th>3</th>\n",
       "      <td>2008</td>\n",
       "      <td>1</td>\n",
       "      <td>5</td>\n",
       "      <td>6</td>\n",
       "      <td>727.0</td>\n",
       "      <td>730</td>\n",
       "      <td>910.0</td>\n",
       "      <td>905</td>\n",
       "      <td>WN</td>\n",
       "      <td>912</td>\n",
       "      <td>...</td>\n",
       "      <td>NaN</td>\n",
       "      <td>NaN</td>\n",
       "      <td>Corporation</td>\n",
       "      <td>BOEING</td>\n",
       "      <td>06/26/2007</td>\n",
       "      <td>737-7H4</td>\n",
       "      <td>Valid</td>\n",
       "      <td>Fixed Wing Multi-Engine</td>\n",
       "      <td>Turbo-Fan</td>\n",
       "      <td>2007</td>\n",
       "    </tr>\n",
       "    <tr>\n",
       "      <th>4</th>\n",
       "      <td>2008</td>\n",
       "      <td>1</td>\n",
       "      <td>5</td>\n",
       "      <td>6</td>\n",
       "      <td>2131.0</td>\n",
       "      <td>2020</td>\n",
       "      <td>2334.0</td>\n",
       "      <td>2240</td>\n",
       "      <td>WN</td>\n",
       "      <td>444</td>\n",
       "      <td>...</td>\n",
       "      <td>0.0</td>\n",
       "      <td>54.0</td>\n",
       "      <td>Corporation</td>\n",
       "      <td>BOEING</td>\n",
       "      <td>06/26/2007</td>\n",
       "      <td>737-7H4</td>\n",
       "      <td>Valid</td>\n",
       "      <td>Fixed Wing Multi-Engine</td>\n",
       "      <td>Turbo-Fan</td>\n",
       "      <td>2007</td>\n",
       "    </tr>\n",
       "  </tbody>\n",
       "</table>\n",
       "<p>5 rows × 37 columns</p>\n",
       "</div>"
      ],
      "text/plain": [
       "   Year  Month  DayofMonth  DayOfWeek  DepTime  CRSDepTime  ArrTime  \\\n",
       "0  2008      1           3          4   2009.0        2015   2136.0   \n",
       "1  2008      1           3          4   1720.0        1710   1944.0   \n",
       "2  2008      1           3          4   1021.0        1025   1106.0   \n",
       "3  2008      1           5          6    727.0         730    910.0   \n",
       "4  2008      1           5          6   2131.0        2020   2334.0   \n",
       "\n",
       "   CRSArrTime UniqueCarrier  FlightNum  ... SecurityDelay  LateAircraftDelay  \\\n",
       "0        2140            WN       3841  ...           NaN                NaN   \n",
       "1        1955            WN       3841  ...           NaN                NaN   \n",
       "2        1115            WN       3754  ...           NaN                NaN   \n",
       "3         905            WN        912  ...           NaN                NaN   \n",
       "4        2240            WN        444  ...           0.0               54.0   \n",
       "\n",
       "          type  manufacturer  issue_date    model status  \\\n",
       "0  Corporation        BOEING  06/26/2007  737-7H4  Valid   \n",
       "1  Corporation        BOEING  06/26/2007  737-7H4  Valid   \n",
       "2  Corporation        BOEING  06/26/2007  737-7H4  Valid   \n",
       "3  Corporation        BOEING  06/26/2007  737-7H4  Valid   \n",
       "4  Corporation        BOEING  06/26/2007  737-7H4  Valid   \n",
       "\n",
       "             aircraft_type  engine_type  year  \n",
       "0  Fixed Wing Multi-Engine    Turbo-Fan  2007  \n",
       "1  Fixed Wing Multi-Engine    Turbo-Fan  2007  \n",
       "2  Fixed Wing Multi-Engine    Turbo-Fan  2007  \n",
       "3  Fixed Wing Multi-Engine    Turbo-Fan  2007  \n",
       "4  Fixed Wing Multi-Engine    Turbo-Fan  2007  \n",
       "\n",
       "[5 rows x 37 columns]"
      ]
     },
     "execution_count": 6,
     "metadata": {},
     "output_type": "execute_result"
    }
   ],
   "source": [
    "original.head(5)"
   ]
  },
  {
   "cell_type": "code",
   "execution_count": 7,
   "metadata": {},
   "outputs": [
    {
     "data": {
      "text/plain": [
       "Index(['Year', 'Month', 'DayofMonth', 'DayOfWeek', 'DepTime', 'CRSDepTime',\n",
       "       'ArrTime', 'CRSArrTime', 'UniqueCarrier', 'FlightNum', 'TailNum',\n",
       "       'ActualElapsedTime', 'CRSElapsedTime', 'AirTime', 'ArrDelay',\n",
       "       'DepDelay', 'Origin', 'Dest', 'Distance', 'TaxiIn', 'TaxiOut',\n",
       "       'Cancelled', 'CancellationCode', 'Diverted', 'CarrierDelay',\n",
       "       'WeatherDelay', 'NASDelay', 'SecurityDelay', 'LateAircraftDelay',\n",
       "       'type', 'manufacturer', 'issue_date', 'model', 'status',\n",
       "       'aircraft_type', 'engine_type', 'year'],\n",
       "      dtype='object')"
      ]
     },
     "execution_count": 7,
     "metadata": {},
     "output_type": "execute_result"
    }
   ],
   "source": [
    "original.columns"
   ]
  },
  {
   "cell_type": "markdown",
   "metadata": {},
   "source": [
    "After merge two file 2008.csv and plan-data.csv, the us data have 322539 observations and 37 features"
   ]
  },
  {
   "cell_type": "code",
   "execution_count": 8,
   "metadata": {},
   "outputs": [
    {
     "name": "stdout",
     "output_type": "stream",
     "text": [
      "<class 'pandas.core.frame.DataFrame'>\n",
      "Int64Index: 322539 entries, 0 to 322538\n",
      "Data columns (total 37 columns):\n",
      " #   Column             Non-Null Count   Dtype  \n",
      "---  ------             --------------   -----  \n",
      " 0   Year               322539 non-null  int64  \n",
      " 1   Month              322539 non-null  int64  \n",
      " 2   DayofMonth         322539 non-null  int64  \n",
      " 3   DayOfWeek          322539 non-null  int64  \n",
      " 4   DepTime            319368 non-null  float64\n",
      " 5   CRSDepTime         322539 non-null  int64  \n",
      " 6   ArrTime            318610 non-null  float64\n",
      " 7   CRSArrTime         322539 non-null  int64  \n",
      " 8   UniqueCarrier      322539 non-null  object \n",
      " 9   FlightNum          322539 non-null  int64  \n",
      " 10  TailNum            322539 non-null  object \n",
      " 11  ActualElapsedTime  318610 non-null  float64\n",
      " 12  CRSElapsedTime     322539 non-null  float64\n",
      " 13  AirTime            318610 non-null  float64\n",
      " 14  ArrDelay           318610 non-null  float64\n",
      " 15  DepDelay           319368 non-null  float64\n",
      " 16  Origin             322539 non-null  object \n",
      " 17  Dest               322539 non-null  object \n",
      " 18  Distance           322539 non-null  int64  \n",
      " 19  TaxiIn             318610 non-null  float64\n",
      " 20  TaxiOut            319368 non-null  float64\n",
      " 21  Cancelled          322539 non-null  int64  \n",
      " 22  CancellationCode   3171 non-null    object \n",
      " 23  Diverted           322539 non-null  int64  \n",
      " 24  CarrierDelay       80337 non-null   float64\n",
      " 25  WeatherDelay       80337 non-null   float64\n",
      " 26  NASDelay           80337 non-null   float64\n",
      " 27  SecurityDelay      80337 non-null   float64\n",
      " 28  LateAircraftDelay  80337 non-null   float64\n",
      " 29  type               307087 non-null  object \n",
      " 30  manufacturer       307087 non-null  object \n",
      " 31  issue_date         307087 non-null  object \n",
      " 32  model              307087 non-null  object \n",
      " 33  status             307087 non-null  object \n",
      " 34  aircraft_type      307087 non-null  object \n",
      " 35  engine_type        307087 non-null  object \n",
      " 36  year               307087 non-null  object \n",
      "dtypes: float64(14), int64(10), object(13)\n",
      "memory usage: 93.5+ MB\n"
     ]
    }
   ],
   "source": [
    "original.info()"
   ]
  },
  {
   "cell_type": "markdown",
   "metadata": {},
   "source": [
    "There are 14 features type float, 10 features type int, 13 features type object"
   ]
  },
  {
   "cell_type": "markdown",
   "metadata": {},
   "source": [
    "#### 1.1.2 Check missing value"
   ]
  },
  {
   "cell_type": "code",
   "execution_count": 9,
   "metadata": {},
   "outputs": [
    {
     "data": {
      "text/html": [
       "<div>\n",
       "<style scoped>\n",
       "    .dataframe tbody tr th:only-of-type {\n",
       "        vertical-align: middle;\n",
       "    }\n",
       "\n",
       "    .dataframe tbody tr th {\n",
       "        vertical-align: top;\n",
       "    }\n",
       "\n",
       "    .dataframe thead th {\n",
       "        text-align: right;\n",
       "    }\n",
       "</style>\n",
       "<table border=\"1\" class=\"dataframe\">\n",
       "  <thead>\n",
       "    <tr style=\"text-align: right;\">\n",
       "      <th></th>\n",
       "      <th>dtypes</th>\n",
       "      <th>missing values</th>\n",
       "      <th>% missing values</th>\n",
       "    </tr>\n",
       "  </thead>\n",
       "  <tbody>\n",
       "    <tr>\n",
       "      <th>Year</th>\n",
       "      <td>int64</td>\n",
       "      <td>0</td>\n",
       "      <td>0.000000</td>\n",
       "    </tr>\n",
       "    <tr>\n",
       "      <th>Month</th>\n",
       "      <td>int64</td>\n",
       "      <td>0</td>\n",
       "      <td>0.000000</td>\n",
       "    </tr>\n",
       "    <tr>\n",
       "      <th>DayofMonth</th>\n",
       "      <td>int64</td>\n",
       "      <td>0</td>\n",
       "      <td>0.000000</td>\n",
       "    </tr>\n",
       "    <tr>\n",
       "      <th>DayOfWeek</th>\n",
       "      <td>int64</td>\n",
       "      <td>0</td>\n",
       "      <td>0.000000</td>\n",
       "    </tr>\n",
       "    <tr>\n",
       "      <th>DepTime</th>\n",
       "      <td>float64</td>\n",
       "      <td>3171</td>\n",
       "      <td>0.983137</td>\n",
       "    </tr>\n",
       "    <tr>\n",
       "      <th>CRSDepTime</th>\n",
       "      <td>int64</td>\n",
       "      <td>0</td>\n",
       "      <td>0.000000</td>\n",
       "    </tr>\n",
       "    <tr>\n",
       "      <th>ArrTime</th>\n",
       "      <td>float64</td>\n",
       "      <td>3929</td>\n",
       "      <td>1.218147</td>\n",
       "    </tr>\n",
       "    <tr>\n",
       "      <th>CRSArrTime</th>\n",
       "      <td>int64</td>\n",
       "      <td>0</td>\n",
       "      <td>0.000000</td>\n",
       "    </tr>\n",
       "    <tr>\n",
       "      <th>UniqueCarrier</th>\n",
       "      <td>object</td>\n",
       "      <td>0</td>\n",
       "      <td>0.000000</td>\n",
       "    </tr>\n",
       "    <tr>\n",
       "      <th>FlightNum</th>\n",
       "      <td>int64</td>\n",
       "      <td>0</td>\n",
       "      <td>0.000000</td>\n",
       "    </tr>\n",
       "    <tr>\n",
       "      <th>TailNum</th>\n",
       "      <td>object</td>\n",
       "      <td>0</td>\n",
       "      <td>0.000000</td>\n",
       "    </tr>\n",
       "    <tr>\n",
       "      <th>ActualElapsedTime</th>\n",
       "      <td>float64</td>\n",
       "      <td>3929</td>\n",
       "      <td>1.218147</td>\n",
       "    </tr>\n",
       "    <tr>\n",
       "      <th>CRSElapsedTime</th>\n",
       "      <td>float64</td>\n",
       "      <td>0</td>\n",
       "      <td>0.000000</td>\n",
       "    </tr>\n",
       "    <tr>\n",
       "      <th>AirTime</th>\n",
       "      <td>float64</td>\n",
       "      <td>3929</td>\n",
       "      <td>1.218147</td>\n",
       "    </tr>\n",
       "    <tr>\n",
       "      <th>ArrDelay</th>\n",
       "      <td>float64</td>\n",
       "      <td>3929</td>\n",
       "      <td>1.218147</td>\n",
       "    </tr>\n",
       "    <tr>\n",
       "      <th>DepDelay</th>\n",
       "      <td>float64</td>\n",
       "      <td>3171</td>\n",
       "      <td>0.983137</td>\n",
       "    </tr>\n",
       "    <tr>\n",
       "      <th>Origin</th>\n",
       "      <td>object</td>\n",
       "      <td>0</td>\n",
       "      <td>0.000000</td>\n",
       "    </tr>\n",
       "    <tr>\n",
       "      <th>Dest</th>\n",
       "      <td>object</td>\n",
       "      <td>0</td>\n",
       "      <td>0.000000</td>\n",
       "    </tr>\n",
       "    <tr>\n",
       "      <th>Distance</th>\n",
       "      <td>int64</td>\n",
       "      <td>0</td>\n",
       "      <td>0.000000</td>\n",
       "    </tr>\n",
       "    <tr>\n",
       "      <th>TaxiIn</th>\n",
       "      <td>float64</td>\n",
       "      <td>3929</td>\n",
       "      <td>1.218147</td>\n",
       "    </tr>\n",
       "    <tr>\n",
       "      <th>TaxiOut</th>\n",
       "      <td>float64</td>\n",
       "      <td>3171</td>\n",
       "      <td>0.983137</td>\n",
       "    </tr>\n",
       "    <tr>\n",
       "      <th>Cancelled</th>\n",
       "      <td>int64</td>\n",
       "      <td>0</td>\n",
       "      <td>0.000000</td>\n",
       "    </tr>\n",
       "    <tr>\n",
       "      <th>CancellationCode</th>\n",
       "      <td>object</td>\n",
       "      <td>319368</td>\n",
       "      <td>99.016863</td>\n",
       "    </tr>\n",
       "    <tr>\n",
       "      <th>Diverted</th>\n",
       "      <td>int64</td>\n",
       "      <td>0</td>\n",
       "      <td>0.000000</td>\n",
       "    </tr>\n",
       "    <tr>\n",
       "      <th>CarrierDelay</th>\n",
       "      <td>float64</td>\n",
       "      <td>242202</td>\n",
       "      <td>75.092314</td>\n",
       "    </tr>\n",
       "    <tr>\n",
       "      <th>WeatherDelay</th>\n",
       "      <td>float64</td>\n",
       "      <td>242202</td>\n",
       "      <td>75.092314</td>\n",
       "    </tr>\n",
       "    <tr>\n",
       "      <th>NASDelay</th>\n",
       "      <td>float64</td>\n",
       "      <td>242202</td>\n",
       "      <td>75.092314</td>\n",
       "    </tr>\n",
       "    <tr>\n",
       "      <th>SecurityDelay</th>\n",
       "      <td>float64</td>\n",
       "      <td>242202</td>\n",
       "      <td>75.092314</td>\n",
       "    </tr>\n",
       "    <tr>\n",
       "      <th>LateAircraftDelay</th>\n",
       "      <td>float64</td>\n",
       "      <td>242202</td>\n",
       "      <td>75.092314</td>\n",
       "    </tr>\n",
       "    <tr>\n",
       "      <th>type</th>\n",
       "      <td>object</td>\n",
       "      <td>15452</td>\n",
       "      <td>4.790738</td>\n",
       "    </tr>\n",
       "    <tr>\n",
       "      <th>manufacturer</th>\n",
       "      <td>object</td>\n",
       "      <td>15452</td>\n",
       "      <td>4.790738</td>\n",
       "    </tr>\n",
       "    <tr>\n",
       "      <th>issue_date</th>\n",
       "      <td>object</td>\n",
       "      <td>15452</td>\n",
       "      <td>4.790738</td>\n",
       "    </tr>\n",
       "    <tr>\n",
       "      <th>model</th>\n",
       "      <td>object</td>\n",
       "      <td>15452</td>\n",
       "      <td>4.790738</td>\n",
       "    </tr>\n",
       "    <tr>\n",
       "      <th>status</th>\n",
       "      <td>object</td>\n",
       "      <td>15452</td>\n",
       "      <td>4.790738</td>\n",
       "    </tr>\n",
       "    <tr>\n",
       "      <th>aircraft_type</th>\n",
       "      <td>object</td>\n",
       "      <td>15452</td>\n",
       "      <td>4.790738</td>\n",
       "    </tr>\n",
       "    <tr>\n",
       "      <th>engine_type</th>\n",
       "      <td>object</td>\n",
       "      <td>15452</td>\n",
       "      <td>4.790738</td>\n",
       "    </tr>\n",
       "    <tr>\n",
       "      <th>year</th>\n",
       "      <td>object</td>\n",
       "      <td>15452</td>\n",
       "      <td>4.790738</td>\n",
       "    </tr>\n",
       "  </tbody>\n",
       "</table>\n",
       "</div>"
      ],
      "text/plain": [
       "                    dtypes  missing values  % missing values\n",
       "Year                 int64               0          0.000000\n",
       "Month                int64               0          0.000000\n",
       "DayofMonth           int64               0          0.000000\n",
       "DayOfWeek            int64               0          0.000000\n",
       "DepTime            float64            3171          0.983137\n",
       "CRSDepTime           int64               0          0.000000\n",
       "ArrTime            float64            3929          1.218147\n",
       "CRSArrTime           int64               0          0.000000\n",
       "UniqueCarrier       object               0          0.000000\n",
       "FlightNum            int64               0          0.000000\n",
       "TailNum             object               0          0.000000\n",
       "ActualElapsedTime  float64            3929          1.218147\n",
       "CRSElapsedTime     float64               0          0.000000\n",
       "AirTime            float64            3929          1.218147\n",
       "ArrDelay           float64            3929          1.218147\n",
       "DepDelay           float64            3171          0.983137\n",
       "Origin              object               0          0.000000\n",
       "Dest                object               0          0.000000\n",
       "Distance             int64               0          0.000000\n",
       "TaxiIn             float64            3929          1.218147\n",
       "TaxiOut            float64            3171          0.983137\n",
       "Cancelled            int64               0          0.000000\n",
       "CancellationCode    object          319368         99.016863\n",
       "Diverted             int64               0          0.000000\n",
       "CarrierDelay       float64          242202         75.092314\n",
       "WeatherDelay       float64          242202         75.092314\n",
       "NASDelay           float64          242202         75.092314\n",
       "SecurityDelay      float64          242202         75.092314\n",
       "LateAircraftDelay  float64          242202         75.092314\n",
       "type                object           15452          4.790738\n",
       "manufacturer        object           15452          4.790738\n",
       "issue_date          object           15452          4.790738\n",
       "model               object           15452          4.790738\n",
       "status              object           15452          4.790738\n",
       "aircraft_type       object           15452          4.790738\n",
       "engine_type         object           15452          4.790738\n",
       "year                object           15452          4.790738"
      ]
     },
     "execution_count": 9,
     "metadata": {},
     "output_type": "execute_result"
    }
   ],
   "source": [
    "types = original.dtypes.to_frame().rename(columns={0:'dtypes'})\n",
    "null = original.isnull().sum().to_frame().rename(columns={0:'missing values'})\n",
    "null_percent = (original.isnull().sum()/original.shape[0]*100).to_frame().rename(columns={0:'% missing values'})\n",
    "df_missing = pd.concat([types, null, null_percent], axis=1)\n",
    "df_missing"
   ]
  },
  {
   "cell_type": "markdown",
   "metadata": {},
   "source": [
    "There are 6 feature missing sample bigger than 60 percent."
   ]
  },
  {
   "cell_type": "code",
   "execution_count": 10,
   "metadata": {},
   "outputs": [
    {
     "data": {
      "text/html": [
       "<div>\n",
       "<style scoped>\n",
       "    .dataframe tbody tr th:only-of-type {\n",
       "        vertical-align: middle;\n",
       "    }\n",
       "\n",
       "    .dataframe tbody tr th {\n",
       "        vertical-align: top;\n",
       "    }\n",
       "\n",
       "    .dataframe thead th {\n",
       "        text-align: right;\n",
       "    }\n",
       "</style>\n",
       "<table border=\"1\" class=\"dataframe\">\n",
       "  <thead>\n",
       "    <tr style=\"text-align: right;\">\n",
       "      <th></th>\n",
       "      <th>dtypes</th>\n",
       "      <th>missing values</th>\n",
       "      <th>% missing values</th>\n",
       "    </tr>\n",
       "  </thead>\n",
       "  <tbody>\n",
       "    <tr>\n",
       "      <th>CancellationCode</th>\n",
       "      <td>object</td>\n",
       "      <td>319368</td>\n",
       "      <td>99.016863</td>\n",
       "    </tr>\n",
       "    <tr>\n",
       "      <th>CarrierDelay</th>\n",
       "      <td>float64</td>\n",
       "      <td>242202</td>\n",
       "      <td>75.092314</td>\n",
       "    </tr>\n",
       "    <tr>\n",
       "      <th>WeatherDelay</th>\n",
       "      <td>float64</td>\n",
       "      <td>242202</td>\n",
       "      <td>75.092314</td>\n",
       "    </tr>\n",
       "    <tr>\n",
       "      <th>NASDelay</th>\n",
       "      <td>float64</td>\n",
       "      <td>242202</td>\n",
       "      <td>75.092314</td>\n",
       "    </tr>\n",
       "    <tr>\n",
       "      <th>SecurityDelay</th>\n",
       "      <td>float64</td>\n",
       "      <td>242202</td>\n",
       "      <td>75.092314</td>\n",
       "    </tr>\n",
       "    <tr>\n",
       "      <th>LateAircraftDelay</th>\n",
       "      <td>float64</td>\n",
       "      <td>242202</td>\n",
       "      <td>75.092314</td>\n",
       "    </tr>\n",
       "  </tbody>\n",
       "</table>\n",
       "</div>"
      ],
      "text/plain": [
       "                    dtypes  missing values  % missing values\n",
       "CancellationCode    object          319368         99.016863\n",
       "CarrierDelay       float64          242202         75.092314\n",
       "WeatherDelay       float64          242202         75.092314\n",
       "NASDelay           float64          242202         75.092314\n",
       "SecurityDelay      float64          242202         75.092314\n",
       "LateAircraftDelay  float64          242202         75.092314"
      ]
     },
     "execution_count": 10,
     "metadata": {},
     "output_type": "execute_result"
    }
   ],
   "source": [
    "missing_big = df_missing[df_missing['% missing values'] > 60]\n",
    "missing_big"
   ]
  },
  {
   "cell_type": "markdown",
   "metadata": {},
   "source": [
    " Remove this features 'CancellationCode','CarrierDelay', 'WeatherDelay', 'NASDelay', 'SecurityDelay', 'LateAircraftDelay'"
   ]
  },
  {
   "cell_type": "code",
   "execution_count": 11,
   "metadata": {},
   "outputs": [],
   "source": [
    "original.drop(columns = missing_big.index, inplace = True)\n",
    "original = original.drop_duplicates()"
   ]
  },
  {
   "cell_type": "code",
   "execution_count": 12,
   "metadata": {
    "scrolled": false
   },
   "outputs": [
    {
     "data": {
      "text/html": [
       "<div>\n",
       "<style scoped>\n",
       "    .dataframe tbody tr th:only-of-type {\n",
       "        vertical-align: middle;\n",
       "    }\n",
       "\n",
       "    .dataframe tbody tr th {\n",
       "        vertical-align: top;\n",
       "    }\n",
       "\n",
       "    .dataframe thead th {\n",
       "        text-align: right;\n",
       "    }\n",
       "</style>\n",
       "<table border=\"1\" class=\"dataframe\">\n",
       "  <thead>\n",
       "    <tr style=\"text-align: right;\">\n",
       "      <th></th>\n",
       "      <th>% missing values</th>\n",
       "      <th>dtypes</th>\n",
       "    </tr>\n",
       "  </thead>\n",
       "  <tbody>\n",
       "    <tr>\n",
       "      <th>Year</th>\n",
       "      <td>0.000000</td>\n",
       "      <td>int64</td>\n",
       "    </tr>\n",
       "    <tr>\n",
       "      <th>Month</th>\n",
       "      <td>0.000000</td>\n",
       "      <td>int64</td>\n",
       "    </tr>\n",
       "    <tr>\n",
       "      <th>DayofMonth</th>\n",
       "      <td>0.000000</td>\n",
       "      <td>int64</td>\n",
       "    </tr>\n",
       "    <tr>\n",
       "      <th>DayOfWeek</th>\n",
       "      <td>0.000000</td>\n",
       "      <td>int64</td>\n",
       "    </tr>\n",
       "    <tr>\n",
       "      <th>DepTime</th>\n",
       "      <td>0.983140</td>\n",
       "      <td>float64</td>\n",
       "    </tr>\n",
       "    <tr>\n",
       "      <th>CRSDepTime</th>\n",
       "      <td>0.000000</td>\n",
       "      <td>int64</td>\n",
       "    </tr>\n",
       "    <tr>\n",
       "      <th>ArrTime</th>\n",
       "      <td>1.218151</td>\n",
       "      <td>float64</td>\n",
       "    </tr>\n",
       "    <tr>\n",
       "      <th>CRSArrTime</th>\n",
       "      <td>0.000000</td>\n",
       "      <td>int64</td>\n",
       "    </tr>\n",
       "    <tr>\n",
       "      <th>UniqueCarrier</th>\n",
       "      <td>0.000000</td>\n",
       "      <td>object</td>\n",
       "    </tr>\n",
       "    <tr>\n",
       "      <th>FlightNum</th>\n",
       "      <td>0.000000</td>\n",
       "      <td>int64</td>\n",
       "    </tr>\n",
       "    <tr>\n",
       "      <th>TailNum</th>\n",
       "      <td>0.000000</td>\n",
       "      <td>object</td>\n",
       "    </tr>\n",
       "    <tr>\n",
       "      <th>ActualElapsedTime</th>\n",
       "      <td>1.218151</td>\n",
       "      <td>float64</td>\n",
       "    </tr>\n",
       "    <tr>\n",
       "      <th>CRSElapsedTime</th>\n",
       "      <td>0.000000</td>\n",
       "      <td>float64</td>\n",
       "    </tr>\n",
       "    <tr>\n",
       "      <th>AirTime</th>\n",
       "      <td>1.218151</td>\n",
       "      <td>float64</td>\n",
       "    </tr>\n",
       "    <tr>\n",
       "      <th>ArrDelay</th>\n",
       "      <td>1.218151</td>\n",
       "      <td>float64</td>\n",
       "    </tr>\n",
       "    <tr>\n",
       "      <th>DepDelay</th>\n",
       "      <td>0.983140</td>\n",
       "      <td>float64</td>\n",
       "    </tr>\n",
       "    <tr>\n",
       "      <th>Origin</th>\n",
       "      <td>0.000000</td>\n",
       "      <td>object</td>\n",
       "    </tr>\n",
       "    <tr>\n",
       "      <th>Dest</th>\n",
       "      <td>0.000000</td>\n",
       "      <td>object</td>\n",
       "    </tr>\n",
       "    <tr>\n",
       "      <th>Distance</th>\n",
       "      <td>0.000000</td>\n",
       "      <td>int64</td>\n",
       "    </tr>\n",
       "    <tr>\n",
       "      <th>TaxiIn</th>\n",
       "      <td>1.218151</td>\n",
       "      <td>float64</td>\n",
       "    </tr>\n",
       "    <tr>\n",
       "      <th>TaxiOut</th>\n",
       "      <td>0.983140</td>\n",
       "      <td>float64</td>\n",
       "    </tr>\n",
       "    <tr>\n",
       "      <th>Cancelled</th>\n",
       "      <td>0.000000</td>\n",
       "      <td>int64</td>\n",
       "    </tr>\n",
       "    <tr>\n",
       "      <th>Diverted</th>\n",
       "      <td>0.000000</td>\n",
       "      <td>int64</td>\n",
       "    </tr>\n",
       "    <tr>\n",
       "      <th>type</th>\n",
       "      <td>4.790753</td>\n",
       "      <td>object</td>\n",
       "    </tr>\n",
       "    <tr>\n",
       "      <th>manufacturer</th>\n",
       "      <td>4.790753</td>\n",
       "      <td>object</td>\n",
       "    </tr>\n",
       "    <tr>\n",
       "      <th>issue_date</th>\n",
       "      <td>4.790753</td>\n",
       "      <td>object</td>\n",
       "    </tr>\n",
       "    <tr>\n",
       "      <th>model</th>\n",
       "      <td>4.790753</td>\n",
       "      <td>object</td>\n",
       "    </tr>\n",
       "    <tr>\n",
       "      <th>status</th>\n",
       "      <td>4.790753</td>\n",
       "      <td>object</td>\n",
       "    </tr>\n",
       "    <tr>\n",
       "      <th>aircraft_type</th>\n",
       "      <td>4.790753</td>\n",
       "      <td>object</td>\n",
       "    </tr>\n",
       "    <tr>\n",
       "      <th>engine_type</th>\n",
       "      <td>4.790753</td>\n",
       "      <td>object</td>\n",
       "    </tr>\n",
       "    <tr>\n",
       "      <th>year</th>\n",
       "      <td>4.790753</td>\n",
       "      <td>object</td>\n",
       "    </tr>\n",
       "  </tbody>\n",
       "</table>\n",
       "</div>"
      ],
      "text/plain": [
       "                   % missing values   dtypes\n",
       "Year                       0.000000    int64\n",
       "Month                      0.000000    int64\n",
       "DayofMonth                 0.000000    int64\n",
       "DayOfWeek                  0.000000    int64\n",
       "DepTime                    0.983140  float64\n",
       "CRSDepTime                 0.000000    int64\n",
       "ArrTime                    1.218151  float64\n",
       "CRSArrTime                 0.000000    int64\n",
       "UniqueCarrier              0.000000   object\n",
       "FlightNum                  0.000000    int64\n",
       "TailNum                    0.000000   object\n",
       "ActualElapsedTime          1.218151  float64\n",
       "CRSElapsedTime             0.000000  float64\n",
       "AirTime                    1.218151  float64\n",
       "ArrDelay                   1.218151  float64\n",
       "DepDelay                   0.983140  float64\n",
       "Origin                     0.000000   object\n",
       "Dest                       0.000000   object\n",
       "Distance                   0.000000    int64\n",
       "TaxiIn                     1.218151  float64\n",
       "TaxiOut                    0.983140  float64\n",
       "Cancelled                  0.000000    int64\n",
       "Diverted                   0.000000    int64\n",
       "type                       4.790753   object\n",
       "manufacturer               4.790753   object\n",
       "issue_date                 4.790753   object\n",
       "model                      4.790753   object\n",
       "status                     4.790753   object\n",
       "aircraft_type              4.790753   object\n",
       "engine_type                4.790753   object\n",
       "year                       4.790753   object"
      ]
     },
     "execution_count": 12,
     "metadata": {},
     "output_type": "execute_result"
    }
   ],
   "source": [
    "missing = (original.isnull().sum()/original.shape[0]*100).to_frame().rename(columns={0:'% missing values'})\n",
    "types = original.dtypes.to_frame().rename(columns={0:'dtypes'})\n",
    "pd.concat([missing, types], axis = 1)"
   ]
  },
  {
   "cell_type": "code",
   "execution_count": 13,
   "metadata": {},
   "outputs": [
    {
     "data": {
      "text/html": [
       "<div>\n",
       "<style scoped>\n",
       "    .dataframe tbody tr th:only-of-type {\n",
       "        vertical-align: middle;\n",
       "    }\n",
       "\n",
       "    .dataframe tbody tr th {\n",
       "        vertical-align: top;\n",
       "    }\n",
       "\n",
       "    .dataframe thead th {\n",
       "        text-align: right;\n",
       "    }\n",
       "</style>\n",
       "<table border=\"1\" class=\"dataframe\">\n",
       "  <thead>\n",
       "    <tr style=\"text-align: right;\">\n",
       "      <th></th>\n",
       "      <th>Year</th>\n",
       "      <th>Month</th>\n",
       "      <th>DayofMonth</th>\n",
       "      <th>DayOfWeek</th>\n",
       "      <th>DepTime</th>\n",
       "      <th>CRSDepTime</th>\n",
       "      <th>ArrTime</th>\n",
       "      <th>CRSArrTime</th>\n",
       "      <th>FlightNum</th>\n",
       "      <th>ActualElapsedTime</th>\n",
       "      <th>CRSElapsedTime</th>\n",
       "      <th>AirTime</th>\n",
       "      <th>ArrDelay</th>\n",
       "      <th>DepDelay</th>\n",
       "      <th>Distance</th>\n",
       "      <th>TaxiIn</th>\n",
       "      <th>TaxiOut</th>\n",
       "      <th>Cancelled</th>\n",
       "      <th>Diverted</th>\n",
       "    </tr>\n",
       "  </thead>\n",
       "  <tbody>\n",
       "    <tr>\n",
       "      <th>count</th>\n",
       "      <td>322538.0</td>\n",
       "      <td>322538.000000</td>\n",
       "      <td>322538.000000</td>\n",
       "      <td>322538.000000</td>\n",
       "      <td>319367.000000</td>\n",
       "      <td>322538.000000</td>\n",
       "      <td>318609.000000</td>\n",
       "      <td>322538.000000</td>\n",
       "      <td>322538.000000</td>\n",
       "      <td>318609.000000</td>\n",
       "      <td>322538.000000</td>\n",
       "      <td>318609.000000</td>\n",
       "      <td>318609.000000</td>\n",
       "      <td>319367.000000</td>\n",
       "      <td>322538.000000</td>\n",
       "      <td>318609.000000</td>\n",
       "      <td>319367.000000</td>\n",
       "      <td>322538.000000</td>\n",
       "      <td>322538.000000</td>\n",
       "    </tr>\n",
       "    <tr>\n",
       "      <th>mean</th>\n",
       "      <td>2008.0</td>\n",
       "      <td>2.507329</td>\n",
       "      <td>15.706032</td>\n",
       "      <td>3.919513</td>\n",
       "      <td>1338.660644</td>\n",
       "      <td>1328.224243</td>\n",
       "      <td>1484.727707</td>\n",
       "      <td>1494.655910</td>\n",
       "      <td>2117.957593</td>\n",
       "      <td>129.913085</td>\n",
       "      <td>130.758072</td>\n",
       "      <td>106.544489</td>\n",
       "      <td>10.225756</td>\n",
       "      <td>11.346081</td>\n",
       "      <td>739.572587</td>\n",
       "      <td>6.773873</td>\n",
       "      <td>16.601102</td>\n",
       "      <td>0.009831</td>\n",
       "      <td>0.002350</td>\n",
       "    </tr>\n",
       "    <tr>\n",
       "      <th>std</th>\n",
       "      <td>0.0</td>\n",
       "      <td>1.123459</td>\n",
       "      <td>8.747380</td>\n",
       "      <td>1.983025</td>\n",
       "      <td>481.381190</td>\n",
       "      <td>467.148574</td>\n",
       "      <td>509.428185</td>\n",
       "      <td>486.403956</td>\n",
       "      <td>1912.838805</td>\n",
       "      <td>71.107450</td>\n",
       "      <td>70.509304</td>\n",
       "      <td>68.423525</td>\n",
       "      <td>38.943640</td>\n",
       "      <td>35.785017</td>\n",
       "      <td>564.602497</td>\n",
       "      <td>4.750742</td>\n",
       "      <td>10.983372</td>\n",
       "      <td>0.098665</td>\n",
       "      <td>0.048421</td>\n",
       "    </tr>\n",
       "    <tr>\n",
       "      <th>min</th>\n",
       "      <td>2008.0</td>\n",
       "      <td>1.000000</td>\n",
       "      <td>1.000000</td>\n",
       "      <td>1.000000</td>\n",
       "      <td>1.000000</td>\n",
       "      <td>1.000000</td>\n",
       "      <td>1.000000</td>\n",
       "      <td>1.000000</td>\n",
       "      <td>1.000000</td>\n",
       "      <td>15.000000</td>\n",
       "      <td>1.000000</td>\n",
       "      <td>0.000000</td>\n",
       "      <td>-90.000000</td>\n",
       "      <td>-79.000000</td>\n",
       "      <td>31.000000</td>\n",
       "      <td>0.000000</td>\n",
       "      <td>0.000000</td>\n",
       "      <td>0.000000</td>\n",
       "      <td>0.000000</td>\n",
       "    </tr>\n",
       "    <tr>\n",
       "      <th>25%</th>\n",
       "      <td>2008.0</td>\n",
       "      <td>1.000000</td>\n",
       "      <td>8.000000</td>\n",
       "      <td>2.000000</td>\n",
       "      <td>929.000000</td>\n",
       "      <td>925.000000</td>\n",
       "      <td>1108.000000</td>\n",
       "      <td>1115.000000</td>\n",
       "      <td>577.000000</td>\n",
       "      <td>78.000000</td>\n",
       "      <td>80.000000</td>\n",
       "      <td>57.000000</td>\n",
       "      <td>-9.000000</td>\n",
       "      <td>-4.000000</td>\n",
       "      <td>328.000000</td>\n",
       "      <td>4.000000</td>\n",
       "      <td>10.000000</td>\n",
       "      <td>0.000000</td>\n",
       "      <td>0.000000</td>\n",
       "    </tr>\n",
       "    <tr>\n",
       "      <th>50%</th>\n",
       "      <td>2008.0</td>\n",
       "      <td>3.000000</td>\n",
       "      <td>16.000000</td>\n",
       "      <td>4.000000</td>\n",
       "      <td>1329.000000</td>\n",
       "      <td>1320.000000</td>\n",
       "      <td>1515.000000</td>\n",
       "      <td>1517.000000</td>\n",
       "      <td>1476.000000</td>\n",
       "      <td>112.000000</td>\n",
       "      <td>113.000000</td>\n",
       "      <td>88.000000</td>\n",
       "      <td>0.000000</td>\n",
       "      <td>0.000000</td>\n",
       "      <td>590.000000</td>\n",
       "      <td>6.000000</td>\n",
       "      <td>14.000000</td>\n",
       "      <td>0.000000</td>\n",
       "      <td>0.000000</td>\n",
       "    </tr>\n",
       "    <tr>\n",
       "      <th>75%</th>\n",
       "      <td>2008.0</td>\n",
       "      <td>4.000000</td>\n",
       "      <td>23.000000</td>\n",
       "      <td>6.000000</td>\n",
       "      <td>1734.000000</td>\n",
       "      <td>1720.000000</td>\n",
       "      <td>1914.000000</td>\n",
       "      <td>1910.000000</td>\n",
       "      <td>3351.000000</td>\n",
       "      <td>162.000000</td>\n",
       "      <td>162.000000</td>\n",
       "      <td>137.000000</td>\n",
       "      <td>15.000000</td>\n",
       "      <td>11.000000</td>\n",
       "      <td>983.000000</td>\n",
       "      <td>8.000000</td>\n",
       "      <td>19.000000</td>\n",
       "      <td>0.000000</td>\n",
       "      <td>0.000000</td>\n",
       "    </tr>\n",
       "    <tr>\n",
       "      <th>max</th>\n",
       "      <td>2008.0</td>\n",
       "      <td>4.000000</td>\n",
       "      <td>31.000000</td>\n",
       "      <td>7.000000</td>\n",
       "      <td>2400.000000</td>\n",
       "      <td>2359.000000</td>\n",
       "      <td>2400.000000</td>\n",
       "      <td>2359.000000</td>\n",
       "      <td>7829.000000</td>\n",
       "      <td>686.000000</td>\n",
       "      <td>660.000000</td>\n",
       "      <td>658.000000</td>\n",
       "      <td>1211.000000</td>\n",
       "      <td>1198.000000</td>\n",
       "      <td>4962.000000</td>\n",
       "      <td>175.000000</td>\n",
       "      <td>379.000000</td>\n",
       "      <td>1.000000</td>\n",
       "      <td>1.000000</td>\n",
       "    </tr>\n",
       "  </tbody>\n",
       "</table>\n",
       "</div>"
      ],
      "text/plain": [
       "           Year          Month     DayofMonth      DayOfWeek        DepTime  \\\n",
       "count  322538.0  322538.000000  322538.000000  322538.000000  319367.000000   \n",
       "mean     2008.0       2.507329      15.706032       3.919513    1338.660644   \n",
       "std         0.0       1.123459       8.747380       1.983025     481.381190   \n",
       "min      2008.0       1.000000       1.000000       1.000000       1.000000   \n",
       "25%      2008.0       1.000000       8.000000       2.000000     929.000000   \n",
       "50%      2008.0       3.000000      16.000000       4.000000    1329.000000   \n",
       "75%      2008.0       4.000000      23.000000       6.000000    1734.000000   \n",
       "max      2008.0       4.000000      31.000000       7.000000    2400.000000   \n",
       "\n",
       "          CRSDepTime        ArrTime     CRSArrTime      FlightNum  \\\n",
       "count  322538.000000  318609.000000  322538.000000  322538.000000   \n",
       "mean     1328.224243    1484.727707    1494.655910    2117.957593   \n",
       "std       467.148574     509.428185     486.403956    1912.838805   \n",
       "min         1.000000       1.000000       1.000000       1.000000   \n",
       "25%       925.000000    1108.000000    1115.000000     577.000000   \n",
       "50%      1320.000000    1515.000000    1517.000000    1476.000000   \n",
       "75%      1720.000000    1914.000000    1910.000000    3351.000000   \n",
       "max      2359.000000    2400.000000    2359.000000    7829.000000   \n",
       "\n",
       "       ActualElapsedTime  CRSElapsedTime        AirTime       ArrDelay  \\\n",
       "count      318609.000000   322538.000000  318609.000000  318609.000000   \n",
       "mean          129.913085      130.758072     106.544489      10.225756   \n",
       "std            71.107450       70.509304      68.423525      38.943640   \n",
       "min            15.000000        1.000000       0.000000     -90.000000   \n",
       "25%            78.000000       80.000000      57.000000      -9.000000   \n",
       "50%           112.000000      113.000000      88.000000       0.000000   \n",
       "75%           162.000000      162.000000     137.000000      15.000000   \n",
       "max           686.000000      660.000000     658.000000    1211.000000   \n",
       "\n",
       "            DepDelay       Distance         TaxiIn        TaxiOut  \\\n",
       "count  319367.000000  322538.000000  318609.000000  319367.000000   \n",
       "mean       11.346081     739.572587       6.773873      16.601102   \n",
       "std        35.785017     564.602497       4.750742      10.983372   \n",
       "min       -79.000000      31.000000       0.000000       0.000000   \n",
       "25%        -4.000000     328.000000       4.000000      10.000000   \n",
       "50%         0.000000     590.000000       6.000000      14.000000   \n",
       "75%        11.000000     983.000000       8.000000      19.000000   \n",
       "max      1198.000000    4962.000000     175.000000     379.000000   \n",
       "\n",
       "           Cancelled       Diverted  \n",
       "count  322538.000000  322538.000000  \n",
       "mean        0.009831       0.002350  \n",
       "std         0.098665       0.048421  \n",
       "min         0.000000       0.000000  \n",
       "25%         0.000000       0.000000  \n",
       "50%         0.000000       0.000000  \n",
       "75%         0.000000       0.000000  \n",
       "max         1.000000       1.000000  "
      ]
     },
     "execution_count": 13,
     "metadata": {},
     "output_type": "execute_result"
    }
   ],
   "source": [
    "original.describe()"
   ]
  },
  {
   "cell_type": "code",
   "execution_count": 14,
   "metadata": {},
   "outputs": [],
   "source": [
    "original['ArrDelay'].fillna(original['ArrDelay'].mean(), inplace = True)\n",
    "original['TaxiOut'].fillna(original['TaxiOut'].mean(), inplace = True)\n",
    "original['TaxiIn'].fillna(original['TaxiIn'].mean(), inplace = True)\n",
    "original['DepDelay'].fillna(original['DepDelay'].mean(), inplace = True)\n",
    "original['ArrDelay'].fillna(original['ArrDelay'].mean(), inplace = True)\n",
    "original['AirTime'].fillna(original['AirTime'].mean(), inplace = True)\n",
    "original['CRSElapsedTime'].fillna(original['CRSElapsedTime'].mean(),inplace = True)\n",
    "original['ActualElapsedTime'].fillna(original['ActualElapsedTime'].mean(), inplace = True)\n",
    "\n",
    "DataNew = original.dropna()"
   ]
  },
  {
   "cell_type": "markdown",
   "metadata": {},
   "source": [
    "Based on the describe, replace missing value by mean value of corresponding feature. Drop missing value of data which belongs to the type object."
   ]
  },
  {
   "cell_type": "markdown",
   "metadata": {},
   "source": [
    "The DataNew is not missing value"
   ]
  },
  {
   "cell_type": "code",
   "execution_count": 15,
   "metadata": {},
   "outputs": [
    {
     "data": {
      "text/plain": [
       "Year                    1\n",
       "Month                   4\n",
       "DayofMonth             31\n",
       "DayOfWeek               7\n",
       "DepTime              1355\n",
       "CRSDepTime           1134\n",
       "ArrTime              1433\n",
       "CRSArrTime           1295\n",
       "UniqueCarrier          19\n",
       "FlightNum            7105\n",
       "TailNum              4427\n",
       "ActualElapsedTime     589\n",
       "CRSElapsedTime        446\n",
       "AirTime               570\n",
       "ArrDelay              572\n",
       "DepDelay              525\n",
       "Origin                281\n",
       "Dest                  281\n",
       "Distance             1295\n",
       "TaxiIn                101\n",
       "TaxiOut               198\n",
       "Cancelled               1\n",
       "Diverted                1\n",
       "type                    5\n",
       "manufacturer           37\n",
       "issue_date           2387\n",
       "model                 164\n",
       "status                  2\n",
       "aircraft_type           4\n",
       "engine_type             7\n",
       "year                   51\n",
       "dtype: int64"
      ]
     },
     "execution_count": 15,
     "metadata": {},
     "output_type": "execute_result"
    }
   ],
   "source": [
    "DataNew.nunique()"
   ]
  },
  {
   "cell_type": "markdown",
   "metadata": {},
   "source": [
    "The features 'Year', 'Cancelled', 'Diverted' is only 1 unique value, which will be little affect for training.\n",
    "The features 'FlightNum' 'TailNum' 'issue_date' is many value unique, which will be little affect fot training. "
   ]
  },
  {
   "cell_type": "code",
   "execution_count": 16,
   "metadata": {},
   "outputs": [],
   "source": [
    "DataNew = DataNew.drop(columns = ['Year', 'Cancelled', 'Diverted', 'FlightNum', 'TailNum', 'issue_date'])\n",
    "DataNew = DataNew.drop_duplicates()"
   ]
  },
  {
   "cell_type": "code",
   "execution_count": 17,
   "metadata": {},
   "outputs": [
    {
     "name": "stdout",
     "output_type": "stream",
     "text": [
      "<class 'pandas.core.frame.DataFrame'>\n",
      "Int64Index: 303230 entries, 0 to 322538\n",
      "Data columns (total 25 columns):\n",
      " #   Column             Non-Null Count   Dtype  \n",
      "---  ------             --------------   -----  \n",
      " 0   Month              303230 non-null  int64  \n",
      " 1   DayofMonth         303230 non-null  int64  \n",
      " 2   DayOfWeek          303230 non-null  int64  \n",
      " 3   DepTime            303230 non-null  float64\n",
      " 4   CRSDepTime         303230 non-null  int64  \n",
      " 5   ArrTime            303230 non-null  float64\n",
      " 6   CRSArrTime         303230 non-null  int64  \n",
      " 7   UniqueCarrier      303230 non-null  object \n",
      " 8   ActualElapsedTime  303230 non-null  float64\n",
      " 9   CRSElapsedTime     303230 non-null  float64\n",
      " 10  AirTime            303230 non-null  float64\n",
      " 11  ArrDelay           303230 non-null  float64\n",
      " 12  DepDelay           303230 non-null  float64\n",
      " 13  Origin             303230 non-null  object \n",
      " 14  Dest               303230 non-null  object \n",
      " 15  Distance           303230 non-null  int64  \n",
      " 16  TaxiIn             303230 non-null  float64\n",
      " 17  TaxiOut            303230 non-null  float64\n",
      " 18  type               303230 non-null  object \n",
      " 19  manufacturer       303230 non-null  object \n",
      " 20  model              303230 non-null  object \n",
      " 21  status             303230 non-null  object \n",
      " 22  aircraft_type      303230 non-null  object \n",
      " 23  engine_type        303230 non-null  object \n",
      " 24  year               303230 non-null  object \n",
      "dtypes: float64(9), int64(6), object(10)\n",
      "memory usage: 60.1+ MB\n"
     ]
    }
   ],
   "source": [
    "DataNew.info()"
   ]
  },
  {
   "cell_type": "markdown",
   "metadata": {},
   "source": [
    "### Variable analysis"
   ]
  },
  {
   "cell_type": "markdown",
   "metadata": {},
   "source": [
    "#### Object variable"
   ]
  },
  {
   "cell_type": "code",
   "execution_count": 18,
   "metadata": {},
   "outputs": [
    {
     "data": {
      "text/html": [
       "<div>\n",
       "<style scoped>\n",
       "    .dataframe tbody tr th:only-of-type {\n",
       "        vertical-align: middle;\n",
       "    }\n",
       "\n",
       "    .dataframe tbody tr th {\n",
       "        vertical-align: top;\n",
       "    }\n",
       "\n",
       "    .dataframe thead th {\n",
       "        text-align: right;\n",
       "    }\n",
       "</style>\n",
       "<table border=\"1\" class=\"dataframe\">\n",
       "  <thead>\n",
       "    <tr style=\"text-align: right;\">\n",
       "      <th></th>\n",
       "      <th>UniqueCarrier</th>\n",
       "      <th>Origin</th>\n",
       "      <th>Dest</th>\n",
       "      <th>type</th>\n",
       "      <th>manufacturer</th>\n",
       "      <th>model</th>\n",
       "      <th>status</th>\n",
       "      <th>aircraft_type</th>\n",
       "      <th>engine_type</th>\n",
       "      <th>year</th>\n",
       "    </tr>\n",
       "  </thead>\n",
       "  <tbody>\n",
       "    <tr>\n",
       "      <th>count</th>\n",
       "      <td>303230</td>\n",
       "      <td>303230</td>\n",
       "      <td>303230</td>\n",
       "      <td>303230</td>\n",
       "      <td>303230</td>\n",
       "      <td>303230</td>\n",
       "      <td>303230</td>\n",
       "      <td>303230</td>\n",
       "      <td>303230</td>\n",
       "      <td>303230</td>\n",
       "    </tr>\n",
       "    <tr>\n",
       "      <th>unique</th>\n",
       "      <td>19</td>\n",
       "      <td>281</td>\n",
       "      <td>281</td>\n",
       "      <td>5</td>\n",
       "      <td>37</td>\n",
       "      <td>164</td>\n",
       "      <td>2</td>\n",
       "      <td>4</td>\n",
       "      <td>7</td>\n",
       "      <td>51</td>\n",
       "    </tr>\n",
       "    <tr>\n",
       "      <th>top</th>\n",
       "      <td>WN</td>\n",
       "      <td>ATL</td>\n",
       "      <td>ATL</td>\n",
       "      <td>Corporation</td>\n",
       "      <td>BOEING</td>\n",
       "      <td>CL-600-2B19</td>\n",
       "      <td>Valid</td>\n",
       "      <td>Fixed Wing Multi-Engine</td>\n",
       "      <td>Turbo-Fan</td>\n",
       "      <td>2001</td>\n",
       "    </tr>\n",
       "    <tr>\n",
       "      <th>freq</th>\n",
       "      <td>56103</td>\n",
       "      <td>18408</td>\n",
       "      <td>18537</td>\n",
       "      <td>301282</td>\n",
       "      <td>128692</td>\n",
       "      <td>34615</td>\n",
       "      <td>303213</td>\n",
       "      <td>301507</td>\n",
       "      <td>205182</td>\n",
       "      <td>26902</td>\n",
       "    </tr>\n",
       "  </tbody>\n",
       "</table>\n",
       "</div>"
      ],
      "text/plain": [
       "       UniqueCarrier  Origin    Dest         type manufacturer        model  \\\n",
       "count         303230  303230  303230       303230       303230       303230   \n",
       "unique            19     281     281            5           37          164   \n",
       "top               WN     ATL     ATL  Corporation       BOEING  CL-600-2B19   \n",
       "freq           56103   18408   18537       301282       128692        34615   \n",
       "\n",
       "        status            aircraft_type engine_type    year  \n",
       "count   303230                   303230      303230  303230  \n",
       "unique       2                        4           7      51  \n",
       "top      Valid  Fixed Wing Multi-Engine   Turbo-Fan    2001  \n",
       "freq    303213                   301507      205182   26902  "
      ]
     },
     "execution_count": 18,
     "metadata": {},
     "output_type": "execute_result"
    }
   ],
   "source": [
    "DataNew.describe(include = 'O')"
   ]
  },
  {
   "cell_type": "code",
   "execution_count": 19,
   "metadata": {},
   "outputs": [
    {
     "data": {
      "text/plain": [
       "<AxesSubplot:xlabel='UniqueCarrier', ylabel='Count'>"
      ]
     },
     "execution_count": 19,
     "metadata": {},
     "output_type": "execute_result"
    },
    {
     "data": {
      "image/png": "[encoded data removed]",
      "text/plain": [
       "<Figure size 1080x360 with 1 Axes>"
      ]
     },
     "metadata": {
      "needs_background": "light"
     },
     "output_type": "display_data"
    }
   ],
   "source": [
    "f = plt.figure(figsize = (15,5))\n",
    "sns.histplot(DataNew['UniqueCarrier'])"
   ]
  },
  {
   "cell_type": "code",
   "execution_count": 20,
   "metadata": {},
   "outputs": [
    {
     "data": {
      "text/plain": [
       "<AxesSubplot:xlabel='type', ylabel='Count'>"
      ]
     },
     "execution_count": 20,
     "metadata": {},
     "output_type": "execute_result"
    },
    {
     "data": {
      "image/png": "[encoded data removed]",
      "text/plain": [
       "<Figure size 1080x360 with 1 Axes>"
      ]
     },
     "metadata": {
      "needs_background": "light"
     },
     "output_type": "display_data"
    }
   ],
   "source": [
    "f = plt.figure(figsize = (15,5))\n",
    "sns.histplot(DataNew['type'])"
   ]
  },
  {
   "cell_type": "markdown",
   "metadata": {},
   "source": [
    "Based on the graph, The feature 'type' is need to remove"
   ]
  },
  {
   "cell_type": "code",
   "execution_count": 21,
   "metadata": {},
   "outputs": [
    {
     "data": {
      "text/plain": [
       "<AxesSubplot:xlabel='status', ylabel='Count'>"
      ]
     },
     "execution_count": 21,
     "metadata": {},
     "output_type": "execute_result"
    },
    {
     "data": {
      "image/png": "[encoded data removed]",
      "text/plain": [
       "<Figure size 432x288 with 1 Axes>"
      ]
     },
     "metadata": {
      "needs_background": "light"
     },
     "output_type": "display_data"
    }
   ],
   "source": [
    "sns.histplot(data = DataNew['status'])"
   ]
  },
  {
   "cell_type": "markdown",
   "metadata": {},
   "source": [
    "Based on the graph, The feature 'status' is need to remove"
   ]
  },
  {
   "cell_type": "code",
   "execution_count": 22,
   "metadata": {},
   "outputs": [
    {
     "data": {
      "text/plain": [
       "<AxesSubplot:xlabel='aircraft_type', ylabel='Count'>"
      ]
     },
     "execution_count": 22,
     "metadata": {},
     "output_type": "execute_result"
    },
    {
     "data": {
      "image/png": "[encoded data removed]",
      "text/plain": [
       "<Figure size 1080x360 with 1 Axes>"
      ]
     },
     "metadata": {
      "needs_background": "light"
     },
     "output_type": "display_data"
    }
   ],
   "source": [
    "f = plt.figure(figsize = (15,5))\n",
    "sns.histplot(data = DataNew['aircraft_type'])"
   ]
  },
  {
   "cell_type": "markdown",
   "metadata": {},
   "source": [
    "Based on the graph, The feature 'aircraft_type' is need to remove"
   ]
  },
  {
   "cell_type": "code",
   "execution_count": 23,
   "metadata": {},
   "outputs": [
    {
     "data": {
      "text/plain": [
       "<AxesSubplot:xlabel='engine_type', ylabel='Count'>"
      ]
     },
     "execution_count": 23,
     "metadata": {},
     "output_type": "execute_result"
    },
    {
     "data": {
      "image/png": "[encoded data removed]",
      "text/plain": [
       "<Figure size 1080x360 with 1 Axes>"
      ]
     },
     "metadata": {
      "needs_background": "light"
     },
     "output_type": "display_data"
    }
   ],
   "source": [
    "f = plt.figure(figsize = (15,5))\n",
    "sns.histplot(DataNew['engine_type'])"
   ]
  },
  {
   "cell_type": "markdown",
   "metadata": {},
   "source": [
    "Based on the graph, The feature 'engine_type' is need to remove"
   ]
  },
  {
   "cell_type": "code",
   "execution_count": 24,
   "metadata": {},
   "outputs": [
    {
     "data": {
      "text/plain": [
       "<AxesSubplot:xlabel='Year', ylabel='Count'>"
      ]
     },
     "execution_count": 24,
     "metadata": {},
     "output_type": "execute_result"
    },
    {
     "data": {
      "image/png": "[encoded data removed]",
      "text/plain": [
       "<Figure size 2160x1080 with 1 Axes>"
      ]
     },
     "metadata": {
      "needs_background": "light"
     },
     "output_type": "display_data"
    }
   ],
   "source": [
    "f = plt.figure(figsize = (30,15))\n",
    "plt.xlabel('Year', fontsize = 20)\n",
    "plt.ylabel('Count', fontsize = 20)\n",
    "sns.histplot(data = DataNew.year)"
   ]
  },
  {
   "cell_type": "markdown",
   "metadata": {},
   "source": [
    "The feature 'year' can be used in training"
   ]
  },
  {
   "cell_type": "code",
   "execution_count": 25,
   "metadata": {},
   "outputs": [
    {
     "data": {
      "text/plain": [
       "<AxesSubplot:xlabel='manufacturer', ylabel='Count'>"
      ]
     },
     "execution_count": 25,
     "metadata": {},
     "output_type": "execute_result"
    },
    {
     "data": {
      "image/png": "[encoded data removed]",
      "text/plain": [
       "<Figure size 7200x1440 with 1 Axes>"
      ]
     },
     "metadata": {
      "needs_background": "light"
     },
     "output_type": "display_data"
    }
   ],
   "source": [
    "f = plt.figure(figsize = (100,20))\n",
    "sns.histplot(data = DataNew['manufacturer'])"
   ]
  },
  {
   "cell_type": "markdown",
   "metadata": {},
   "source": [
    "The feature 'manufacturer' can be used in training"
   ]
  },
  {
   "cell_type": "code",
   "execution_count": 26,
   "metadata": {},
   "outputs": [
    {
     "data": {
      "text/html": [
       "<div>\n",
       "<style scoped>\n",
       "    .dataframe tbody tr th:only-of-type {\n",
       "        vertical-align: middle;\n",
       "    }\n",
       "\n",
       "    .dataframe tbody tr th {\n",
       "        vertical-align: top;\n",
       "    }\n",
       "\n",
       "    .dataframe thead th {\n",
       "        text-align: right;\n",
       "    }\n",
       "</style>\n",
       "<table border=\"1\" class=\"dataframe\">\n",
       "  <thead>\n",
       "    <tr style=\"text-align: right;\">\n",
       "      <th></th>\n",
       "      <th>Month</th>\n",
       "      <th>DayofMonth</th>\n",
       "      <th>DayOfWeek</th>\n",
       "      <th>DepTime</th>\n",
       "      <th>CRSDepTime</th>\n",
       "      <th>ArrTime</th>\n",
       "      <th>CRSArrTime</th>\n",
       "      <th>ActualElapsedTime</th>\n",
       "      <th>CRSElapsedTime</th>\n",
       "      <th>AirTime</th>\n",
       "      <th>ArrDelay</th>\n",
       "      <th>DepDelay</th>\n",
       "      <th>Distance</th>\n",
       "      <th>TaxiIn</th>\n",
       "      <th>TaxiOut</th>\n",
       "    </tr>\n",
       "  </thead>\n",
       "  <tbody>\n",
       "    <tr>\n",
       "      <th>count</th>\n",
       "      <td>303230.000000</td>\n",
       "      <td>303230.000000</td>\n",
       "      <td>303230.000000</td>\n",
       "      <td>303230.000000</td>\n",
       "      <td>303230.000000</td>\n",
       "      <td>303230.000000</td>\n",
       "      <td>303230.000000</td>\n",
       "      <td>303230.000000</td>\n",
       "      <td>303230.000000</td>\n",
       "      <td>303230.000000</td>\n",
       "      <td>303230.000000</td>\n",
       "      <td>303230.000000</td>\n",
       "      <td>303230.000000</td>\n",
       "      <td>303230.000000</td>\n",
       "      <td>303230.000000</td>\n",
       "    </tr>\n",
       "    <tr>\n",
       "      <th>mean</th>\n",
       "      <td>2.514062</td>\n",
       "      <td>15.718244</td>\n",
       "      <td>3.916562</td>\n",
       "      <td>1338.774505</td>\n",
       "      <td>1328.131029</td>\n",
       "      <td>1483.756277</td>\n",
       "      <td>1492.846367</td>\n",
       "      <td>127.817838</td>\n",
       "      <td>128.965759</td>\n",
       "      <td>104.552739</td>\n",
       "      <td>9.933621</td>\n",
       "      <td>11.081559</td>\n",
       "      <td>724.587580</td>\n",
       "      <td>6.712486</td>\n",
       "      <td>16.552614</td>\n",
       "    </tr>\n",
       "    <tr>\n",
       "      <th>std</th>\n",
       "      <td>1.124061</td>\n",
       "      <td>8.744452</td>\n",
       "      <td>1.982571</td>\n",
       "      <td>480.701120</td>\n",
       "      <td>466.692847</td>\n",
       "      <td>507.927012</td>\n",
       "      <td>485.700709</td>\n",
       "      <td>70.357852</td>\n",
       "      <td>69.968017</td>\n",
       "      <td>67.692362</td>\n",
       "      <td>38.521082</td>\n",
       "      <td>35.243483</td>\n",
       "      <td>559.104692</td>\n",
       "      <td>4.663170</td>\n",
       "      <td>10.953706</td>\n",
       "    </tr>\n",
       "    <tr>\n",
       "      <th>min</th>\n",
       "      <td>1.000000</td>\n",
       "      <td>1.000000</td>\n",
       "      <td>1.000000</td>\n",
       "      <td>1.000000</td>\n",
       "      <td>1.000000</td>\n",
       "      <td>1.000000</td>\n",
       "      <td>1.000000</td>\n",
       "      <td>15.000000</td>\n",
       "      <td>19.000000</td>\n",
       "      <td>0.000000</td>\n",
       "      <td>-90.000000</td>\n",
       "      <td>-79.000000</td>\n",
       "      <td>31.000000</td>\n",
       "      <td>0.000000</td>\n",
       "      <td>0.000000</td>\n",
       "    </tr>\n",
       "    <tr>\n",
       "      <th>25%</th>\n",
       "      <td>1.000000</td>\n",
       "      <td>8.000000</td>\n",
       "      <td>2.000000</td>\n",
       "      <td>929.000000</td>\n",
       "      <td>925.000000</td>\n",
       "      <td>1107.000000</td>\n",
       "      <td>1112.000000</td>\n",
       "      <td>77.000000</td>\n",
       "      <td>79.000000</td>\n",
       "      <td>56.000000</td>\n",
       "      <td>-9.000000</td>\n",
       "      <td>-4.000000</td>\n",
       "      <td>325.000000</td>\n",
       "      <td>4.000000</td>\n",
       "      <td>10.000000</td>\n",
       "    </tr>\n",
       "    <tr>\n",
       "      <th>50%</th>\n",
       "      <td>3.000000</td>\n",
       "      <td>16.000000</td>\n",
       "      <td>4.000000</td>\n",
       "      <td>1329.000000</td>\n",
       "      <td>1320.000000</td>\n",
       "      <td>1514.000000</td>\n",
       "      <td>1515.000000</td>\n",
       "      <td>110.000000</td>\n",
       "      <td>110.000000</td>\n",
       "      <td>86.000000</td>\n",
       "      <td>0.000000</td>\n",
       "      <td>0.000000</td>\n",
       "      <td>581.000000</td>\n",
       "      <td>6.000000</td>\n",
       "      <td>14.000000</td>\n",
       "    </tr>\n",
       "    <tr>\n",
       "      <th>75%</th>\n",
       "      <td>4.000000</td>\n",
       "      <td>23.000000</td>\n",
       "      <td>6.000000</td>\n",
       "      <td>1734.000000</td>\n",
       "      <td>1720.000000</td>\n",
       "      <td>1913.000000</td>\n",
       "      <td>1909.000000</td>\n",
       "      <td>158.000000</td>\n",
       "      <td>160.000000</td>\n",
       "      <td>133.000000</td>\n",
       "      <td>14.000000</td>\n",
       "      <td>10.000000</td>\n",
       "      <td>954.000000</td>\n",
       "      <td>8.000000</td>\n",
       "      <td>19.000000</td>\n",
       "    </tr>\n",
       "    <tr>\n",
       "      <th>max</th>\n",
       "      <td>4.000000</td>\n",
       "      <td>31.000000</td>\n",
       "      <td>7.000000</td>\n",
       "      <td>2400.000000</td>\n",
       "      <td>2359.000000</td>\n",
       "      <td>2400.000000</td>\n",
       "      <td>2359.000000</td>\n",
       "      <td>686.000000</td>\n",
       "      <td>660.000000</td>\n",
       "      <td>658.000000</td>\n",
       "      <td>1211.000000</td>\n",
       "      <td>1198.000000</td>\n",
       "      <td>4962.000000</td>\n",
       "      <td>175.000000</td>\n",
       "      <td>379.000000</td>\n",
       "    </tr>\n",
       "  </tbody>\n",
       "</table>\n",
       "</div>"
      ],
      "text/plain": [
       "               Month     DayofMonth      DayOfWeek        DepTime  \\\n",
       "count  303230.000000  303230.000000  303230.000000  303230.000000   \n",
       "mean        2.514062      15.718244       3.916562    1338.774505   \n",
       "std         1.124061       8.744452       1.982571     480.701120   \n",
       "min         1.000000       1.000000       1.000000       1.000000   \n",
       "25%         1.000000       8.000000       2.000000     929.000000   \n",
       "50%         3.000000      16.000000       4.000000    1329.000000   \n",
       "75%         4.000000      23.000000       6.000000    1734.000000   \n",
       "max         4.000000      31.000000       7.000000    2400.000000   \n",
       "\n",
       "          CRSDepTime        ArrTime     CRSArrTime  ActualElapsedTime  \\\n",
       "count  303230.000000  303230.000000  303230.000000      303230.000000   \n",
       "mean     1328.131029    1483.756277    1492.846367         127.817838   \n",
       "std       466.692847     507.927012     485.700709          70.357852   \n",
       "min         1.000000       1.000000       1.000000          15.000000   \n",
       "25%       925.000000    1107.000000    1112.000000          77.000000   \n",
       "50%      1320.000000    1514.000000    1515.000000         110.000000   \n",
       "75%      1720.000000    1913.000000    1909.000000         158.000000   \n",
       "max      2359.000000    2400.000000    2359.000000         686.000000   \n",
       "\n",
       "       CRSElapsedTime        AirTime       ArrDelay       DepDelay  \\\n",
       "count   303230.000000  303230.000000  303230.000000  303230.000000   \n",
       "mean       128.965759     104.552739       9.933621      11.081559   \n",
       "std         69.968017      67.692362      38.521082      35.243483   \n",
       "min         19.000000       0.000000     -90.000000     -79.000000   \n",
       "25%         79.000000      56.000000      -9.000000      -4.000000   \n",
       "50%        110.000000      86.000000       0.000000       0.000000   \n",
       "75%        160.000000     133.000000      14.000000      10.000000   \n",
       "max        660.000000     658.000000    1211.000000    1198.000000   \n",
       "\n",
       "            Distance         TaxiIn        TaxiOut  \n",
       "count  303230.000000  303230.000000  303230.000000  \n",
       "mean      724.587580       6.712486      16.552614  \n",
       "std       559.104692       4.663170      10.953706  \n",
       "min        31.000000       0.000000       0.000000  \n",
       "25%       325.000000       4.000000      10.000000  \n",
       "50%       581.000000       6.000000      14.000000  \n",
       "75%       954.000000       8.000000      19.000000  \n",
       "max      4962.000000     175.000000     379.000000  "
      ]
     },
     "execution_count": 26,
     "metadata": {},
     "output_type": "execute_result"
    }
   ],
   "source": [
    "DataNew.describe()"
   ]
  },
  {
   "cell_type": "code",
   "execution_count": 27,
   "metadata": {
    "scrolled": true
   },
   "outputs": [
    {
     "data": {
      "text/plain": [
       "<AxesSubplot:xlabel='DepTime', ylabel='Count'>"
      ]
     },
     "execution_count": 27,
     "metadata": {},
     "output_type": "execute_result"
    },
    {
     "data": {
      "image/png": "[encoded data removed]",
      "text/plain": [
       "<Figure size 1080x360 with 1 Axes>"
      ]
     },
     "metadata": {
      "needs_background": "light"
     },
     "output_type": "display_data"
    }
   ],
   "source": [
    "f = plt.figure(figsize = (15,5))\n",
    "sns.histplot(data = DataNew['DepTime'],kde = True)"
   ]
  },
  {
   "cell_type": "markdown",
   "metadata": {},
   "source": [
    "The flights is little from 0am to 5am. "
   ]
  },
  {
   "cell_type": "code",
   "execution_count": 28,
   "metadata": {},
   "outputs": [
    {
     "data": {
      "text/plain": [
       "<AxesSubplot:xlabel='ActualElapsedTime', ylabel='Count'>"
      ]
     },
     "execution_count": 28,
     "metadata": {},
     "output_type": "execute_result"
    },
    {
     "data": {
      "image/png": "[encoded data removed]",
      "text/plain": [
       "<Figure size 1080x360 with 1 Axes>"
      ]
     },
     "metadata": {
      "needs_background": "light"
     },
     "output_type": "display_data"
    }
   ],
   "source": [
    "f = plt.figure(figsize = (15,5))\n",
    "sns.histplot(data = DataNew['ActualElapsedTime'], kde = True)"
   ]
  },
  {
   "cell_type": "code",
   "execution_count": 29,
   "metadata": {},
   "outputs": [
    {
     "data": {
      "text/plain": [
       "<AxesSubplot:xlabel='ArrTime', ylabel='Count'>"
      ]
     },
     "execution_count": 29,
     "metadata": {},
     "output_type": "execute_result"
    },
    {
     "data": {
      "image/png": "[encoded data removed]",
      "text/plain": [
       "<Figure size 1080x360 with 1 Axes>"
      ]
     },
     "metadata": {
      "needs_background": "light"
     },
     "output_type": "display_data"
    }
   ],
   "source": [
    "f = plt.figure(figsize = (15,5))\n",
    "sns.histplot(data = DataNew['ArrTime'],kde = True)"
   ]
  },
  {
   "cell_type": "code",
   "execution_count": 30,
   "metadata": {},
   "outputs": [
    {
     "data": {
      "text/plain": [
       "<AxesSubplot:xlabel='Distance', ylabel='Count'>"
      ]
     },
     "execution_count": 30,
     "metadata": {},
     "output_type": "execute_result"
    },
    {
     "data": {
      "image/png": "[encoded data removed]",
      "text/plain": [
       "<Figure size 1080x360 with 1 Axes>"
      ]
     },
     "metadata": {
      "needs_background": "light"
     },
     "output_type": "display_data"
    }
   ],
   "source": [
    "f = plt.figure(figsize = (15,5))\n",
    "sns.histplot(data = DataNew['Distance'], kde = True)"
   ]
  },
  {
   "cell_type": "markdown",
   "metadata": {},
   "source": [
    "The 'Distance' is mainly less than 1000 mile"
   ]
  },
  {
   "cell_type": "code",
   "execution_count": 31,
   "metadata": {},
   "outputs": [],
   "source": [
    "df1 = DataNew.drop(columns = [ 'DepTime', 'ArrTime', 'ActualElapsedTime', 'AirTime', 'DepDelay', 'TaxiIn', 'TaxiOut', 'status'])"
   ]
  },
  {
   "cell_type": "markdown",
   "metadata": {},
   "source": [
    "### Detecting outliers"
   ]
  },
  {
   "cell_type": "markdown",
   "metadata": {},
   "source": [
    "#### Distance"
   ]
  },
  {
   "cell_type": "code",
   "execution_count": 32,
   "metadata": {},
   "outputs": [
    {
     "name": "stdout",
     "output_type": "stream",
     "text": [
      "Number of outliers: 16106\n",
      "5.311479734854731%\n"
     ]
    }
   ],
   "source": [
    "q1,q3 = df1['Distance'].quantile(0.25), df1['Distance'].quantile(0.75)\n",
    "IQR = q3 - q1\n",
    "lower = q1 - 1.5*IQR\n",
    "upper = q3 + 1.5*IQR\n",
    "print('Number of outliers: {}'.format( df1[ (df1['Distance']< lower) | (df1['Distance'] > upper) ].shape[0]) )\n",
    "print('{}%'.format( round( df1[ (df1['Distance']< lower) | (df1['Distance'] > upper) ].shape[0] )/ (df1.shape[0]) * 100 ))"
   ]
  },
  {
   "cell_type": "code",
   "execution_count": 33,
   "metadata": {},
   "outputs": [],
   "source": [
    "df1 = df1[ (df1['Distance'] > lower) & (df1['Distance'] < upper)]"
   ]
  },
  {
   "cell_type": "code",
   "execution_count": 34,
   "metadata": {},
   "outputs": [
    {
     "data": {
      "text/plain": [
       "(287124, 17)"
      ]
     },
     "execution_count": 34,
     "metadata": {},
     "output_type": "execute_result"
    }
   ],
   "source": [
    "df1.shape"
   ]
  },
  {
   "cell_type": "markdown",
   "metadata": {},
   "source": [
    "### Multivariable analysis:"
   ]
  },
  {
   "cell_type": "code",
   "execution_count": 35,
   "metadata": {},
   "outputs": [
    {
     "data": {
      "text/plain": [
       "<AxesSubplot:xlabel='ArrDelay', ylabel='Count'>"
      ]
     },
     "execution_count": 35,
     "metadata": {},
     "output_type": "execute_result"
    },
    {
     "data": {
      "image/png": "[encoded data removed]",
      "text/plain": [
       "<Figure size 1080x360 with 1 Axes>"
      ]
     },
     "metadata": {
      "needs_background": "light"
     },
     "output_type": "display_data"
    }
   ],
   "source": [
    "f = plt.figure(figsize = (15,5))\n",
    "sns.histplot(data = df1['ArrDelay'])"
   ]
  },
  {
   "cell_type": "markdown",
   "metadata": {},
   "source": [
    "The ArrDelay value is flow the normal distribution. The flights delay focus at from 11pm to 1am."
   ]
  },
  {
   "cell_type": "code",
   "execution_count": 36,
   "metadata": {},
   "outputs": [],
   "source": [
    "df1['is_delay'] = df1.ArrDelay.apply(lambda x: 1 if x > 30 else 0)\n",
    "df1.drop(columns = ['ArrDelay'], inplace = True)"
   ]
  },
  {
   "cell_type": "code",
   "execution_count": 37,
   "metadata": {},
   "outputs": [
    {
     "data": {
      "text/plain": [
       "0    245173\n",
       "1     41951\n",
       "Name: is_delay, dtype: int64"
      ]
     },
     "execution_count": 37,
     "metadata": {},
     "output_type": "execute_result"
    }
   ],
   "source": [
    "df1['is_delay'].value_counts()"
   ]
  },
  {
   "cell_type": "code",
   "execution_count": 38,
   "metadata": {},
   "outputs": [
    {
     "name": "stderr",
     "output_type": "stream",
     "text": [
      "D:\\Software\\anaconda3\\lib\\site-packages\\seaborn\\_decorators.py:36: FutureWarning: Pass the following variable as a keyword arg: x. From version 0.12, the only valid positional argument will be `data`, and passing other arguments without an explicit keyword will result in an error or misinterpretation.\n",
      "  warnings.warn(\n"
     ]
    },
    {
     "data": {
      "text/plain": [
       "<AxesSubplot:xlabel='is_delay', ylabel='count'>"
      ]
     },
     "execution_count": 38,
     "metadata": {},
     "output_type": "execute_result"
    },
    {
     "data": {
      "image/png": "[encoded data removed]",
      "text/plain": [
       "<Figure size 1080x360 with 1 Axes>"
      ]
     },
     "metadata": {
      "needs_background": "light"
     },
     "output_type": "display_data"
    }
   ],
   "source": [
    "f = plt.figure(figsize = (15,5))\n",
    "sns.countplot(df1.is_delay)"
   ]
  },
  {
   "cell_type": "markdown",
   "metadata": {},
   "source": [
    "The feature is_delay is imbalance "
   ]
  },
  {
   "cell_type": "markdown",
   "metadata": {},
   "source": [
    "#### Month"
   ]
  },
  {
   "cell_type": "code",
   "execution_count": 39,
   "metadata": {},
   "outputs": [],
   "source": [
    "monthDelay = df1[['Month', 'is_delay']].groupby('Month').agg(['count', 'sum']).droplevel(axis = 1, level = 0).reset_index().rename(columns = {'sum': 'Sum', 'count': 'Count'})\n",
    "monthDelay['late ratio'] = monthDelay['Sum']/monthDelay['Count']"
   ]
  },
  {
   "cell_type": "code",
   "execution_count": 40,
   "metadata": {},
   "outputs": [
    {
     "data": {
      "text/plain": [
       "<function matplotlib.pyplot.show(close=None, block=None)>"
      ]
     },
     "execution_count": 40,
     "metadata": {},
     "output_type": "execute_result"
    },
    {
     "data": {
      "image/png": "[encoded data removed]",
      "text/plain": [
       "<Figure size 1080x360 with 2 Axes>"
      ]
     },
     "metadata": {
      "needs_background": "light"
     },
     "output_type": "display_data"
    }
   ],
   "source": [
    "f, ax1 = plt.subplots(figsize = (15,5))\n",
    "ax1.set_title('The number of flights of month and late ratio flight  of month', fontsize = 16)\n",
    "ax1.set_xlabel('Month', fontsize = 16)\n",
    "ax1.set_ylabel('Count', fontsize = 16)\n",
    "ax1 = sns.barplot(x = 'Month', y = 'Count',data = monthDelay, palette = 'mako')\n",
    "ax1.tick_params(axis = 'y')\n",
    "\n",
    "ax2 = ax1.twinx()\n",
    "color = 'tab:red'\n",
    "ax2.set_ylabel('Late ratio', fontsize = 16, color = color)\n",
    "ax2 = sns.pointplot(x = 'Month', y = 'late ratio', data = monthDelay, color = color)\n",
    "ax2.set(ylim =(0, 0.3))\n",
    "ax2.tick_params(axis = 'y', color = color)\n",
    "\n",
    "f.tight_layout()\n",
    "plt.show"
   ]
  },
  {
   "cell_type": "markdown",
   "metadata": {},
   "source": [
    "#### Day of Month"
   ]
  },
  {
   "cell_type": "code",
   "execution_count": 41,
   "metadata": {},
   "outputs": [],
   "source": [
    "dom = df1[['DayofMonth', 'is_delay']].groupby('DayofMonth').agg(['count', 'sum']).droplevel(axis = 1, level = 0).reset_index().rename(columns = {'sum': 'Sum', 'count': 'Count'})\n",
    "dom['late ratio'] = dom['Sum']/dom['Count']"
   ]
  },
  {
   "cell_type": "code",
   "execution_count": 42,
   "metadata": {},
   "outputs": [
    {
     "data": {
      "text/plain": [
       "<function matplotlib.pyplot.show(close=None, block=None)>"
      ]
     },
     "execution_count": 42,
     "metadata": {},
     "output_type": "execute_result"
    },
    {
     "data": {
      "image/png": "[encoded data removed]",
      "text/plain": [
       "<Figure size 1080x360 with 2 Axes>"
      ]
     },
     "metadata": {
      "needs_background": "light"
     },
     "output_type": "display_data"
    }
   ],
   "source": [
    "f, ax1 = plt.subplots(figsize = (15,5))\n",
    "ax1.set_title('The number of flight on day of month and late ratio flight', fontsize = 16)\n",
    "ax1.set_xlabel('Day of Month', fontsize = 16)\n",
    "ax1.set_ylabel('Count', fontsize = 16)\n",
    "ax1 = sns.barplot(x = 'DayofMonth', y = 'Count',data = dom, palette = 'mako')\n",
    "ax1.tick_params(axis = 'y')\n",
    "\n",
    "ax2 = ax1.twinx()\n",
    "color = 'tab:red'\n",
    "ax2.set_ylabel('Late ratio', fontsize = 16, color = color)\n",
    "ax2 = sns.pointplot(x = 'DayofMonth', y = 'late ratio', data = dom, color = color)\n",
    "ax2.set(ylim =(0, 0.3))\n",
    "ax2.tick_params(axis = 'y', color = color)\n",
    "\n",
    "f.tight_layout()\n",
    "plt.show"
   ]
  },
  {
   "cell_type": "markdown",
   "metadata": {},
   "source": [
    "The number of flight on day is normal distribution. However, the number of flight on month end is significantly reduced"
   ]
  },
  {
   "cell_type": "markdown",
   "metadata": {},
   "source": [
    "The flight late ratio on day is a pretty big diffrence. Especially, the flight late ratio on date 31 is tallest"
   ]
  },
  {
   "cell_type": "markdown",
   "metadata": {},
   "source": [
    "#### Day of week"
   ]
  },
  {
   "cell_type": "code",
   "execution_count": 43,
   "metadata": {},
   "outputs": [],
   "source": [
    "dow = df1[['DayOfWeek', 'is_delay']].groupby('DayOfWeek').agg(['count', 'sum']).droplevel(axis = 1, level = 0).reset_index().rename(columns = {'sum': 'Sum', 'count': 'Count'})\n",
    "dow['late ratio'] = dow['Sum']/dow['Count']"
   ]
  },
  {
   "cell_type": "code",
   "execution_count": 44,
   "metadata": {},
   "outputs": [
    {
     "data": {
      "text/plain": [
       "<function matplotlib.pyplot.show(close=None, block=None)>"
      ]
     },
     "execution_count": 44,
     "metadata": {},
     "output_type": "execute_result"
    },
    {
     "data": {
      "image/png": "[encoded data removed]",
      "text/plain": [
       "<Figure size 1080x360 with 2 Axes>"
      ]
     },
     "metadata": {
      "needs_background": "light"
     },
     "output_type": "display_data"
    }
   ],
   "source": [
    "f, ax1 = plt.subplots(figsize = (15,5))\n",
    "ax1.set_title('The number  flights on days of month and late ratio flight', fontsize = 16)\n",
    "ax1.set_xlabel('Day of week', fontsize = 16)\n",
    "ax1.set_ylabel('Count', fontsize = 16)\n",
    "ax1 = sns.barplot(x = 'DayOfWeek', y = 'Count',data = dow, palette = 'mako')\n",
    "ax1.tick_params(axis = 'y')\n",
    "\n",
    "ax2 = ax1.twinx()\n",
    "color = 'tab:red'\n",
    "ax2.set_ylabel('Late ratio', fontsize = 16, color = color)\n",
    "ax2 = sns.pointplot(x = 'DayOfWeek', y = 'late ratio', data = dow, color = color)\n",
    "ax2.set(ylim =(0, 0.3))\n",
    "ax2.tick_params(axis = 'y', color = color)\n",
    "\n",
    "f.tight_layout()\n",
    "plt.show"
   ]
  },
  {
   "cell_type": "markdown",
   "metadata": {},
   "source": [
    "Based on graph, the flights in the dataset is normal distribution on weekday. The number of flight on saturday is least."
   ]
  },
  {
   "cell_type": "markdown",
   "metadata": {},
   "source": [
    "The flight late ratio on day of week is not much difference"
   ]
  },
  {
   "cell_type": "markdown",
   "metadata": {},
   "source": [
    "#### Unique Carrier"
   ]
  },
  {
   "cell_type": "code",
   "execution_count": 45,
   "metadata": {},
   "outputs": [],
   "source": [
    "uc = df1[['UniqueCarrier', 'is_delay']].groupby('UniqueCarrier').agg(['count', 'sum']).droplevel(axis = 1, level = 0).reset_index().rename(columns = {'sum': 'Sum', 'count': 'Count'})\n",
    "uc['late ratio'] = uc['Sum']/uc['Count']"
   ]
  },
  {
   "cell_type": "code",
   "execution_count": 46,
   "metadata": {},
   "outputs": [
    {
     "data": {
      "text/plain": [
       "<function matplotlib.pyplot.show(close=None, block=None)>"
      ]
     },
     "execution_count": 46,
     "metadata": {},
     "output_type": "execute_result"
    },
    {
     "data": {
      "image/png": "[encoded data removed]",
      "text/plain": [
       "<Figure size 1080x360 with 2 Axes>"
      ]
     },
     "metadata": {
      "needs_background": "light"
     },
     "output_type": "display_data"
    }
   ],
   "source": [
    "f, ax1 = plt.subplots(figsize = (15,5))\n",
    "ax1.set_title('The number  flights on Unique Carrier and late ratio flight', fontsize = 16)\n",
    "ax1.set_xlabel('Unique Carrier', fontsize = 16)\n",
    "ax1.set_ylabel('Count', fontsize = 16)\n",
    "ax1 = sns.barplot(x = 'UniqueCarrier', y = 'Count',data = uc, palette = 'mako')\n",
    "ax1.tick_params(axis = 'y')\n",
    "\n",
    "ax2 = ax1.twinx()\n",
    "color = 'tab:red'\n",
    "ax2.set_ylabel('Late ratio', fontsize = 16, color = color)\n",
    "ax2 = sns.pointplot(x = 'UniqueCarrier', y = 'late ratio', data = uc, color = color)\n",
    "ax2.set(ylim =(0, 0.3))\n",
    "ax2.tick_params(axis = 'y', color = color)\n",
    "\n",
    "f.tight_layout()\n",
    "plt.show"
   ]
  },
  {
   "cell_type": "markdown",
   "metadata": {},
   "source": [
    "The number of flight is uneven distribution among airline. "
   ]
  },
  {
   "cell_type": "code",
   "execution_count": 47,
   "metadata": {},
   "outputs": [
    {
     "data": {
      "text/plain": [
       "<AxesSubplot:>"
      ]
     },
     "execution_count": 47,
     "metadata": {},
     "output_type": "execute_result"
    },
    {
     "data": {
      "image/png": "[encoded data removed]",
      "text/plain": [
       "<Figure size 792x360 with 2 Axes>"
      ]
     },
     "metadata": {
      "needs_background": "light"
     },
     "output_type": "display_data"
    }
   ],
   "source": [
    "correlation = df1.corr()\n",
    "plt.figure(figsize = (11,5))\n",
    "sns.heatmap(correlation, xticklabels = correlation.columns, yticklabels = correlation.columns, annot = True, cmap = 'summer')"
   ]
  },
  {
   "cell_type": "markdown",
   "metadata": {},
   "source": [
    "Correlation among Distance and CRSElapsedTime is 0.97. We are remove CRSElapsedTime"
   ]
  },
  {
   "cell_type": "code",
   "execution_count": 48,
   "metadata": {},
   "outputs": [
    {
     "name": "stdout",
     "output_type": "stream",
     "text": [
      "<class 'pandas.core.frame.DataFrame'>\n",
      "Int64Index: 287124 entries, 0 to 322538\n",
      "Data columns (total 13 columns):\n",
      " #   Column         Non-Null Count   Dtype \n",
      "---  ------         --------------   ----- \n",
      " 0   Month          287124 non-null  int64 \n",
      " 1   DayofMonth     287124 non-null  int64 \n",
      " 2   DayOfWeek      287124 non-null  int64 \n",
      " 3   CRSArrTime     287124 non-null  int64 \n",
      " 4   UniqueCarrier  287124 non-null  object\n",
      " 5   Origin         287124 non-null  object\n",
      " 6   Dest           287124 non-null  object\n",
      " 7   Distance       287124 non-null  int64 \n",
      " 8   type           287124 non-null  object\n",
      " 9   manufacturer   287124 non-null  object\n",
      " 10  model          287124 non-null  object\n",
      " 11  year           287124 non-null  object\n",
      " 12  is_delay       287124 non-null  int64 \n",
      "dtypes: int64(6), object(7)\n",
      "memory usage: 40.7+ MB\n"
     ]
    }
   ],
   "source": [
    "df = df1.drop(columns= ['CRSElapsedTime', 'aircraft_type','engine_type','CRSDepTime' ])\n",
    "df.info()"
   ]
  },
  {
   "cell_type": "code",
   "execution_count": 51,
   "metadata": {
    "scrolled": false
   },
   "outputs": [],
   "source": [
    "# apply onehotEncoder\n",
    "data = pd.get_dummies(df, columns = ['year', 'Origin' ,'Dest', 'model', 'type',\n",
    "                                            'manufacturer', 'UniqueCarrier'], drop_first = True)\n",
    "\n",
    "# split train test\n",
    "y = data['is_delay']\n",
    "X = data.drop(columns = ['is_delay'])\n",
    "\n",
    "#standardize data\n",
    "scaler = MinMaxScaler()\n",
    "scaler.fit(X)\n",
    "X = scaler.transform(X)\n",
    "\n",
    "X_train, X_test , y_train, y_test = train_test_split(X, y, test_size = 0.2)"
   ]
  },
  {
   "cell_type": "code",
   "execution_count": 52,
   "metadata": {},
   "outputs": [
    {
     "data": {
      "text/plain": [
       "(229699, 833)"
      ]
     },
     "execution_count": 52,
     "metadata": {},
     "output_type": "execute_result"
    }
   ],
   "source": [
    "X_train.shape"
   ]
  },
  {
   "cell_type": "code",
   "execution_count": 53,
   "metadata": {},
   "outputs": [],
   "source": [
    "#Naive Bayes\n",
    "nb = GaussianNB()\n",
    "\n",
    "#Logistic Regresion\n",
    "lr = LogisticRegression()\n",
    "\n",
    "#Dicision Tree\n",
    "dt = DecisionTreeClassifier(criterion='entropy')\n",
    "\n",
    "#Random Forest\n",
    "rf = RandomForestClassifier()\n",
    "\n",
    "#Gradient Boosting\n",
    "gb = GradientBoostingClassifier(random_state = 1)\n",
    "\n",
    "#SVM\n",
    "svm = SVC()"
   ]
  },
  {
   "cell_type": "markdown",
   "metadata": {},
   "source": [
    "### Apply the model for prediction with holdout"
   ]
  },
  {
   "cell_type": "markdown",
   "metadata": {},
   "source": [
    "#### Naive Bayes"
   ]
  },
  {
   "cell_type": "code",
   "execution_count": 54,
   "metadata": {},
   "outputs": [],
   "source": [
    "nb.fit(X_train, y_train)\n",
    "\n",
    "y_prednb = nb.predict(X_test)"
   ]
  },
  {
   "cell_type": "code",
   "execution_count": 56,
   "metadata": {},
   "outputs": [
    {
     "name": "stdout",
     "output_type": "stream",
     "text": [
      "              precision    recall  f1-score   support\n",
      "\n",
      "           0       0.91      0.07      0.14     48988\n",
      "           1       0.15      0.95      0.26      8437\n",
      "\n",
      "    accuracy                           0.20     57425\n",
      "   macro avg       0.53      0.51      0.20     57425\n",
      "weighted avg       0.79      0.20      0.16     57425\n",
      "\n"
     ]
    }
   ],
   "source": [
    "print(classification_report(y_test, y_prednb))"
   ]
  },
  {
   "cell_type": "code",
   "execution_count": 61,
   "metadata": {},
   "outputs": [
    {
     "data": {
      "image/png": "[encoded data removed]",
      "text/plain": [
       "<Figure size 432x288 with 2 Axes>"
      ]
     },
     "metadata": {
      "needs_background": "light"
     },
     "output_type": "display_data"
    }
   ],
   "source": [
    "plot_confusion_matrix(nb, X_test, y_test)  \n",
    "plt.show()"
   ]
  },
  {
   "cell_type": "markdown",
   "metadata": {},
   "source": [
    "#### Logictic Regresion"
   ]
  },
  {
   "cell_type": "code",
   "execution_count": 57,
   "metadata": {},
   "outputs": [
    {
     "name": "stdout",
     "output_type": "stream",
     "text": [
      "              precision    recall  f1-score   support\n",
      "\n",
      "           0       0.85      1.00      0.92     48988\n",
      "           1       0.53      0.00      0.01      8437\n",
      "\n",
      "    accuracy                           0.85     57425\n",
      "   macro avg       0.69      0.50      0.47     57425\n",
      "weighted avg       0.81      0.85      0.79     57425\n",
      "\n"
     ]
    },
    {
     "name": "stderr",
     "output_type": "stream",
     "text": [
      "D:\\Software\\anaconda3\\lib\\site-packages\\sklearn\\linear_model\\_logistic.py:762: ConvergenceWarning: lbfgs failed to converge (status=1):\n",
      "STOP: TOTAL NO. of ITERATIONS REACHED LIMIT.\n",
      "\n",
      "Increase the number of iterations (max_iter) or scale the data as shown in:\n",
      "    https://scikit-learn.org/stable/modules/preprocessing.html\n",
      "Please also refer to the documentation for alternative solver options:\n",
      "    https://scikit-learn.org/stable/modules/linear_model.html#logistic-regression\n",
      "  n_iter_i = _check_optimize_result(\n"
     ]
    }
   ],
   "source": [
    "lr.fit(X_train, y_train)\n",
    "y_predlr = lr.predict(X_test)\n",
    "\n",
    "print(classification_report(y_test, y_predlr))"
   ]
  },
  {
   "cell_type": "code",
   "execution_count": 63,
   "metadata": {},
   "outputs": [
    {
     "data": {
      "image/png": "[encoded data removed]",
      "text/plain": [
       "<Figure size 432x288 with 2 Axes>"
      ]
     },
     "metadata": {
      "needs_background": "light"
     },
     "output_type": "display_data"
    }
   ],
   "source": [
    "plot_confusion_matrix(lr, X_test, y_test)  \n",
    "plt.show()"
   ]
  },
  {
   "cell_type": "markdown",
   "metadata": {},
   "source": [
    "#### Decision Tree"
   ]
  },
  {
   "cell_type": "code",
   "execution_count": 58,
   "metadata": {},
   "outputs": [
    {
     "name": "stdout",
     "output_type": "stream",
     "text": [
      "              precision    recall  f1-score   support\n",
      "\n",
      "           0       0.88      0.88      0.88     48988\n",
      "           1       0.33      0.32      0.32      8437\n",
      "\n",
      "    accuracy                           0.80     57425\n",
      "   macro avg       0.60      0.60      0.60     57425\n",
      "weighted avg       0.80      0.80      0.80     57425\n",
      "\n"
     ]
    }
   ],
   "source": [
    "dt.fit(X_train, y_train)\n",
    "y_preddt = dt.predict(X_test)\n",
    "\n",
    "print(classification_report(y_test, y_preddt))"
   ]
  },
  {
   "cell_type": "code",
   "execution_count": 64,
   "metadata": {},
   "outputs": [
    {
     "data": {
      "image/png": "[encoded data removed]",
      "text/plain": [
       "<Figure size 432x288 with 2 Axes>"
      ]
     },
     "metadata": {
      "needs_background": "light"
     },
     "output_type": "display_data"
    }
   ],
   "source": [
    "plot_confusion_matrix(dt, X_test, y_test)  \n",
    "plt.show()"
   ]
  },
  {
   "cell_type": "markdown",
   "metadata": {},
   "source": [
    "#### Random Forest Classifier"
   ]
  },
  {
   "cell_type": "code",
   "execution_count": 59,
   "metadata": {},
   "outputs": [
    {
     "name": "stdout",
     "output_type": "stream",
     "text": [
      "              precision    recall  f1-score   support\n",
      "\n",
      "           0       0.86      0.99      0.92     48988\n",
      "           1       0.53      0.06      0.12      8437\n",
      "\n",
      "    accuracy                           0.85     57425\n",
      "   macro avg       0.69      0.53      0.52     57425\n",
      "weighted avg       0.81      0.85      0.80     57425\n",
      "\n"
     ]
    }
   ],
   "source": [
    "rf.fit(X_train, y_train)\n",
    "y_predrf = rf.predict(X_test)\n",
    "\n",
    "print(classification_report(y_test, y_predrf))"
   ]
  },
  {
   "cell_type": "code",
   "execution_count": 65,
   "metadata": {},
   "outputs": [
    {
     "data": {
      "image/png": "[encoded data removed]",
      "text/plain": [
       "<Figure size 432x288 with 2 Axes>"
      ]
     },
     "metadata": {
      "needs_background": "light"
     },
     "output_type": "display_data"
    }
   ],
   "source": [
    "plot_confusion_matrix(rf, X_test, y_test)  \n",
    "plt.show()"
   ]
  },
  {
   "cell_type": "markdown",
   "metadata": {},
   "source": [
    "#### Support Vector Machine"
   ]
  },
  {
   "cell_type": "code",
   "execution_count": null,
   "metadata": {},
   "outputs": [],
   "source": [
    "# svm.fit(X_trainohe, y_testohe)\n",
    "# y_predsvm = svm.predict(X_testohe)\n",
    "\n",
    "# print(classification_report(y_testohe, y_predsvm))"
   ]
  },
  {
   "cell_type": "markdown",
   "metadata": {},
   "source": [
    "#### Gradient Boosting"
   ]
  },
  {
   "cell_type": "code",
   "execution_count": 66,
   "metadata": {},
   "outputs": [
    {
     "name": "stdout",
     "output_type": "stream",
     "text": [
      "              precision    recall  f1-score   support\n",
      "\n",
      "           0       0.85      1.00      0.92     48988\n",
      "           1       0.69      0.01      0.02      8437\n",
      "\n",
      "    accuracy                           0.85     57425\n",
      "   macro avg       0.77      0.51      0.47     57425\n",
      "weighted avg       0.83      0.85      0.79     57425\n",
      "\n"
     ]
    }
   ],
   "source": [
    "gb.fit(X_train, y_train)\n",
    "y_predgb = gb.predict(X_test)\n",
    "\n",
    "print(classification_report(y_test, y_predgb))"
   ]
  },
  {
   "cell_type": "code",
   "execution_count": 67,
   "metadata": {},
   "outputs": [
    {
     "data": {
      "image/png": "[encoded data removed]",
      "text/plain": [
       "<Figure size 432x288 with 2 Axes>"
      ]
     },
     "metadata": {
      "needs_background": "light"
     },
     "output_type": "display_data"
    }
   ],
   "source": [
    "plot_confusion_matrix(gb, X_test, y_test)  \n",
    "plt.show()"
   ]
  },
  {
   "cell_type": "markdown",
   "metadata": {},
   "source": [
    "### Using PCA, apply the model for prediction with holdout"
   ]
  },
  {
   "cell_type": "code",
   "execution_count": 78,
   "metadata": {},
   "outputs": [],
   "source": [
    "pca = PCA(n_components = 100)\n",
    "pca.fit(X)\n",
    "X_pca = pca.transform(X)"
   ]
  },
  {
   "cell_type": "code",
   "execution_count": 79,
   "metadata": {},
   "outputs": [],
   "source": [
    "X_trainpca, X_testpca, y_trainpca, y_testpca = train_test_split(X_pca, y, test_size = 0.2)"
   ]
  },
  {
   "cell_type": "markdown",
   "metadata": {},
   "source": [
    "#### Naive Bayes"
   ]
  },
  {
   "cell_type": "code",
   "execution_count": 80,
   "metadata": {},
   "outputs": [
    {
     "name": "stdout",
     "output_type": "stream",
     "text": [
      "              precision    recall  f1-score   support\n",
      "\n",
      "           0       0.88      0.84      0.86     49099\n",
      "           1       0.24      0.30      0.27      8326\n",
      "\n",
      "    accuracy                           0.76     57425\n",
      "   macro avg       0.56      0.57      0.56     57425\n",
      "weighted avg       0.78      0.76      0.77     57425\n",
      "\n"
     ]
    }
   ],
   "source": [
    "nb.fit(X_trainpca, y_trainpca)\n",
    "y_prednb = nb.predict(X_testpca)\n",
    "\n",
    "print(classification_report(y_testpca, y_prednb))"
   ]
  },
  {
   "cell_type": "code",
   "execution_count": 87,
   "metadata": {},
   "outputs": [
    {
     "data": {
      "image/png": "[encoded data removed]",
      "text/plain": [
       "<Figure size 432x288 with 2 Axes>"
      ]
     },
     "metadata": {
      "needs_background": "light"
     },
     "output_type": "display_data"
    }
   ],
   "source": [
    "plot_confusion_matrix(nb, X_testpca, y_testpca)  \n",
    "plt.show()"
   ]
  },
  {
   "cell_type": "markdown",
   "metadata": {},
   "source": [
    "#### Logictic Regresion"
   ]
  },
  {
   "cell_type": "code",
   "execution_count": 82,
   "metadata": {},
   "outputs": [
    {
     "name": "stdout",
     "output_type": "stream",
     "text": [
      "              precision    recall  f1-score   support\n",
      "\n",
      "           0       0.86      1.00      0.92     49099\n",
      "           1       0.40      0.00      0.00      8326\n",
      "\n",
      "    accuracy                           0.85     57425\n",
      "   macro avg       0.63      0.50      0.46     57425\n",
      "weighted avg       0.79      0.85      0.79     57425\n",
      "\n"
     ]
    }
   ],
   "source": [
    "lr.fit(X_trainpca, y_trainpca)\n",
    "y_predlr = lr.predict(X_testpca)\n",
    "\n",
    "print(classification_report(y_testpca, y_predlr))"
   ]
  },
  {
   "cell_type": "code",
   "execution_count": 88,
   "metadata": {},
   "outputs": [
    {
     "data": {
      "image/png": "[encoded data removed]",
      "text/plain": [
       "<Figure size 432x288 with 2 Axes>"
      ]
     },
     "metadata": {
      "needs_background": "light"
     },
     "output_type": "display_data"
    }
   ],
   "source": [
    "plot_confusion_matrix(lr, X_testpca, y_testpca)  \n",
    "plt.show()"
   ]
  },
  {
   "cell_type": "markdown",
   "metadata": {},
   "source": [
    "#### Dicision Tree"
   ]
  },
  {
   "cell_type": "code",
   "execution_count": 84,
   "metadata": {},
   "outputs": [
    {
     "name": "stdout",
     "output_type": "stream",
     "text": [
      "              precision    recall  f1-score   support\n",
      "\n",
      "           0       0.87      0.86      0.87     49099\n",
      "           1       0.24      0.25      0.25      8326\n",
      "\n",
      "    accuracy                           0.77     57425\n",
      "   macro avg       0.55      0.56      0.56     57425\n",
      "weighted avg       0.78      0.77      0.78     57425\n",
      "\n"
     ]
    }
   ],
   "source": [
    "dt.fit(X_trainpca, y_trainpca)\n",
    "y_preddt = dt.predict(X_testpca)\n",
    "\n",
    "print(classification_report(y_testpca, y_preddt))"
   ]
  },
  {
   "cell_type": "code",
   "execution_count": 89,
   "metadata": {},
   "outputs": [
    {
     "data": {
      "image/png": "[encoded data removed]",
      "text/plain": [
       "<Figure size 432x288 with 2 Axes>"
      ]
     },
     "metadata": {
      "needs_background": "light"
     },
     "output_type": "display_data"
    }
   ],
   "source": [
    "plot_confusion_matrix(dt, X_testpca, y_testpca)  \n",
    "plt.show()"
   ]
  },
  {
   "cell_type": "markdown",
   "metadata": {},
   "source": [
    "#### Random Forest Classifier"
   ]
  },
  {
   "cell_type": "code",
   "execution_count": 86,
   "metadata": {},
   "outputs": [
    {
     "name": "stdout",
     "output_type": "stream",
     "text": [
      "              precision    recall  f1-score   support\n",
      "\n",
      "           0       0.86      0.97      0.91     49099\n",
      "           1       0.35      0.08      0.13      8326\n",
      "\n",
      "    accuracy                           0.84     57425\n",
      "   macro avg       0.60      0.53      0.52     57425\n",
      "weighted avg       0.79      0.84      0.80     57425\n",
      "\n"
     ]
    }
   ],
   "source": [
    "rf.fit(X_trainpca, y_trainpca)\n",
    "y_predrf = rf.predict(X_testpca)\n",
    "\n",
    "print(classification_report(y_testpca, y_predrf))"
   ]
  },
  {
   "cell_type": "code",
   "execution_count": 90,
   "metadata": {},
   "outputs": [
    {
     "data": {
      "image/png": "[encoded data removed]",
      "text/plain": [
       "<Figure size 432x288 with 2 Axes>"
      ]
     },
     "metadata": {
      "needs_background": "light"
     },
     "output_type": "display_data"
    }
   ],
   "source": [
    "plot_confusion_matrix(rf, X_testpca, y_testpca)  \n",
    "plt.show()"
   ]
  },
  {
   "cell_type": "markdown",
   "metadata": {},
   "source": [
    "#### Support Vector Machine"
   ]
  },
  {
   "cell_type": "code",
   "execution_count": null,
   "metadata": {},
   "outputs": [],
   "source": [
    "# svm.fit(X_trainpca, y_trainpca)\n",
    "# y_predsvm = svm.predict(X_testpca)\n",
    "\n",
    "# print(classification_report(y_testpca, y_predsvm))"
   ]
  },
  {
   "cell_type": "markdown",
   "metadata": {},
   "source": [
    "#### Gradient Boosting"
   ]
  },
  {
   "cell_type": "code",
   "execution_count": 91,
   "metadata": {},
   "outputs": [
    {
     "name": "stdout",
     "output_type": "stream",
     "text": [
      "              precision    recall  f1-score   support\n",
      "\n",
      "           0       0.86      1.00      0.92     49099\n",
      "           1       0.62      0.00      0.01      8326\n",
      "\n",
      "    accuracy                           0.86     57425\n",
      "   macro avg       0.74      0.50      0.47     57425\n",
      "weighted avg       0.82      0.86      0.79     57425\n",
      "\n"
     ]
    }
   ],
   "source": [
    "gb.fit(X_trainpca, y_trainpca)\n",
    "y_predgb = gb.predict(X_testpca)\n",
    "\n",
    "print(classification_report(y_testpca, y_predgb))"
   ]
  },
  {
   "cell_type": "code",
   "execution_count": 92,
   "metadata": {},
   "outputs": [
    {
     "data": {
      "image/png": "[encoded data removed]",
      "text/plain": [
       "<Figure size 432x288 with 2 Axes>"
      ]
     },
     "metadata": {
      "needs_background": "light"
     },
     "output_type": "display_data"
    }
   ],
   "source": [
    "plot_confusion_matrix(gb, X_testpca, y_testpca)  \n",
    "plt.show()"
   ]
  },
  {
   "cell_type": "markdown",
   "metadata": {},
   "source": [
    "###  Using SelectKBest, apply the model for prediction with holdout"
   ]
  },
  {
   "cell_type": "code",
   "execution_count": 98,
   "metadata": {},
   "outputs": [],
   "source": [
    "selector = SelectKBest(f_classif, k=5)\n",
    "selector.fit(X,y)\n",
    "X_SKB = selector.transform(X)"
   ]
  },
  {
   "cell_type": "code",
   "execution_count": 99,
   "metadata": {},
   "outputs": [],
   "source": [
    "X_trainskb, X_testskb, y_trainskb, y_testskb = train_test_split(X_SKB, y, test_size = 0.2)"
   ]
  },
  {
   "cell_type": "markdown",
   "metadata": {},
   "source": [
    "#### Naive Bayes"
   ]
  },
  {
   "cell_type": "code",
   "execution_count": 100,
   "metadata": {},
   "outputs": [
    {
     "name": "stdout",
     "output_type": "stream",
     "text": [
      "              precision    recall  f1-score   support\n",
      "\n",
      "           0       0.87      0.90      0.88     49118\n",
      "           1       0.25      0.20      0.23      8307\n",
      "\n",
      "    accuracy                           0.80     57425\n",
      "   macro avg       0.56      0.55      0.55     57425\n",
      "weighted avg       0.78      0.80      0.79     57425\n",
      "\n"
     ]
    }
   ],
   "source": [
    "nb.fit(X_trainskb, y_trainskb)\n",
    "y_prednb = nb.predict(X_testskb)\n",
    "\n",
    "print(classification_report(y_testskb, y_prednb))"
   ]
  },
  {
   "cell_type": "code",
   "execution_count": 101,
   "metadata": {},
   "outputs": [
    {
     "data": {
      "image/png": "[encoded data removed]",
      "text/plain": [
       "<Figure size 432x288 with 2 Axes>"
      ]
     },
     "metadata": {
      "needs_background": "light"
     },
     "output_type": "display_data"
    }
   ],
   "source": [
    "plot_confusion_matrix(nb, X_testskb, y_testskb)  \n",
    "plt.show()"
   ]
  },
  {
   "cell_type": "markdown",
   "metadata": {},
   "source": [
    "#### Logistic Regresion"
   ]
  },
  {
   "cell_type": "code",
   "execution_count": 102,
   "metadata": {},
   "outputs": [
    {
     "name": "stdout",
     "output_type": "stream",
     "text": [
      "              precision    recall  f1-score   support\n",
      "\n",
      "           0       0.86      1.00      0.92     49118\n",
      "           1       0.53      0.00      0.00      8307\n",
      "\n",
      "    accuracy                           0.86     57425\n",
      "   macro avg       0.69      0.50      0.46     57425\n",
      "weighted avg       0.81      0.86      0.79     57425\n",
      "\n"
     ]
    }
   ],
   "source": [
    "lr.fit(X_trainskb, y_trainskb)\n",
    "y_predlr = lr.predict(X_testskb)\n",
    "\n",
    "print(classification_report(y_testskb, y_predlr))"
   ]
  },
  {
   "cell_type": "code",
   "execution_count": 103,
   "metadata": {},
   "outputs": [
    {
     "data": {
      "image/png": "[encoded data removed]",
      "text/plain": [
       "<Figure size 432x288 with 2 Axes>"
      ]
     },
     "metadata": {
      "needs_background": "light"
     },
     "output_type": "display_data"
    }
   ],
   "source": [
    "plot_confusion_matrix(lr, X_testskb, y_testskb)  \n",
    "plt.show()"
   ]
  },
  {
   "cell_type": "markdown",
   "metadata": {},
   "source": [
    "#### Dicision Tree"
   ]
  },
  {
   "cell_type": "code",
   "execution_count": 104,
   "metadata": {},
   "outputs": [
    {
     "name": "stdout",
     "output_type": "stream",
     "text": [
      "              precision    recall  f1-score   support\n",
      "\n",
      "           0       0.86      0.99      0.92     49118\n",
      "           1       0.35      0.02      0.04      8307\n",
      "\n",
      "    accuracy                           0.85     57425\n",
      "   macro avg       0.60      0.51      0.48     57425\n",
      "weighted avg       0.78      0.85      0.79     57425\n",
      "\n"
     ]
    }
   ],
   "source": [
    "dt.fit(X_trainskb, y_trainskb)\n",
    "y_preddt = dt.predict(X_testskb)\n",
    "\n",
    "print(classification_report(y_testskb, y_preddt))"
   ]
  },
  {
   "cell_type": "code",
   "execution_count": 105,
   "metadata": {},
   "outputs": [
    {
     "data": {
      "image/png": "[encoded data removed]",
      "text/plain": [
       "<Figure size 432x288 with 2 Axes>"
      ]
     },
     "metadata": {
      "needs_background": "light"
     },
     "output_type": "display_data"
    }
   ],
   "source": [
    "plot_confusion_matrix(dt, X_testskb, y_testskb)  \n",
    "plt.show()"
   ]
  },
  {
   "cell_type": "markdown",
   "metadata": {},
   "source": [
    "#### Random Forest Classifier"
   ]
  },
  {
   "cell_type": "code",
   "execution_count": 106,
   "metadata": {},
   "outputs": [
    {
     "name": "stdout",
     "output_type": "stream",
     "text": [
      "              precision    recall  f1-score   support\n",
      "\n",
      "           0       0.86      0.99      0.92     49118\n",
      "           1       0.34      0.02      0.04      8307\n",
      "\n",
      "    accuracy                           0.85     57425\n",
      "   macro avg       0.60      0.51      0.48     57425\n",
      "weighted avg       0.78      0.85      0.79     57425\n",
      "\n"
     ]
    }
   ],
   "source": [
    "rf.fit(X_trainskb, y_trainskb)\n",
    "y_predrf = rf.predict(X_testskb)\n",
    "\n",
    "print(classification_report(y_testskb, y_predrf))"
   ]
  },
  {
   "cell_type": "code",
   "execution_count": 107,
   "metadata": {},
   "outputs": [
    {
     "data": {
      "image/png": "[encoded data removed]",
      "text/plain": [
       "<Figure size 432x288 with 2 Axes>"
      ]
     },
     "metadata": {
      "needs_background": "light"
     },
     "output_type": "display_data"
    }
   ],
   "source": [
    "plot_confusion_matrix(rf, X_testskb, y_testskb)  \n",
    "plt.show()"
   ]
  },
  {
   "cell_type": "markdown",
   "metadata": {},
   "source": [
    "#### Support Vector Machine"
   ]
  },
  {
   "cell_type": "code",
   "execution_count": null,
   "metadata": {},
   "outputs": [],
   "source": [
    "# svm.fit(X_trainskb, y_trainskb)\n",
    "# y_predsvm = svm.predict(X_testskb)\n",
    "\n",
    "# print(classification_report(y_testskb, y_predsvm))"
   ]
  },
  {
   "cell_type": "markdown",
   "metadata": {},
   "source": [
    "#### Gradient Boosting"
   ]
  },
  {
   "cell_type": "code",
   "execution_count": 108,
   "metadata": {},
   "outputs": [
    {
     "name": "stdout",
     "output_type": "stream",
     "text": [
      "              precision    recall  f1-score   support\n",
      "\n",
      "           0       0.86      1.00      0.92     49118\n",
      "           1       0.27      0.00      0.00      8307\n",
      "\n",
      "    accuracy                           0.86     57425\n",
      "   macro avg       0.56      0.50      0.46     57425\n",
      "weighted avg       0.77      0.86      0.79     57425\n",
      "\n"
     ]
    }
   ],
   "source": [
    "gb.fit(X_trainskb, y_trainskb)\n",
    "y_predgb = gb.predict(X_testskb)\n",
    "\n",
    "print(classification_report(y_testskb, y_predgb))"
   ]
  },
  {
   "cell_type": "code",
   "execution_count": 109,
   "metadata": {},
   "outputs": [
    {
     "data": {
      "image/png": "[encoded data removed]",
      "text/plain": [
       "<Figure size 432x288 with 2 Axes>"
      ]
     },
     "metadata": {
      "needs_background": "light"
     },
     "output_type": "display_data"
    }
   ],
   "source": [
    "plot_confusion_matrix(gb, X_testskb, y_testskb)  \n",
    "plt.show()"
   ]
  },
  {
   "cell_type": "markdown",
   "metadata": {},
   "source": [
    "###  Using RFE, apply the model for prediction with holdout"
   ]
  },
  {
   "cell_type": "code",
   "execution_count": null,
   "metadata": {},
   "outputs": [],
   "source": [
    "estimator = SVR(kernel=\"linear\")\n",
    "selector = RFE(estimator, n_features_to_select=5, step=1)\n",
    "selector = selector.fit(X, y)\n",
    "X_RFE = selector.transform(X)"
   ]
  },
  {
   "cell_type": "code",
   "execution_count": null,
   "metadata": {},
   "outputs": [],
   "source": [
    "X_trainrfe, X_testrfe, y_trainrfe, y_testrfe = train_test_split(X_RFE, y, test_size = 0.2)"
   ]
  },
  {
   "cell_type": "markdown",
   "metadata": {},
   "source": [
    "#### Naive Bayes"
   ]
  },
  {
   "cell_type": "code",
   "execution_count": null,
   "metadata": {},
   "outputs": [],
   "source": [
    "nb.fit(X_trainrfe, y_trainrfe)\n",
    "y_prednb = nb.predict(X_testrfe)\n",
    "\n",
    "print(classification_report(y_testrfe, y_prednb))"
   ]
  },
  {
   "cell_type": "code",
   "execution_count": null,
   "metadata": {},
   "outputs": [],
   "source": [
    "plot_confusion_matrix(nb, X_testrfe, y_testrfe)  \n",
    "plt.show()"
   ]
  },
  {
   "cell_type": "markdown",
   "metadata": {},
   "source": [
    "#### Logistic Regresion"
   ]
  },
  {
   "cell_type": "code",
   "execution_count": null,
   "metadata": {},
   "outputs": [],
   "source": [
    "lr.fit(X_trainrfe, y_trainrfe)\n",
    "y_predlr = lr.predict(X_testrfe)\n",
    "\n",
    "print(classification_report(y_testrfe, y_predlr))"
   ]
  },
  {
   "cell_type": "code",
   "execution_count": null,
   "metadata": {},
   "outputs": [],
   "source": [
    "plot_confusion_matrix(lr, X_testrfe, y_testrfe)  \n",
    "plt.show()"
   ]
  },
  {
   "cell_type": "markdown",
   "metadata": {},
   "source": [
    "#### Dicision Tree"
   ]
  },
  {
   "cell_type": "code",
   "execution_count": null,
   "metadata": {},
   "outputs": [],
   "source": [
    "dt.fit(X_trainrfe, y_trainrfe)\n",
    "y_preddt = dt.predict(X_testrfe)\n",
    "\n",
    "print(classification_report(y_testrfe, y_preddt))"
   ]
  },
  {
   "cell_type": "code",
   "execution_count": null,
   "metadata": {},
   "outputs": [],
   "source": [
    "plot_confusion_matrix(dt, X_testrfe, y_testrfe)  \n",
    "plt.show()"
   ]
  },
  {
   "cell_type": "markdown",
   "metadata": {},
   "source": [
    "#### Random Forest Classifier"
   ]
  },
  {
   "cell_type": "code",
   "execution_count": null,
   "metadata": {},
   "outputs": [],
   "source": [
    "rf.fit(X_trainrfe, y_trainrfe)\n",
    "y_predrf = rf.predict(X_testrfe)\n",
    "\n",
    "print(classification_report(y_testrfe, y_predrf))"
   ]
  },
  {
   "cell_type": "code",
   "execution_count": null,
   "metadata": {},
   "outputs": [],
   "source": [
    "plot_confusion_matrix(rf, X_testrfe, y_testrfe)  \n",
    "plt.show()"
   ]
  },
  {
   "cell_type": "markdown",
   "metadata": {},
   "source": [
    "#### Support Vector Machine"
   ]
  },
  {
   "cell_type": "code",
   "execution_count": null,
   "metadata": {},
   "outputs": [],
   "source": [
    "# svm.fit(X_trainrfe, y_trainrfe)\n",
    "# y_predsvm = svm.predict(X_testrfe)\n",
    "\n",
    "# print(classification_report(y_testrfe, y_predsvm))"
   ]
  },
  {
   "cell_type": "markdown",
   "metadata": {},
   "source": [
    "#### Gradient Boosting"
   ]
  },
  {
   "cell_type": "code",
   "execution_count": null,
   "metadata": {},
   "outputs": [],
   "source": [
    "gb.fit(X_trainrfe, y_trainrfe)\n",
    "y_predgb = gb.predict(X_testrfe)\n",
    "\n",
    "print(classification_report(y_testrfe, y_predgb))"
   ]
  },
  {
   "cell_type": "code",
   "execution_count": null,
   "metadata": {},
   "outputs": [],
   "source": [
    "plot_confusion_matrix(gb, X_testrfe, y_testrfe)  \n",
    "plt.show()"
   ]
  },
  {
   "cell_type": "markdown",
   "metadata": {},
   "source": [
    "###  Using GridSearchCV, apply the model for prediction with holdout"
   ]
  },
  {
   "cell_type": "code",
   "execution_count": null,
   "metadata": {},
   "outputs": [],
   "source": [
    "X_train, X_test, y_train, y_test = train_test_split(X, y, test_size = 0,2)"
   ]
  },
  {
   "cell_type": "markdown",
   "metadata": {},
   "source": [
    "#### Naive Bayes"
   ]
  },
  {
   "cell_type": "code",
   "execution_count": null,
   "metadata": {},
   "outputs": [],
   "source": [
    "grid = GridSearchCV(nb, param_grid, refit = True, verbose = 3)\n",
    "grid.fit(X_train,y_train)\n",
    "\n",
    "y_prednb = grid.predict(X_test)\n",
    "\n",
    "print(classification_report(y_test, y_prednb))"
   ]
  },
  {
   "cell_type": "markdown",
   "metadata": {},
   "source": [
    "#### Dicision Tree"
   ]
  },
  {
   "cell_type": "code",
   "execution_count": null,
   "metadata": {},
   "outputs": [],
   "source": [
    "grid = GridSearchCV(dt, param_grid, refit = True, verbose = 3)\n",
    "grid.fit(X_train,y_train)\n",
    "\n",
    "y_preddt = grid.predict(X_test)\n",
    "\n",
    "print(classification_report(y_test, y_preddt))"
   ]
  },
  {
   "cell_type": "markdown",
   "metadata": {},
   "source": [
    "#### Random Forest Classifier"
   ]
  },
  {
   "cell_type": "code",
   "execution_count": null,
   "metadata": {},
   "outputs": [],
   "source": [
    "grid = GridSearchCV(rf, param_grid, refit = True, verbose = 3)\n",
    "grid.fit(X_train,y_train)\n",
    "\n",
    "y_predrf = grid.predict(X_test)\n",
    "\n",
    "print(classification_report(y_test, y_predrf))"
   ]
  },
  {
   "cell_type": "markdown",
   "metadata": {},
   "source": [
    "#### Logistic Regresion"
   ]
  },
  {
   "cell_type": "code",
   "execution_count": null,
   "metadata": {},
   "outputs": [],
   "source": [
    "grid = GridSearchCV(lr, param_grid, refit = True, verbose = 3)\n",
    "grid.fit(X_train,y_train)\n",
    "\n",
    "y_predlr = grid.predict(X_test)\n",
    "\n",
    "print(classification_report(y_test, y_predlr))"
   ]
  },
  {
   "cell_type": "markdown",
   "metadata": {},
   "source": [
    "#### Support Vector Machine"
   ]
  },
  {
   "cell_type": "code",
   "execution_count": null,
   "metadata": {},
   "outputs": [],
   "source": [
    "# grid = GridSearchCV(svm, param_grid, refit = True, verbose = 3)\n",
    "# grid.fit(X_train,y_train)\n",
    "\n",
    "# y_predsvm = grid.predict(X_test)\n",
    "\n",
    "# print(classification_report(y_test, y_predsvm))"
   ]
  },
  {
   "cell_type": "markdown",
   "metadata": {},
   "source": [
    "#### Gradient Boosting"
   ]
  },
  {
   "cell_type": "code",
   "execution_count": null,
   "metadata": {},
   "outputs": [],
   "source": [
    "grid = GridSearchCV(gb, param_grid, refit = True, verbose = 3)\n",
    "grid.fit(X_train,y_train)\n",
    "\n",
    "y_predgb = grid.predict(X_test)\n",
    "\n",
    "print(classification_report(y_test, y_predgb))"
   ]
  }
 ],
 "metadata": {
  "kernelspec": {
   "display_name": "Python 3",
   "language": "python",
   "name": "python3"
  },
  "language_info": {
   "codemirror_mode": {
    "name": "ipython",
    "version": 3
   },
   "file_extension": ".py",
   "mimetype": "text/x-python",
   "name": "python",
   "nbconvert_exporter": "python",
   "pygments_lexer": "ipython3",
   "version": "3.8.5"
  }
 },
 "nbformat": 4,
 "nbformat_minor": 4
}
