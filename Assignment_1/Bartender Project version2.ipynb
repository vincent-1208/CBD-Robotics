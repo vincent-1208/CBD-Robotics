{
 "cells": [
  {
   "cell_type": "code",
   "execution_count": 1,
   "metadata": {},
   "outputs": [],
   "source": [
    "import pandas as pb\n",
    "import random"
   ]
  },
  {
   "cell_type": "code",
   "execution_count": 2,
   "metadata": {},
   "outputs": [],
   "source": [
    "questions = {'strong': 'Do ye like yer drinks strong?',\n",
    "            'salty': 'Do ye like it with a salty tang?',\n",
    "            'bitter': 'Are ye a lubber who likes it bitter?',\n",
    "            'sweet': 'Would ye like a bit of sweetness with yer poison?',\n",
    "            'fruity': 'Are ye one for a fruit finish?'}\n",
    "ingredients = {\"strong\": [\"glug of rum\", \"slug of whisky\", \"splash of gin\"],\n",
    "               \"salty\": [\"olive on a stick\", \"salt-dusted rim\", \"rasher of bacon\"],\n",
    "               \"bitter\": [\"shake of bitters\", \"splash of tonic\", \"twist of lemon peel\"],\n",
    "               \"sweet\": [\"sugar cube\", \"spoonful of honey\", \"spash of cola\"],\n",
    "               \"fruity\": [\"slice of orange\", \"dash of cassis\", \"cherry on top\"]}"
   ]
  },
  {
   "cell_type": "code",
   "execution_count": 3,
   "metadata": {},
   "outputs": [
    {
     "name": "stdout",
     "output_type": "stream",
     "text": [
      "strong                        Do ye like yer drinks strong?\n",
      "salty                      Do ye like it with a salty tang?\n",
      "bitter                 Are ye a lubber who likes it bitter?\n",
      "sweet     Would ye like a bit of sweetness with yer poison?\n",
      "fruity                       Are ye one for a fruit finish?\n",
      "dtype: object\n"
     ]
    },
    {
     "data": {
      "text/html": [
       "<div>\n",
       "<style scoped>\n",
       "    .dataframe tbody tr th:only-of-type {\n",
       "        vertical-align: middle;\n",
       "    }\n",
       "\n",
       "    .dataframe tbody tr th {\n",
       "        vertical-align: top;\n",
       "    }\n",
       "\n",
       "    .dataframe thead th {\n",
       "        text-align: right;\n",
       "    }\n",
       "</style>\n",
       "<table border=\"1\" class=\"dataframe\">\n",
       "  <thead>\n",
       "    <tr style=\"text-align: right;\">\n",
       "      <th></th>\n",
       "      <th>strong</th>\n",
       "      <th>salty</th>\n",
       "      <th>bitter</th>\n",
       "      <th>sweet</th>\n",
       "      <th>fruity</th>\n",
       "    </tr>\n",
       "  </thead>\n",
       "  <tbody>\n",
       "    <tr>\n",
       "      <th>0</th>\n",
       "      <td>glug of rum</td>\n",
       "      <td>olive on a stick</td>\n",
       "      <td>shake of bitters</td>\n",
       "      <td>sugar cube</td>\n",
       "      <td>slice of orange</td>\n",
       "    </tr>\n",
       "    <tr>\n",
       "      <th>1</th>\n",
       "      <td>slug of whisky</td>\n",
       "      <td>salt-dusted rim</td>\n",
       "      <td>splash of tonic</td>\n",
       "      <td>spoonful of honey</td>\n",
       "      <td>dash of cassis</td>\n",
       "    </tr>\n",
       "    <tr>\n",
       "      <th>2</th>\n",
       "      <td>splash of gin</td>\n",
       "      <td>rasher of bacon</td>\n",
       "      <td>twist of lemon peel</td>\n",
       "      <td>spash of cola</td>\n",
       "      <td>cherry on top</td>\n",
       "    </tr>\n",
       "  </tbody>\n",
       "</table>\n",
       "</div>"
      ],
      "text/plain": [
       "           strong             salty               bitter              sweet  \\\n",
       "0     glug of rum  olive on a stick     shake of bitters         sugar cube   \n",
       "1  slug of whisky   salt-dusted rim      splash of tonic  spoonful of honey   \n",
       "2   splash of gin   rasher of bacon  twist of lemon peel      spash of cola   \n",
       "\n",
       "            fruity  \n",
       "0  slice of orange  \n",
       "1   dash of cassis  \n",
       "2    cherry on top  "
      ]
     },
     "execution_count": 3,
     "metadata": {},
     "output_type": "execute_result"
    }
   ],
   "source": [
    "df1 = pb.Series(questions)\n",
    "df2 = pb.DataFrame(ingredients)\n",
    "print(df1)\n",
    "df2.head()"
   ]
  },
  {
   "cell_type": "code",
   "execution_count": 6,
   "metadata": {},
   "outputs": [],
   "source": [
    "def testAnswer(answer):\n",
    "    if answer == 'Yes':\n",
    "        return True\n",
    "    elif answer == 'No':\n",
    "        return False\n",
    "    else:\n",
    "        print(\"Only choice 'Yes' or 'No'\")\n",
    "        answer = input()\n",
    "        testAnswer(answer)"
   ]
  },
  {
   "cell_type": "code",
   "execution_count": 13,
   "metadata": {},
   "outputs": [
    {
     "name": "stdout",
     "output_type": "stream",
     "text": [
      "Choice Yes or No\n",
      "Do ye like yer drinks strong?\n",
      "Yes\n",
      "slug of whisky\n"
     ]
    }
   ],
   "source": [
    "print('Choice Yes or No')\n",
    "for i in df1.index:\n",
    "    print(df1[i])\n",
    "    answer = input()\n",
    "    if testAnswer(answer):\n",
    "        print(df2.loc[random.randrange(0,len(df2[i])), i])\n",
    "        break\n",
    "    else:\n",
    "        continue"
   ]
  },
  {
   "cell_type": "code",
   "execution_count": null,
   "metadata": {},
   "outputs": [],
   "source": []
  }
 ],
 "metadata": {
  "kernelspec": {
   "display_name": "Python 3",
   "language": "python",
   "name": "python3"
  },
  "language_info": {
   "codemirror_mode": {
    "name": "ipython",
    "version": 3
   },
   "file_extension": ".py",
   "mimetype": "text/x-python",
   "name": "python",
   "nbconvert_exporter": "python",
   "pygments_lexer": "ipython3",
   "version": "3.8.5"
  }
 },
 "nbformat": 4,
 "nbformat_minor": 4
}
